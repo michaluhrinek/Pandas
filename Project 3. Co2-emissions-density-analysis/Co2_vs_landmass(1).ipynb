{
 "cells": [
  {
   "cell_type": "markdown",
   "id": "c204bf79-0b1e-443f-9597-8d3f02dd643d",
   "metadata": {},
   "source": [
    "CO2 per Landmass"
   ]
  },
  {
   "cell_type": "markdown",
   "id": "8ba4f869-993f-4a9d-bb21-24361b2c293f",
   "metadata": {},
   "source": [
    "Import libraries "
   ]
  },
  {
   "cell_type": "code",
   "execution_count": 12,
   "id": "80d2ad64-88c8-4ccf-b642-e9f0747d3869",
   "metadata": {},
   "outputs": [],
   "source": [
    "import pandas as pd "
   ]
  },
  {
   "cell_type": "markdown",
   "id": "20982a6c-4e00-4828-9d96-d93c224a3033",
   "metadata": {},
   "source": [
    "Load dataset "
   ]
  },
  {
   "cell_type": "code",
   "execution_count": 13,
   "id": "6e7b0ca4-05e1-4e53-9661-344139c036f6",
   "metadata": {},
   "outputs": [],
   "source": [
    "land_df = pd.read_csv('data.csv')"
   ]
  },
  {
   "cell_type": "code",
   "execution_count": 14,
   "id": "9b69ecc9-2cb2-409d-85f0-7222eb66cdc4",
   "metadata": {},
   "outputs": [
    {
     "data": {
      "text/html": [
       "<div>\n",
       "<style scoped>\n",
       "    .dataframe tbody tr th:only-of-type {\n",
       "        vertical-align: middle;\n",
       "    }\n",
       "\n",
       "    .dataframe tbody tr th {\n",
       "        vertical-align: top;\n",
       "    }\n",
       "\n",
       "    .dataframe thead th {\n",
       "        text-align: right;\n",
       "    }\n",
       "</style>\n",
       "<table border=\"1\" class=\"dataframe\">\n",
       "  <thead>\n",
       "    <tr style=\"text-align: right;\">\n",
       "      <th></th>\n",
       "      <th>place</th>\n",
       "      <th>pop2023</th>\n",
       "      <th>growthRate</th>\n",
       "      <th>area</th>\n",
       "      <th>country</th>\n",
       "      <th>cca3</th>\n",
       "      <th>cca2</th>\n",
       "      <th>ccn3</th>\n",
       "      <th>region</th>\n",
       "      <th>subregion</th>\n",
       "      <th>landAreaKm</th>\n",
       "      <th>density</th>\n",
       "      <th>densityMi</th>\n",
       "      <th>Rank</th>\n",
       "      <th>rank</th>\n",
       "    </tr>\n",
       "  </thead>\n",
       "  <tbody>\n",
       "    <tr>\n",
       "      <th>0</th>\n",
       "      <td>643</td>\n",
       "      <td>1.444444e+08</td>\n",
       "      <td>-0.00186</td>\n",
       "      <td>17098242.00</td>\n",
       "      <td>Russia</td>\n",
       "      <td>RUS</td>\n",
       "      <td>RU</td>\n",
       "      <td>643</td>\n",
       "      <td>Europe</td>\n",
       "      <td>Eastern Europe</td>\n",
       "      <td>16376870.00</td>\n",
       "      <td>8.8200</td>\n",
       "      <td>22.8439</td>\n",
       "      <td>9</td>\n",
       "      <td>1</td>\n",
       "    </tr>\n",
       "    <tr>\n",
       "      <th>1</th>\n",
       "      <td>124</td>\n",
       "      <td>3.878129e+07</td>\n",
       "      <td>0.00850</td>\n",
       "      <td>9984670.00</td>\n",
       "      <td>Canada</td>\n",
       "      <td>CAN</td>\n",
       "      <td>CA</td>\n",
       "      <td>124</td>\n",
       "      <td>North America</td>\n",
       "      <td>Northern America</td>\n",
       "      <td>8965590.00</td>\n",
       "      <td>4.3256</td>\n",
       "      <td>11.2032</td>\n",
       "      <td>38</td>\n",
       "      <td>2</td>\n",
       "    </tr>\n",
       "    <tr>\n",
       "      <th>2</th>\n",
       "      <td>156</td>\n",
       "      <td>1.425671e+09</td>\n",
       "      <td>-0.00015</td>\n",
       "      <td>9706961.00</td>\n",
       "      <td>China</td>\n",
       "      <td>CHN</td>\n",
       "      <td>CN</td>\n",
       "      <td>156</td>\n",
       "      <td>Asia</td>\n",
       "      <td>Eastern Asia</td>\n",
       "      <td>9424702.90</td>\n",
       "      <td>151.2696</td>\n",
       "      <td>391.7884</td>\n",
       "      <td>2</td>\n",
       "      <td>3</td>\n",
       "    </tr>\n",
       "    <tr>\n",
       "      <th>3</th>\n",
       "      <td>840</td>\n",
       "      <td>3.399966e+08</td>\n",
       "      <td>0.00505</td>\n",
       "      <td>9372610.00</td>\n",
       "      <td>United States</td>\n",
       "      <td>USA</td>\n",
       "      <td>US</td>\n",
       "      <td>840</td>\n",
       "      <td>North America</td>\n",
       "      <td>Northern America</td>\n",
       "      <td>9147420.00</td>\n",
       "      <td>37.1686</td>\n",
       "      <td>96.2666</td>\n",
       "      <td>3</td>\n",
       "      <td>4</td>\n",
       "    </tr>\n",
       "    <tr>\n",
       "      <th>4</th>\n",
       "      <td>76</td>\n",
       "      <td>2.164224e+08</td>\n",
       "      <td>0.00515</td>\n",
       "      <td>8515767.00</td>\n",
       "      <td>Brazil</td>\n",
       "      <td>BRA</td>\n",
       "      <td>BR</td>\n",
       "      <td>76</td>\n",
       "      <td>South America</td>\n",
       "      <td>South America, Latin America</td>\n",
       "      <td>8358140.00</td>\n",
       "      <td>25.8936</td>\n",
       "      <td>67.0645</td>\n",
       "      <td>7</td>\n",
       "      <td>5</td>\n",
       "    </tr>\n",
       "    <tr>\n",
       "      <th>...</th>\n",
       "      <td>...</td>\n",
       "      <td>...</td>\n",
       "      <td>...</td>\n",
       "      <td>...</td>\n",
       "      <td>...</td>\n",
       "      <td>...</td>\n",
       "      <td>...</td>\n",
       "      <td>...</td>\n",
       "      <td>...</td>\n",
       "      <td>...</td>\n",
       "      <td>...</td>\n",
       "      <td>...</td>\n",
       "      <td>...</td>\n",
       "      <td>...</td>\n",
       "      <td>...</td>\n",
       "    </tr>\n",
       "    <tr>\n",
       "      <th>229</th>\n",
       "      <td>652</td>\n",
       "      <td>1.099400e+04</td>\n",
       "      <td>0.00246</td>\n",
       "      <td>21.00</td>\n",
       "      <td>Saint Barthelemy</td>\n",
       "      <td>BLM</td>\n",
       "      <td>BL</td>\n",
       "      <td>652</td>\n",
       "      <td>North America</td>\n",
       "      <td>Caribbean, Latin America</td>\n",
       "      <td>25.00</td>\n",
       "      <td>439.7600</td>\n",
       "      <td>1138.9784</td>\n",
       "      <td>228</td>\n",
       "      <td>230</td>\n",
       "    </tr>\n",
       "    <tr>\n",
       "      <th>230</th>\n",
       "      <td>772</td>\n",
       "      <td>1.893000e+03</td>\n",
       "      <td>0.01176</td>\n",
       "      <td>12.00</td>\n",
       "      <td>Tokelau</td>\n",
       "      <td>TKL</td>\n",
       "      <td>TK</td>\n",
       "      <td>772</td>\n",
       "      <td>Oceania</td>\n",
       "      <td>Polynesia</td>\n",
       "      <td>10.00</td>\n",
       "      <td>189.3000</td>\n",
       "      <td>490.2870</td>\n",
       "      <td>233</td>\n",
       "      <td>231</td>\n",
       "    </tr>\n",
       "    <tr>\n",
       "      <th>231</th>\n",
       "      <td>292</td>\n",
       "      <td>3.268800e+04</td>\n",
       "      <td>0.00120</td>\n",
       "      <td>6.80</td>\n",
       "      <td>Gibraltar</td>\n",
       "      <td>GIB</td>\n",
       "      <td>GI</td>\n",
       "      <td>292</td>\n",
       "      <td>Europe</td>\n",
       "      <td>Southern Europe</td>\n",
       "      <td>6.80</td>\n",
       "      <td>4807.0588</td>\n",
       "      <td>12450.2824</td>\n",
       "      <td>219</td>\n",
       "      <td>232</td>\n",
       "    </tr>\n",
       "    <tr>\n",
       "      <th>232</th>\n",
       "      <td>492</td>\n",
       "      <td>3.629700e+04</td>\n",
       "      <td>-0.00472</td>\n",
       "      <td>2.02</td>\n",
       "      <td>Monaco</td>\n",
       "      <td>MCO</td>\n",
       "      <td>MC</td>\n",
       "      <td>492</td>\n",
       "      <td>Europe</td>\n",
       "      <td>Western Europe</td>\n",
       "      <td>2.00</td>\n",
       "      <td>18148.5000</td>\n",
       "      <td>47004.6150</td>\n",
       "      <td>217</td>\n",
       "      <td>233</td>\n",
       "    </tr>\n",
       "    <tr>\n",
       "      <th>233</th>\n",
       "      <td>336</td>\n",
       "      <td>5.180000e+02</td>\n",
       "      <td>0.01569</td>\n",
       "      <td>0.44</td>\n",
       "      <td>Vatican City</td>\n",
       "      <td>VAT</td>\n",
       "      <td>VA</td>\n",
       "      <td>336</td>\n",
       "      <td>Europe</td>\n",
       "      <td>Southern Europe</td>\n",
       "      <td>0.44</td>\n",
       "      <td>1177.2727</td>\n",
       "      <td>3049.1364</td>\n",
       "      <td>234</td>\n",
       "      <td>234</td>\n",
       "    </tr>\n",
       "  </tbody>\n",
       "</table>\n",
       "<p>234 rows × 15 columns</p>\n",
       "</div>"
      ],
      "text/plain": [
       "     place       pop2023  growthRate         area           country cca3 cca2  \\\n",
       "0      643  1.444444e+08    -0.00186  17098242.00            Russia  RUS   RU   \n",
       "1      124  3.878129e+07     0.00850   9984670.00            Canada  CAN   CA   \n",
       "2      156  1.425671e+09    -0.00015   9706961.00             China  CHN   CN   \n",
       "3      840  3.399966e+08     0.00505   9372610.00     United States  USA   US   \n",
       "4       76  2.164224e+08     0.00515   8515767.00            Brazil  BRA   BR   \n",
       "..     ...           ...         ...          ...               ...  ...  ...   \n",
       "229    652  1.099400e+04     0.00246        21.00  Saint Barthelemy  BLM   BL   \n",
       "230    772  1.893000e+03     0.01176        12.00           Tokelau  TKL   TK   \n",
       "231    292  3.268800e+04     0.00120         6.80         Gibraltar  GIB   GI   \n",
       "232    492  3.629700e+04    -0.00472         2.02            Monaco  MCO   MC   \n",
       "233    336  5.180000e+02     0.01569         0.44      Vatican City  VAT   VA   \n",
       "\n",
       "     ccn3         region                     subregion   landAreaKm  \\\n",
       "0     643         Europe                Eastern Europe  16376870.00   \n",
       "1     124  North America              Northern America   8965590.00   \n",
       "2     156           Asia                  Eastern Asia   9424702.90   \n",
       "3     840  North America              Northern America   9147420.00   \n",
       "4      76  South America  South America, Latin America   8358140.00   \n",
       "..    ...            ...                           ...          ...   \n",
       "229   652  North America      Caribbean, Latin America        25.00   \n",
       "230   772        Oceania                     Polynesia        10.00   \n",
       "231   292         Europe               Southern Europe         6.80   \n",
       "232   492         Europe                Western Europe         2.00   \n",
       "233   336         Europe               Southern Europe         0.44   \n",
       "\n",
       "        density   densityMi  Rank  rank  \n",
       "0        8.8200     22.8439     9     1  \n",
       "1        4.3256     11.2032    38     2  \n",
       "2      151.2696    391.7884     2     3  \n",
       "3       37.1686     96.2666     3     4  \n",
       "4       25.8936     67.0645     7     5  \n",
       "..          ...         ...   ...   ...  \n",
       "229    439.7600   1138.9784   228   230  \n",
       "230    189.3000    490.2870   233   231  \n",
       "231   4807.0588  12450.2824   219   232  \n",
       "232  18148.5000  47004.6150   217   233  \n",
       "233   1177.2727   3049.1364   234   234  \n",
       "\n",
       "[234 rows x 15 columns]"
      ]
     },
     "execution_count": 14,
     "metadata": {},
     "output_type": "execute_result"
    }
   ],
   "source": [
    "land_df"
   ]
  },
  {
   "cell_type": "markdown",
   "id": "6ae74d1d-cfb8-46e6-b54c-82a715b198da",
   "metadata": {},
   "source": [
    "drop column place"
   ]
  },
  {
   "cell_type": "code",
   "execution_count": 15,
   "id": "f63b8b32-3dec-4b40-a854-578913583e43",
   "metadata": {},
   "outputs": [],
   "source": [
    "land_df.drop(columns=['place'], axis=1, inplace=True)"
   ]
  },
  {
   "cell_type": "code",
   "execution_count": 16,
   "id": "bef8ea05-e9ba-4535-8c6d-d93a51ecdc81",
   "metadata": {},
   "outputs": [
    {
     "data": {
      "text/html": [
       "<div>\n",
       "<style scoped>\n",
       "    .dataframe tbody tr th:only-of-type {\n",
       "        vertical-align: middle;\n",
       "    }\n",
       "\n",
       "    .dataframe tbody tr th {\n",
       "        vertical-align: top;\n",
       "    }\n",
       "\n",
       "    .dataframe thead th {\n",
       "        text-align: right;\n",
       "    }\n",
       "</style>\n",
       "<table border=\"1\" class=\"dataframe\">\n",
       "  <thead>\n",
       "    <tr style=\"text-align: right;\">\n",
       "      <th></th>\n",
       "      <th>pop2023</th>\n",
       "      <th>growthRate</th>\n",
       "      <th>area</th>\n",
       "      <th>country</th>\n",
       "      <th>cca3</th>\n",
       "      <th>cca2</th>\n",
       "      <th>ccn3</th>\n",
       "      <th>region</th>\n",
       "      <th>subregion</th>\n",
       "      <th>landAreaKm</th>\n",
       "      <th>density</th>\n",
       "      <th>densityMi</th>\n",
       "      <th>Rank</th>\n",
       "      <th>rank</th>\n",
       "    </tr>\n",
       "  </thead>\n",
       "  <tbody>\n",
       "    <tr>\n",
       "      <th>0</th>\n",
       "      <td>1.444444e+08</td>\n",
       "      <td>-0.00186</td>\n",
       "      <td>17098242.00</td>\n",
       "      <td>Russia</td>\n",
       "      <td>RUS</td>\n",
       "      <td>RU</td>\n",
       "      <td>643</td>\n",
       "      <td>Europe</td>\n",
       "      <td>Eastern Europe</td>\n",
       "      <td>16376870.00</td>\n",
       "      <td>8.8200</td>\n",
       "      <td>22.8439</td>\n",
       "      <td>9</td>\n",
       "      <td>1</td>\n",
       "    </tr>\n",
       "    <tr>\n",
       "      <th>1</th>\n",
       "      <td>3.878129e+07</td>\n",
       "      <td>0.00850</td>\n",
       "      <td>9984670.00</td>\n",
       "      <td>Canada</td>\n",
       "      <td>CAN</td>\n",
       "      <td>CA</td>\n",
       "      <td>124</td>\n",
       "      <td>North America</td>\n",
       "      <td>Northern America</td>\n",
       "      <td>8965590.00</td>\n",
       "      <td>4.3256</td>\n",
       "      <td>11.2032</td>\n",
       "      <td>38</td>\n",
       "      <td>2</td>\n",
       "    </tr>\n",
       "    <tr>\n",
       "      <th>2</th>\n",
       "      <td>1.425671e+09</td>\n",
       "      <td>-0.00015</td>\n",
       "      <td>9706961.00</td>\n",
       "      <td>China</td>\n",
       "      <td>CHN</td>\n",
       "      <td>CN</td>\n",
       "      <td>156</td>\n",
       "      <td>Asia</td>\n",
       "      <td>Eastern Asia</td>\n",
       "      <td>9424702.90</td>\n",
       "      <td>151.2696</td>\n",
       "      <td>391.7884</td>\n",
       "      <td>2</td>\n",
       "      <td>3</td>\n",
       "    </tr>\n",
       "    <tr>\n",
       "      <th>3</th>\n",
       "      <td>3.399966e+08</td>\n",
       "      <td>0.00505</td>\n",
       "      <td>9372610.00</td>\n",
       "      <td>United States</td>\n",
       "      <td>USA</td>\n",
       "      <td>US</td>\n",
       "      <td>840</td>\n",
       "      <td>North America</td>\n",
       "      <td>Northern America</td>\n",
       "      <td>9147420.00</td>\n",
       "      <td>37.1686</td>\n",
       "      <td>96.2666</td>\n",
       "      <td>3</td>\n",
       "      <td>4</td>\n",
       "    </tr>\n",
       "    <tr>\n",
       "      <th>4</th>\n",
       "      <td>2.164224e+08</td>\n",
       "      <td>0.00515</td>\n",
       "      <td>8515767.00</td>\n",
       "      <td>Brazil</td>\n",
       "      <td>BRA</td>\n",
       "      <td>BR</td>\n",
       "      <td>76</td>\n",
       "      <td>South America</td>\n",
       "      <td>South America, Latin America</td>\n",
       "      <td>8358140.00</td>\n",
       "      <td>25.8936</td>\n",
       "      <td>67.0645</td>\n",
       "      <td>7</td>\n",
       "      <td>5</td>\n",
       "    </tr>\n",
       "    <tr>\n",
       "      <th>...</th>\n",
       "      <td>...</td>\n",
       "      <td>...</td>\n",
       "      <td>...</td>\n",
       "      <td>...</td>\n",
       "      <td>...</td>\n",
       "      <td>...</td>\n",
       "      <td>...</td>\n",
       "      <td>...</td>\n",
       "      <td>...</td>\n",
       "      <td>...</td>\n",
       "      <td>...</td>\n",
       "      <td>...</td>\n",
       "      <td>...</td>\n",
       "      <td>...</td>\n",
       "    </tr>\n",
       "    <tr>\n",
       "      <th>229</th>\n",
       "      <td>1.099400e+04</td>\n",
       "      <td>0.00246</td>\n",
       "      <td>21.00</td>\n",
       "      <td>Saint Barthelemy</td>\n",
       "      <td>BLM</td>\n",
       "      <td>BL</td>\n",
       "      <td>652</td>\n",
       "      <td>North America</td>\n",
       "      <td>Caribbean, Latin America</td>\n",
       "      <td>25.00</td>\n",
       "      <td>439.7600</td>\n",
       "      <td>1138.9784</td>\n",
       "      <td>228</td>\n",
       "      <td>230</td>\n",
       "    </tr>\n",
       "    <tr>\n",
       "      <th>230</th>\n",
       "      <td>1.893000e+03</td>\n",
       "      <td>0.01176</td>\n",
       "      <td>12.00</td>\n",
       "      <td>Tokelau</td>\n",
       "      <td>TKL</td>\n",
       "      <td>TK</td>\n",
       "      <td>772</td>\n",
       "      <td>Oceania</td>\n",
       "      <td>Polynesia</td>\n",
       "      <td>10.00</td>\n",
       "      <td>189.3000</td>\n",
       "      <td>490.2870</td>\n",
       "      <td>233</td>\n",
       "      <td>231</td>\n",
       "    </tr>\n",
       "    <tr>\n",
       "      <th>231</th>\n",
       "      <td>3.268800e+04</td>\n",
       "      <td>0.00120</td>\n",
       "      <td>6.80</td>\n",
       "      <td>Gibraltar</td>\n",
       "      <td>GIB</td>\n",
       "      <td>GI</td>\n",
       "      <td>292</td>\n",
       "      <td>Europe</td>\n",
       "      <td>Southern Europe</td>\n",
       "      <td>6.80</td>\n",
       "      <td>4807.0588</td>\n",
       "      <td>12450.2824</td>\n",
       "      <td>219</td>\n",
       "      <td>232</td>\n",
       "    </tr>\n",
       "    <tr>\n",
       "      <th>232</th>\n",
       "      <td>3.629700e+04</td>\n",
       "      <td>-0.00472</td>\n",
       "      <td>2.02</td>\n",
       "      <td>Monaco</td>\n",
       "      <td>MCO</td>\n",
       "      <td>MC</td>\n",
       "      <td>492</td>\n",
       "      <td>Europe</td>\n",
       "      <td>Western Europe</td>\n",
       "      <td>2.00</td>\n",
       "      <td>18148.5000</td>\n",
       "      <td>47004.6150</td>\n",
       "      <td>217</td>\n",
       "      <td>233</td>\n",
       "    </tr>\n",
       "    <tr>\n",
       "      <th>233</th>\n",
       "      <td>5.180000e+02</td>\n",
       "      <td>0.01569</td>\n",
       "      <td>0.44</td>\n",
       "      <td>Vatican City</td>\n",
       "      <td>VAT</td>\n",
       "      <td>VA</td>\n",
       "      <td>336</td>\n",
       "      <td>Europe</td>\n",
       "      <td>Southern Europe</td>\n",
       "      <td>0.44</td>\n",
       "      <td>1177.2727</td>\n",
       "      <td>3049.1364</td>\n",
       "      <td>234</td>\n",
       "      <td>234</td>\n",
       "    </tr>\n",
       "  </tbody>\n",
       "</table>\n",
       "<p>234 rows × 14 columns</p>\n",
       "</div>"
      ],
      "text/plain": [
       "          pop2023  growthRate         area           country cca3 cca2  ccn3  \\\n",
       "0    1.444444e+08    -0.00186  17098242.00            Russia  RUS   RU   643   \n",
       "1    3.878129e+07     0.00850   9984670.00            Canada  CAN   CA   124   \n",
       "2    1.425671e+09    -0.00015   9706961.00             China  CHN   CN   156   \n",
       "3    3.399966e+08     0.00505   9372610.00     United States  USA   US   840   \n",
       "4    2.164224e+08     0.00515   8515767.00            Brazil  BRA   BR    76   \n",
       "..            ...         ...          ...               ...  ...  ...   ...   \n",
       "229  1.099400e+04     0.00246        21.00  Saint Barthelemy  BLM   BL   652   \n",
       "230  1.893000e+03     0.01176        12.00           Tokelau  TKL   TK   772   \n",
       "231  3.268800e+04     0.00120         6.80         Gibraltar  GIB   GI   292   \n",
       "232  3.629700e+04    -0.00472         2.02            Monaco  MCO   MC   492   \n",
       "233  5.180000e+02     0.01569         0.44      Vatican City  VAT   VA   336   \n",
       "\n",
       "            region                     subregion   landAreaKm     density  \\\n",
       "0           Europe                Eastern Europe  16376870.00      8.8200   \n",
       "1    North America              Northern America   8965590.00      4.3256   \n",
       "2             Asia                  Eastern Asia   9424702.90    151.2696   \n",
       "3    North America              Northern America   9147420.00     37.1686   \n",
       "4    South America  South America, Latin America   8358140.00     25.8936   \n",
       "..             ...                           ...          ...         ...   \n",
       "229  North America      Caribbean, Latin America        25.00    439.7600   \n",
       "230        Oceania                     Polynesia        10.00    189.3000   \n",
       "231         Europe               Southern Europe         6.80   4807.0588   \n",
       "232         Europe                Western Europe         2.00  18148.5000   \n",
       "233         Europe               Southern Europe         0.44   1177.2727   \n",
       "\n",
       "      densityMi  Rank  rank  \n",
       "0       22.8439     9     1  \n",
       "1       11.2032    38     2  \n",
       "2      391.7884     2     3  \n",
       "3       96.2666     3     4  \n",
       "4       67.0645     7     5  \n",
       "..          ...   ...   ...  \n",
       "229   1138.9784   228   230  \n",
       "230    490.2870   233   231  \n",
       "231  12450.2824   219   232  \n",
       "232  47004.6150   217   233  \n",
       "233   3049.1364   234   234  \n",
       "\n",
       "[234 rows x 14 columns]"
      ]
     },
     "execution_count": 16,
     "metadata": {},
     "output_type": "execute_result"
    }
   ],
   "source": [
    "land_df"
   ]
  },
  {
   "cell_type": "markdown",
   "id": "bb30fa51-dbba-4d60-bbb5-5680da0b8a45",
   "metadata": {},
   "source": [
    "Drop columns from dataset which are not needed"
   ]
  },
  {
   "cell_type": "code",
   "execution_count": 17,
   "id": "c49442a6-0e37-4301-9bb6-34f614458701",
   "metadata": {},
   "outputs": [],
   "source": [
    "land_df.drop(columns=['pop2023', 'growthRate', 'area','cca3','cca2','ccn3','densityMi','Rank','rank'], axis=1, inplace=True)"
   ]
  },
  {
   "cell_type": "code",
   "execution_count": 18,
   "id": "033279ae-9167-4893-afef-d2c9b0bfdd1a",
   "metadata": {},
   "outputs": [
    {
     "data": {
      "text/html": [
       "<div>\n",
       "<style scoped>\n",
       "    .dataframe tbody tr th:only-of-type {\n",
       "        vertical-align: middle;\n",
       "    }\n",
       "\n",
       "    .dataframe tbody tr th {\n",
       "        vertical-align: top;\n",
       "    }\n",
       "\n",
       "    .dataframe thead th {\n",
       "        text-align: right;\n",
       "    }\n",
       "</style>\n",
       "<table border=\"1\" class=\"dataframe\">\n",
       "  <thead>\n",
       "    <tr style=\"text-align: right;\">\n",
       "      <th></th>\n",
       "      <th>country</th>\n",
       "      <th>region</th>\n",
       "      <th>subregion</th>\n",
       "      <th>landAreaKm</th>\n",
       "      <th>density</th>\n",
       "    </tr>\n",
       "  </thead>\n",
       "  <tbody>\n",
       "    <tr>\n",
       "      <th>0</th>\n",
       "      <td>Russia</td>\n",
       "      <td>Europe</td>\n",
       "      <td>Eastern Europe</td>\n",
       "      <td>16376870.00</td>\n",
       "      <td>8.8200</td>\n",
       "    </tr>\n",
       "    <tr>\n",
       "      <th>1</th>\n",
       "      <td>Canada</td>\n",
       "      <td>North America</td>\n",
       "      <td>Northern America</td>\n",
       "      <td>8965590.00</td>\n",
       "      <td>4.3256</td>\n",
       "    </tr>\n",
       "    <tr>\n",
       "      <th>2</th>\n",
       "      <td>China</td>\n",
       "      <td>Asia</td>\n",
       "      <td>Eastern Asia</td>\n",
       "      <td>9424702.90</td>\n",
       "      <td>151.2696</td>\n",
       "    </tr>\n",
       "    <tr>\n",
       "      <th>3</th>\n",
       "      <td>United States</td>\n",
       "      <td>North America</td>\n",
       "      <td>Northern America</td>\n",
       "      <td>9147420.00</td>\n",
       "      <td>37.1686</td>\n",
       "    </tr>\n",
       "    <tr>\n",
       "      <th>4</th>\n",
       "      <td>Brazil</td>\n",
       "      <td>South America</td>\n",
       "      <td>South America, Latin America</td>\n",
       "      <td>8358140.00</td>\n",
       "      <td>25.8936</td>\n",
       "    </tr>\n",
       "    <tr>\n",
       "      <th>...</th>\n",
       "      <td>...</td>\n",
       "      <td>...</td>\n",
       "      <td>...</td>\n",
       "      <td>...</td>\n",
       "      <td>...</td>\n",
       "    </tr>\n",
       "    <tr>\n",
       "      <th>229</th>\n",
       "      <td>Saint Barthelemy</td>\n",
       "      <td>North America</td>\n",
       "      <td>Caribbean, Latin America</td>\n",
       "      <td>25.00</td>\n",
       "      <td>439.7600</td>\n",
       "    </tr>\n",
       "    <tr>\n",
       "      <th>230</th>\n",
       "      <td>Tokelau</td>\n",
       "      <td>Oceania</td>\n",
       "      <td>Polynesia</td>\n",
       "      <td>10.00</td>\n",
       "      <td>189.3000</td>\n",
       "    </tr>\n",
       "    <tr>\n",
       "      <th>231</th>\n",
       "      <td>Gibraltar</td>\n",
       "      <td>Europe</td>\n",
       "      <td>Southern Europe</td>\n",
       "      <td>6.80</td>\n",
       "      <td>4807.0588</td>\n",
       "    </tr>\n",
       "    <tr>\n",
       "      <th>232</th>\n",
       "      <td>Monaco</td>\n",
       "      <td>Europe</td>\n",
       "      <td>Western Europe</td>\n",
       "      <td>2.00</td>\n",
       "      <td>18148.5000</td>\n",
       "    </tr>\n",
       "    <tr>\n",
       "      <th>233</th>\n",
       "      <td>Vatican City</td>\n",
       "      <td>Europe</td>\n",
       "      <td>Southern Europe</td>\n",
       "      <td>0.44</td>\n",
       "      <td>1177.2727</td>\n",
       "    </tr>\n",
       "  </tbody>\n",
       "</table>\n",
       "<p>234 rows × 5 columns</p>\n",
       "</div>"
      ],
      "text/plain": [
       "              country         region                     subregion  \\\n",
       "0              Russia         Europe                Eastern Europe   \n",
       "1              Canada  North America              Northern America   \n",
       "2               China           Asia                  Eastern Asia   \n",
       "3       United States  North America              Northern America   \n",
       "4              Brazil  South America  South America, Latin America   \n",
       "..                ...            ...                           ...   \n",
       "229  Saint Barthelemy  North America      Caribbean, Latin America   \n",
       "230           Tokelau        Oceania                     Polynesia   \n",
       "231         Gibraltar         Europe               Southern Europe   \n",
       "232            Monaco         Europe                Western Europe   \n",
       "233      Vatican City         Europe               Southern Europe   \n",
       "\n",
       "      landAreaKm     density  \n",
       "0    16376870.00      8.8200  \n",
       "1     8965590.00      4.3256  \n",
       "2     9424702.90    151.2696  \n",
       "3     9147420.00     37.1686  \n",
       "4     8358140.00     25.8936  \n",
       "..           ...         ...  \n",
       "229        25.00    439.7600  \n",
       "230        10.00    189.3000  \n",
       "231         6.80   4807.0588  \n",
       "232         2.00  18148.5000  \n",
       "233         0.44   1177.2727  \n",
       "\n",
       "[234 rows x 5 columns]"
      ]
     },
     "execution_count": 18,
     "metadata": {},
     "output_type": "execute_result"
    }
   ],
   "source": [
    "land_df"
   ]
  },
  {
   "cell_type": "code",
   "execution_count": 53,
   "id": "10b6fd9e-07dd-4ea6-ac2e-8b1a73fa9b2e",
   "metadata": {},
   "outputs": [],
   "source": [
    "filtered_df = land_df[[\"country\", \"landAreaKm\"]]"
   ]
  },
  {
   "cell_type": "code",
   "execution_count": 54,
   "id": "94d79f32-9f0c-4694-8337-d2602f6345d8",
   "metadata": {},
   "outputs": [
    {
     "data": {
      "text/html": [
       "<div>\n",
       "<style scoped>\n",
       "    .dataframe tbody tr th:only-of-type {\n",
       "        vertical-align: middle;\n",
       "    }\n",
       "\n",
       "    .dataframe tbody tr th {\n",
       "        vertical-align: top;\n",
       "    }\n",
       "\n",
       "    .dataframe thead th {\n",
       "        text-align: right;\n",
       "    }\n",
       "</style>\n",
       "<table border=\"1\" class=\"dataframe\">\n",
       "  <thead>\n",
       "    <tr style=\"text-align: right;\">\n",
       "      <th></th>\n",
       "      <th>country</th>\n",
       "      <th>landAreaKm</th>\n",
       "    </tr>\n",
       "  </thead>\n",
       "  <tbody>\n",
       "    <tr>\n",
       "      <th>0</th>\n",
       "      <td>Russia</td>\n",
       "      <td>16376870.00</td>\n",
       "    </tr>\n",
       "    <tr>\n",
       "      <th>1</th>\n",
       "      <td>Canada</td>\n",
       "      <td>8965590.00</td>\n",
       "    </tr>\n",
       "    <tr>\n",
       "      <th>2</th>\n",
       "      <td>China</td>\n",
       "      <td>9424702.90</td>\n",
       "    </tr>\n",
       "    <tr>\n",
       "      <th>3</th>\n",
       "      <td>United States</td>\n",
       "      <td>9147420.00</td>\n",
       "    </tr>\n",
       "    <tr>\n",
       "      <th>4</th>\n",
       "      <td>Brazil</td>\n",
       "      <td>8358140.00</td>\n",
       "    </tr>\n",
       "    <tr>\n",
       "      <th>...</th>\n",
       "      <td>...</td>\n",
       "      <td>...</td>\n",
       "    </tr>\n",
       "    <tr>\n",
       "      <th>229</th>\n",
       "      <td>Saint Barthelemy</td>\n",
       "      <td>25.00</td>\n",
       "    </tr>\n",
       "    <tr>\n",
       "      <th>230</th>\n",
       "      <td>Tokelau</td>\n",
       "      <td>10.00</td>\n",
       "    </tr>\n",
       "    <tr>\n",
       "      <th>231</th>\n",
       "      <td>Gibraltar</td>\n",
       "      <td>6.80</td>\n",
       "    </tr>\n",
       "    <tr>\n",
       "      <th>232</th>\n",
       "      <td>Monaco</td>\n",
       "      <td>2.00</td>\n",
       "    </tr>\n",
       "    <tr>\n",
       "      <th>233</th>\n",
       "      <td>Vatican City</td>\n",
       "      <td>0.44</td>\n",
       "    </tr>\n",
       "  </tbody>\n",
       "</table>\n",
       "<p>234 rows × 2 columns</p>\n",
       "</div>"
      ],
      "text/plain": [
       "              country   landAreaKm\n",
       "0              Russia  16376870.00\n",
       "1              Canada   8965590.00\n",
       "2               China   9424702.90\n",
       "3       United States   9147420.00\n",
       "4              Brazil   8358140.00\n",
       "..                ...          ...\n",
       "229  Saint Barthelemy        25.00\n",
       "230           Tokelau        10.00\n",
       "231         Gibraltar         6.80\n",
       "232            Monaco         2.00\n",
       "233      Vatican City         0.44\n",
       "\n",
       "[234 rows x 2 columns]"
      ]
     },
     "execution_count": 54,
     "metadata": {},
     "output_type": "execute_result"
    }
   ],
   "source": [
    "filtered_df"
   ]
  },
  {
   "cell_type": "code",
   "execution_count": 51,
   "id": "51ab4e9b-7d43-4817-bcd8-e09fcf74f7e1",
   "metadata": {},
   "outputs": [],
   "source": [
    "year_df = pd.read_csv(\"co2data.csv\")"
   ]
  },
  {
   "cell_type": "code",
   "execution_count": 52,
   "id": "5e25bdde-01b4-4a24-b4e9-3362b27a01db",
   "metadata": {},
   "outputs": [
    {
     "data": {
      "text/html": [
       "<div>\n",
       "<style scoped>\n",
       "    .dataframe tbody tr th:only-of-type {\n",
       "        vertical-align: middle;\n",
       "    }\n",
       "\n",
       "    .dataframe tbody tr th {\n",
       "        vertical-align: top;\n",
       "    }\n",
       "\n",
       "    .dataframe thead th {\n",
       "        text-align: right;\n",
       "    }\n",
       "</style>\n",
       "<table border=\"1\" class=\"dataframe\">\n",
       "  <thead>\n",
       "    <tr style=\"text-align: right;\">\n",
       "      <th></th>\n",
       "      <th>country</th>\n",
       "      <th>co2</th>\n",
       "    </tr>\n",
       "  </thead>\n",
       "  <tbody>\n",
       "    <tr>\n",
       "      <th>0</th>\n",
       "      <td>Aruba</td>\n",
       "      <td>603030.016200</td>\n",
       "    </tr>\n",
       "    <tr>\n",
       "      <th>1</th>\n",
       "      <td>Africa Eastern and Southern</td>\n",
       "      <td>6079.999924</td>\n",
       "    </tr>\n",
       "    <tr>\n",
       "      <th>2</th>\n",
       "      <td>Afghanistan</td>\n",
       "      <td>220740.000000</td>\n",
       "    </tr>\n",
       "    <tr>\n",
       "      <th>3</th>\n",
       "      <td>Africa Western and Central</td>\n",
       "      <td>25209.999080</td>\n",
       "    </tr>\n",
       "    <tr>\n",
       "      <th>4</th>\n",
       "      <td>Angola</td>\n",
       "      <td>4829.999924</td>\n",
       "    </tr>\n",
       "    <tr>\n",
       "      <th>...</th>\n",
       "      <td>...</td>\n",
       "      <td>...</td>\n",
       "    </tr>\n",
       "    <tr>\n",
       "      <th>262</th>\n",
       "      <td>Yemen, Rep.</td>\n",
       "      <td>439640.014600</td>\n",
       "    </tr>\n",
       "    <tr>\n",
       "      <th>263</th>\n",
       "      <td>South Africa</td>\n",
       "      <td>6800.000191</td>\n",
       "    </tr>\n",
       "    <tr>\n",
       "      <th>264</th>\n",
       "      <td>Zambia</td>\n",
       "      <td>11760.000230</td>\n",
       "    </tr>\n",
       "    <tr>\n",
       "      <th>265</th>\n",
       "      <td>Zimbabwe</td>\n",
       "      <td>0.000000</td>\n",
       "    </tr>\n",
       "    <tr>\n",
       "      <th>266</th>\n",
       "      <td>NaN</td>\n",
       "      <td>0.000000</td>\n",
       "    </tr>\n",
       "  </tbody>\n",
       "</table>\n",
       "<p>267 rows × 2 columns</p>\n",
       "</div>"
      ],
      "text/plain": [
       "                         country            co2\n",
       "0                          Aruba  603030.016200\n",
       "1    Africa Eastern and Southern    6079.999924\n",
       "2                    Afghanistan  220740.000000\n",
       "3     Africa Western and Central   25209.999080\n",
       "4                         Angola    4829.999924\n",
       "..                           ...            ...\n",
       "262                  Yemen, Rep.  439640.014600\n",
       "263                 South Africa    6800.000191\n",
       "264                       Zambia   11760.000230\n",
       "265                     Zimbabwe       0.000000\n",
       "266                          NaN       0.000000\n",
       "\n",
       "[267 rows x 2 columns]"
      ]
     },
     "execution_count": 52,
     "metadata": {},
     "output_type": "execute_result"
    }
   ],
   "source": [
    "year_df"
   ]
  },
  {
   "cell_type": "markdown",
   "id": "55202378-534c-4e66-a925-d66e412839ee",
   "metadata": {},
   "source": [
    "Merge 2data sets together "
   ]
  },
  {
   "cell_type": "code",
   "execution_count": 55,
   "id": "cb375fd9-674e-426f-ae4d-6899f2d0d08d",
   "metadata": {},
   "outputs": [],
   "source": [
    "merged_df = pd.merge(filtered_df, year_df, on=\"country\")"
   ]
  },
  {
   "cell_type": "code",
   "execution_count": 56,
   "id": "55006504-1e53-4c1c-a81d-921a18d63a7e",
   "metadata": {},
   "outputs": [
    {
     "data": {
      "text/html": [
       "<div>\n",
       "<style scoped>\n",
       "    .dataframe tbody tr th:only-of-type {\n",
       "        vertical-align: middle;\n",
       "    }\n",
       "\n",
       "    .dataframe tbody tr th {\n",
       "        vertical-align: top;\n",
       "    }\n",
       "\n",
       "    .dataframe thead th {\n",
       "        text-align: right;\n",
       "    }\n",
       "</style>\n",
       "<table border=\"1\" class=\"dataframe\">\n",
       "  <thead>\n",
       "    <tr style=\"text-align: right;\">\n",
       "      <th></th>\n",
       "      <th>country</th>\n",
       "      <th>landAreaKm</th>\n",
       "      <th>co2</th>\n",
       "    </tr>\n",
       "  </thead>\n",
       "  <tbody>\n",
       "    <tr>\n",
       "      <th>0</th>\n",
       "      <td>Canada</td>\n",
       "      <td>8965590.0</td>\n",
       "      <td>641570.004000</td>\n",
       "    </tr>\n",
       "    <tr>\n",
       "      <th>1</th>\n",
       "      <td>China</td>\n",
       "      <td>9424702.9</td>\n",
       "      <td>10829.999920</td>\n",
       "    </tr>\n",
       "    <tr>\n",
       "      <th>2</th>\n",
       "      <td>United States</td>\n",
       "      <td>9147420.0</td>\n",
       "      <td>116709.999100</td>\n",
       "    </tr>\n",
       "    <tr>\n",
       "      <th>3</th>\n",
       "      <td>Brazil</td>\n",
       "      <td>8358140.0</td>\n",
       "      <td>1250.000000</td>\n",
       "    </tr>\n",
       "    <tr>\n",
       "      <th>4</th>\n",
       "      <td>Australia</td>\n",
       "      <td>7692020.0</td>\n",
       "      <td>64769.996640</td>\n",
       "    </tr>\n",
       "    <tr>\n",
       "      <th>...</th>\n",
       "      <td>...</td>\n",
       "      <td>...</td>\n",
       "      <td>...</td>\n",
       "    </tr>\n",
       "    <tr>\n",
       "      <th>180</th>\n",
       "      <td>Bermuda</td>\n",
       "      <td>54.0</td>\n",
       "      <td>22340.000150</td>\n",
       "    </tr>\n",
       "    <tr>\n",
       "      <th>181</th>\n",
       "      <td>Tuvalu</td>\n",
       "      <td>30.0</td>\n",
       "      <td>12449.999810</td>\n",
       "    </tr>\n",
       "    <tr>\n",
       "      <th>182</th>\n",
       "      <td>Nauru</td>\n",
       "      <td>20.0</td>\n",
       "      <td>34009.998320</td>\n",
       "    </tr>\n",
       "    <tr>\n",
       "      <th>183</th>\n",
       "      <td>Gibraltar</td>\n",
       "      <td>6.8</td>\n",
       "      <td>3950.000048</td>\n",
       "    </tr>\n",
       "    <tr>\n",
       "      <th>184</th>\n",
       "      <td>Monaco</td>\n",
       "      <td>2.0</td>\n",
       "      <td>8859.999657</td>\n",
       "    </tr>\n",
       "  </tbody>\n",
       "</table>\n",
       "<p>185 rows × 3 columns</p>\n",
       "</div>"
      ],
      "text/plain": [
       "           country  landAreaKm            co2\n",
       "0           Canada   8965590.0  641570.004000\n",
       "1            China   9424702.9   10829.999920\n",
       "2    United States   9147420.0  116709.999100\n",
       "3           Brazil   8358140.0    1250.000000\n",
       "4        Australia   7692020.0   64769.996640\n",
       "..             ...         ...            ...\n",
       "180        Bermuda        54.0   22340.000150\n",
       "181         Tuvalu        30.0   12449.999810\n",
       "182          Nauru        20.0   34009.998320\n",
       "183      Gibraltar         6.8    3950.000048\n",
       "184         Monaco         2.0    8859.999657\n",
       "\n",
       "[185 rows x 3 columns]"
      ]
     },
     "execution_count": 56,
     "metadata": {},
     "output_type": "execute_result"
    }
   ],
   "source": [
    "merged_df"
   ]
  },
  {
   "cell_type": "markdown",
   "id": "9bd75dd5-3b64-4f14-9c03-a77b622a3453",
   "metadata": {},
   "source": [
    "Clean NAN values "
   ]
  },
  {
   "cell_type": "code",
   "execution_count": 57,
   "id": "ce7b7e39-6f5d-4306-ade6-afc02fcdabfc",
   "metadata": {},
   "outputs": [],
   "source": [
    "merged_df.dropna(inplace=True)"
   ]
  },
  {
   "cell_type": "code",
   "execution_count": 58,
   "id": "5f73c55f-ce0e-472f-a26f-000dd13d72d5",
   "metadata": {},
   "outputs": [
    {
     "data": {
      "text/html": [
       "<div>\n",
       "<style scoped>\n",
       "    .dataframe tbody tr th:only-of-type {\n",
       "        vertical-align: middle;\n",
       "    }\n",
       "\n",
       "    .dataframe tbody tr th {\n",
       "        vertical-align: top;\n",
       "    }\n",
       "\n",
       "    .dataframe thead th {\n",
       "        text-align: right;\n",
       "    }\n",
       "</style>\n",
       "<table border=\"1\" class=\"dataframe\">\n",
       "  <thead>\n",
       "    <tr style=\"text-align: right;\">\n",
       "      <th></th>\n",
       "      <th>country</th>\n",
       "      <th>landAreaKm</th>\n",
       "      <th>co2</th>\n",
       "    </tr>\n",
       "  </thead>\n",
       "  <tbody>\n",
       "    <tr>\n",
       "      <th>0</th>\n",
       "      <td>Canada</td>\n",
       "      <td>8965590.0</td>\n",
       "      <td>641570.004000</td>\n",
       "    </tr>\n",
       "    <tr>\n",
       "      <th>1</th>\n",
       "      <td>China</td>\n",
       "      <td>9424702.9</td>\n",
       "      <td>10829.999920</td>\n",
       "    </tr>\n",
       "    <tr>\n",
       "      <th>2</th>\n",
       "      <td>United States</td>\n",
       "      <td>9147420.0</td>\n",
       "      <td>116709.999100</td>\n",
       "    </tr>\n",
       "    <tr>\n",
       "      <th>3</th>\n",
       "      <td>Brazil</td>\n",
       "      <td>8358140.0</td>\n",
       "      <td>1250.000000</td>\n",
       "    </tr>\n",
       "    <tr>\n",
       "      <th>4</th>\n",
       "      <td>Australia</td>\n",
       "      <td>7692020.0</td>\n",
       "      <td>64769.996640</td>\n",
       "    </tr>\n",
       "    <tr>\n",
       "      <th>...</th>\n",
       "      <td>...</td>\n",
       "      <td>...</td>\n",
       "      <td>...</td>\n",
       "    </tr>\n",
       "    <tr>\n",
       "      <th>180</th>\n",
       "      <td>Bermuda</td>\n",
       "      <td>54.0</td>\n",
       "      <td>22340.000150</td>\n",
       "    </tr>\n",
       "    <tr>\n",
       "      <th>181</th>\n",
       "      <td>Tuvalu</td>\n",
       "      <td>30.0</td>\n",
       "      <td>12449.999810</td>\n",
       "    </tr>\n",
       "    <tr>\n",
       "      <th>182</th>\n",
       "      <td>Nauru</td>\n",
       "      <td>20.0</td>\n",
       "      <td>34009.998320</td>\n",
       "    </tr>\n",
       "    <tr>\n",
       "      <th>183</th>\n",
       "      <td>Gibraltar</td>\n",
       "      <td>6.8</td>\n",
       "      <td>3950.000048</td>\n",
       "    </tr>\n",
       "    <tr>\n",
       "      <th>184</th>\n",
       "      <td>Monaco</td>\n",
       "      <td>2.0</td>\n",
       "      <td>8859.999657</td>\n",
       "    </tr>\n",
       "  </tbody>\n",
       "</table>\n",
       "<p>185 rows × 3 columns</p>\n",
       "</div>"
      ],
      "text/plain": [
       "           country  landAreaKm            co2\n",
       "0           Canada   8965590.0  641570.004000\n",
       "1            China   9424702.9   10829.999920\n",
       "2    United States   9147420.0  116709.999100\n",
       "3           Brazil   8358140.0    1250.000000\n",
       "4        Australia   7692020.0   64769.996640\n",
       "..             ...         ...            ...\n",
       "180        Bermuda        54.0   22340.000150\n",
       "181         Tuvalu        30.0   12449.999810\n",
       "182          Nauru        20.0   34009.998320\n",
       "183      Gibraltar         6.8    3950.000048\n",
       "184         Monaco         2.0    8859.999657\n",
       "\n",
       "[185 rows x 3 columns]"
      ]
     },
     "execution_count": 58,
     "metadata": {},
     "output_type": "execute_result"
    }
   ],
   "source": [
    "merged_df"
   ]
  },
  {
   "cell_type": "markdown",
   "id": "65400307-9351-4941-ab36-459ed92c5126",
   "metadata": {},
   "source": [
    "Calculate emissions per unit/ per landmass in km"
   ]
  },
  {
   "cell_type": "code",
   "execution_count": 59,
   "id": "49e09a6f-58a5-4753-b5e4-14127bb38c9c",
   "metadata": {},
   "outputs": [],
   "source": [
    "merged_df['co2_per_landmass'] = merged_df['co2'] / merged_df['landAreaKm']  #co2 on km2"
   ]
  },
  {
   "cell_type": "code",
   "execution_count": 60,
   "id": "2b3d07b3-0b8e-4619-8856-44dafec1e24a",
   "metadata": {},
   "outputs": [
    {
     "data": {
      "text/html": [
       "<div>\n",
       "<style scoped>\n",
       "    .dataframe tbody tr th:only-of-type {\n",
       "        vertical-align: middle;\n",
       "    }\n",
       "\n",
       "    .dataframe tbody tr th {\n",
       "        vertical-align: top;\n",
       "    }\n",
       "\n",
       "    .dataframe thead th {\n",
       "        text-align: right;\n",
       "    }\n",
       "</style>\n",
       "<table border=\"1\" class=\"dataframe\">\n",
       "  <thead>\n",
       "    <tr style=\"text-align: right;\">\n",
       "      <th></th>\n",
       "      <th>country</th>\n",
       "      <th>landAreaKm</th>\n",
       "      <th>co2</th>\n",
       "      <th>co2_per_landmass</th>\n",
       "    </tr>\n",
       "  </thead>\n",
       "  <tbody>\n",
       "    <tr>\n",
       "      <th>0</th>\n",
       "      <td>Canada</td>\n",
       "      <td>8965590.0</td>\n",
       "      <td>641570.004000</td>\n",
       "      <td>0.071559</td>\n",
       "    </tr>\n",
       "    <tr>\n",
       "      <th>1</th>\n",
       "      <td>China</td>\n",
       "      <td>9424702.9</td>\n",
       "      <td>10829.999920</td>\n",
       "      <td>0.001149</td>\n",
       "    </tr>\n",
       "    <tr>\n",
       "      <th>2</th>\n",
       "      <td>United States</td>\n",
       "      <td>9147420.0</td>\n",
       "      <td>116709.999100</td>\n",
       "      <td>0.012759</td>\n",
       "    </tr>\n",
       "    <tr>\n",
       "      <th>3</th>\n",
       "      <td>Brazil</td>\n",
       "      <td>8358140.0</td>\n",
       "      <td>1250.000000</td>\n",
       "      <td>0.000150</td>\n",
       "    </tr>\n",
       "    <tr>\n",
       "      <th>4</th>\n",
       "      <td>Australia</td>\n",
       "      <td>7692020.0</td>\n",
       "      <td>64769.996640</td>\n",
       "      <td>0.008420</td>\n",
       "    </tr>\n",
       "    <tr>\n",
       "      <th>...</th>\n",
       "      <td>...</td>\n",
       "      <td>...</td>\n",
       "      <td>...</td>\n",
       "      <td>...</td>\n",
       "    </tr>\n",
       "    <tr>\n",
       "      <th>180</th>\n",
       "      <td>Bermuda</td>\n",
       "      <td>54.0</td>\n",
       "      <td>22340.000150</td>\n",
       "      <td>413.703706</td>\n",
       "    </tr>\n",
       "    <tr>\n",
       "      <th>181</th>\n",
       "      <td>Tuvalu</td>\n",
       "      <td>30.0</td>\n",
       "      <td>12449.999810</td>\n",
       "      <td>414.999994</td>\n",
       "    </tr>\n",
       "    <tr>\n",
       "      <th>182</th>\n",
       "      <td>Nauru</td>\n",
       "      <td>20.0</td>\n",
       "      <td>34009.998320</td>\n",
       "      <td>1700.499916</td>\n",
       "    </tr>\n",
       "    <tr>\n",
       "      <th>183</th>\n",
       "      <td>Gibraltar</td>\n",
       "      <td>6.8</td>\n",
       "      <td>3950.000048</td>\n",
       "      <td>580.882360</td>\n",
       "    </tr>\n",
       "    <tr>\n",
       "      <th>184</th>\n",
       "      <td>Monaco</td>\n",
       "      <td>2.0</td>\n",
       "      <td>8859.999657</td>\n",
       "      <td>4429.999829</td>\n",
       "    </tr>\n",
       "  </tbody>\n",
       "</table>\n",
       "<p>185 rows × 4 columns</p>\n",
       "</div>"
      ],
      "text/plain": [
       "           country  landAreaKm            co2  co2_per_landmass\n",
       "0           Canada   8965590.0  641570.004000          0.071559\n",
       "1            China   9424702.9   10829.999920          0.001149\n",
       "2    United States   9147420.0  116709.999100          0.012759\n",
       "3           Brazil   8358140.0    1250.000000          0.000150\n",
       "4        Australia   7692020.0   64769.996640          0.008420\n",
       "..             ...         ...            ...               ...\n",
       "180        Bermuda        54.0   22340.000150        413.703706\n",
       "181         Tuvalu        30.0   12449.999810        414.999994\n",
       "182          Nauru        20.0   34009.998320       1700.499916\n",
       "183      Gibraltar         6.8    3950.000048        580.882360\n",
       "184         Monaco         2.0    8859.999657       4429.999829\n",
       "\n",
       "[185 rows x 4 columns]"
      ]
     },
     "execution_count": 60,
     "metadata": {},
     "output_type": "execute_result"
    }
   ],
   "source": [
    "merged_df"
   ]
  },
  {
   "cell_type": "markdown",
   "id": "12a9e8fa-b770-4ba8-818b-cd5c35aa3e58",
   "metadata": {},
   "source": [
    "save data, new data into new dataframe "
   ]
  },
  {
   "cell_type": "code",
   "execution_count": 61,
   "id": "5989fe7c-83fb-4fe2-8f26-bcd0b4a3b691",
   "metadata": {},
   "outputs": [],
   "source": [
    "merged_df.to_csv(\"dataco2.csv\", index=False)"
   ]
  },
  {
   "cell_type": "code",
   "execution_count": 77,
   "id": "c1fe97d5-a26d-4598-aab2-c425871170b4",
   "metadata": {},
   "outputs": [
    {
     "data": {
      "text/plain": [
       "<AxesSubplot:>"
      ]
     },
     "execution_count": 77,
     "metadata": {},
     "output_type": "execute_result"
    },
    {
     "data": {
      "image/png": "[encoded data removed]",
      "text/plain": [
       "<Figure size 640x480 with 1 Axes>"
      ]
     },
     "metadata": {},
     "output_type": "display_data"
    }
   ],
   "source": [
    "merged_df.plot()"
   ]
  },
  {
   "cell_type": "code",
   "execution_count": null,
   "id": "8d00a602-79fe-4b4d-9ca4-03c11a303d03",
   "metadata": {},
   "outputs": [],
   "source": []
  },
  {
   "cell_type": "markdown",
   "id": "92854a88-832b-4276-9ae6-49adfe8b7592",
   "metadata": {},
   "source": [
    "IMPORT/LOAD DATA"
   ]
  },
  {
   "cell_type": "code",
   "execution_count": 62,
   "id": "d5506913-80d4-4db7-8f7a-f042e66607a3",
   "metadata": {},
   "outputs": [],
   "source": [
    "df = pd.read_csv('dataco2.csv')"
   ]
  },
  {
   "cell_type": "code",
   "execution_count": 63,
   "id": "4d325ffa-aa78-480e-bc60-66516b67cd7b",
   "metadata": {},
   "outputs": [
    {
     "data": {
      "text/html": [
       "<div>\n",
       "<style scoped>\n",
       "    .dataframe tbody tr th:only-of-type {\n",
       "        vertical-align: middle;\n",
       "    }\n",
       "\n",
       "    .dataframe tbody tr th {\n",
       "        vertical-align: top;\n",
       "    }\n",
       "\n",
       "    .dataframe thead th {\n",
       "        text-align: right;\n",
       "    }\n",
       "</style>\n",
       "<table border=\"1\" class=\"dataframe\">\n",
       "  <thead>\n",
       "    <tr style=\"text-align: right;\">\n",
       "      <th></th>\n",
       "      <th>country</th>\n",
       "      <th>landAreaKm</th>\n",
       "      <th>co2</th>\n",
       "      <th>co2_per_landmass</th>\n",
       "    </tr>\n",
       "  </thead>\n",
       "  <tbody>\n",
       "    <tr>\n",
       "      <th>0</th>\n",
       "      <td>Canada</td>\n",
       "      <td>8965590.0</td>\n",
       "      <td>641570.004000</td>\n",
       "      <td>0.071559</td>\n",
       "    </tr>\n",
       "    <tr>\n",
       "      <th>1</th>\n",
       "      <td>China</td>\n",
       "      <td>9424702.9</td>\n",
       "      <td>10829.999920</td>\n",
       "      <td>0.001149</td>\n",
       "    </tr>\n",
       "    <tr>\n",
       "      <th>2</th>\n",
       "      <td>United States</td>\n",
       "      <td>9147420.0</td>\n",
       "      <td>116709.999100</td>\n",
       "      <td>0.012759</td>\n",
       "    </tr>\n",
       "    <tr>\n",
       "      <th>3</th>\n",
       "      <td>Brazil</td>\n",
       "      <td>8358140.0</td>\n",
       "      <td>1250.000000</td>\n",
       "      <td>0.000150</td>\n",
       "    </tr>\n",
       "    <tr>\n",
       "      <th>4</th>\n",
       "      <td>Australia</td>\n",
       "      <td>7692020.0</td>\n",
       "      <td>64769.996640</td>\n",
       "      <td>0.008420</td>\n",
       "    </tr>\n",
       "    <tr>\n",
       "      <th>...</th>\n",
       "      <td>...</td>\n",
       "      <td>...</td>\n",
       "      <td>...</td>\n",
       "      <td>...</td>\n",
       "    </tr>\n",
       "    <tr>\n",
       "      <th>180</th>\n",
       "      <td>Bermuda</td>\n",
       "      <td>54.0</td>\n",
       "      <td>22340.000150</td>\n",
       "      <td>413.703706</td>\n",
       "    </tr>\n",
       "    <tr>\n",
       "      <th>181</th>\n",
       "      <td>Tuvalu</td>\n",
       "      <td>30.0</td>\n",
       "      <td>12449.999810</td>\n",
       "      <td>414.999994</td>\n",
       "    </tr>\n",
       "    <tr>\n",
       "      <th>182</th>\n",
       "      <td>Nauru</td>\n",
       "      <td>20.0</td>\n",
       "      <td>34009.998320</td>\n",
       "      <td>1700.499916</td>\n",
       "    </tr>\n",
       "    <tr>\n",
       "      <th>183</th>\n",
       "      <td>Gibraltar</td>\n",
       "      <td>6.8</td>\n",
       "      <td>3950.000048</td>\n",
       "      <td>580.882360</td>\n",
       "    </tr>\n",
       "    <tr>\n",
       "      <th>184</th>\n",
       "      <td>Monaco</td>\n",
       "      <td>2.0</td>\n",
       "      <td>8859.999657</td>\n",
       "      <td>4429.999829</td>\n",
       "    </tr>\n",
       "  </tbody>\n",
       "</table>\n",
       "<p>185 rows × 4 columns</p>\n",
       "</div>"
      ],
      "text/plain": [
       "           country  landAreaKm            co2  co2_per_landmass\n",
       "0           Canada   8965590.0  641570.004000          0.071559\n",
       "1            China   9424702.9   10829.999920          0.001149\n",
       "2    United States   9147420.0  116709.999100          0.012759\n",
       "3           Brazil   8358140.0    1250.000000          0.000150\n",
       "4        Australia   7692020.0   64769.996640          0.008420\n",
       "..             ...         ...            ...               ...\n",
       "180        Bermuda        54.0   22340.000150        413.703706\n",
       "181         Tuvalu        30.0   12449.999810        414.999994\n",
       "182          Nauru        20.0   34009.998320       1700.499916\n",
       "183      Gibraltar         6.8    3950.000048        580.882360\n",
       "184         Monaco         2.0    8859.999657       4429.999829\n",
       "\n",
       "[185 rows x 4 columns]"
      ]
     },
     "execution_count": 63,
     "metadata": {},
     "output_type": "execute_result"
    }
   ],
   "source": [
    "df"
   ]
  },
  {
   "cell_type": "markdown",
   "id": "2747c613-ed48-4261-bd8e-1daeabe567b2",
   "metadata": {},
   "source": [
    "Visualization "
   ]
  },
  {
   "cell_type": "code",
   "execution_count": 64,
   "id": "3f1a0161-0354-40a1-984d-6a05a7679117",
   "metadata": {},
   "outputs": [
    {
     "name": "stdout",
     "output_type": "stream",
     "text": [
      "Requirement already satisfied: plotly in d:\\anaconda\\lib\\site-packages (5.9.0)Note: you may need to restart the kernel to use updated packages.\n",
      "\n",
      "Requirement already satisfied: tenacity>=6.2.0 in d:\\anaconda\\lib\\site-packages (from plotly) (8.0.1)\n"
     ]
    }
   ],
   "source": [
    "pip install plotly"
   ]
  },
  {
   "cell_type": "code",
   "execution_count": 65,
   "id": "21ae6e38-2dd0-49aa-83f5-0cbad53f67d6",
   "metadata": {},
   "outputs": [],
   "source": [
    "import plotly.express as px"
   ]
  },
  {
   "cell_type": "code",
   "execution_count": 76,
   "id": "1b701de5-15f5-48c2-9849-2250c4476c22",
   "metadata": {},
   "outputs": [
    {
     "data": {
      "application/vnd.plotly.v1+json": {
       "config": {
        "plotlyServerURL": "https://plot.ly"
       },
       "data": [
        {
         "alignmentgroup": "True",
         "hovertemplate": "country=%{x}<br>co2_per_landmass=%{marker.color}<extra></extra>",
         "legendgroup": "",
         "marker": {
          "color": [
           0.0715591504853556,
           0.001149107832354,
           0.0127587887185676,
           0.0001495548052557,
           0.0084204144867018,
           0,
           0.0022545484055556,
           0.0082527690817498,
           5.244825915160381,
           0.0470459239127786,
           0.0095920811093692,
           9.259497785436867e-05,
           0.2303373765059102,
           0.0056852247805139,
           0.0003068984061175,
           0,
           0.11360937359375,
           9.875825714739518,
           0.0910081304176205,
           0.0038742279008582,
           0.0013604438382546,
           0.0056055199457583,
           0.0002884181999098,
           2.414530653047796,
           0.4009046319579064,
           0.0040457941942369,
           0.0066154889749379,
           0.0057533732676746,
           0.0173048984926317,
           0,
           0.005023016923116,
           14.4004827364525,
           0.0158194221471905,
           2.2817451024254214,
           0.338438894255094,
           0.0732457690566519,
           0.93134614594369,
           1.3035779535708067,
           27.4743919571971,
           0.0036266756531454,
           0.000423482071886,
           0.0176582215096461,
           0,
           0.0184384115484742,
           0.0203780718941557,
           3.400485144596004,
           0.0067906328150451,
           0.6517025237380206,
           0.00235708045747,
           0.0005900374231249,
           0,
           0.0037776876543323,
           0,
           0,
           0.5819204406035665,
           0.0012020950425026,
           0.0008384478653117,
           0.0053629005560307,
           0.0006700081785667,
           16.43500114746614,
           0.0369216405012558,
           1.6002025198445105,
           0.6168937699515347,
           0.0283717214194652,
           1.0040666576743438,
           0.3316520389619883,
           44.094945729368426,
           1.3541351860907362,
           0.0023604101550545,
           0.0417889458107717,
           0.8713843791143028,
           0,
           7.404337473922114,
           61.59795991871984,
           0.0031530199315203,
           0.2460915237625305,
           0.0005098572602537,
           27.52668389326934,
           0.1992307687179487,
           2.554325413877446,
           0.3006837166013674,
           0.0004185559725148,
           0.5250378467468838,
           0.0025601242288595,
           1.2160544814691707,
           2.686359824989393,
           1.9826372239773693,
           0.0443419652358992,
           2.0441505308785413,
           0.5897009887873754,
           0.3063743397199705,
           0,
           0,
           0.6213428694832888,
           235.8362891737892,
           0.0896233422192529,
           12.18066475212289,
           9.411845600274413,
           0.0087118557292548,
           0.4303199020843432,
           2.3669389763446915,
           0.7650310056619035,
           0.1080631780410086,
           9.14515909130498,
           0.2883868314865448,
           93.6776489007436,
           0.1515490222133503,
           0,
           4.910645271189557,
           0.0593280902966404,
           1.1263671517578124,
           0.7418723223658441,
           3.5448147381494515,
           0.4294736984795321,
           0.6807499885,
           1.0677160902880904,
           0,
           0.1900891452543261,
           0.190256042140825,
           0.1252866048545519,
           0.2410832295574636,
           510.5246264822134,
           0,
           0.0321543399857091,
           0.0182481751824817,
           2.1390374331550803,
           3.6218848185358254,
           1.6828737688679245,
           112.85285991082286,
           0.2311657384615384,
           0.0073339086194995,
           0,
           0,
           14.659888641404804,
           1.7381458453348164,
           0.1176148848468271,
           16.448822605363986,
           77.57575667789001,
           0,
           99.07128473436448,
           1.7152416126394052,
           2817.3918022969647,
           6.436031066144474,
           2.2742381495844874,
           0.115347013489736,
           10.42099577056277,
           6.317925695603156,
           5.8304093274853805,
           26.496687185249208,
           0,
           2.940376838997864,
           0.7142857379310346,
           0.349274570768404,
           0.131771601171303,
           2.760416765625,
           2.373417721518988,
           0.3086419753086419,
           3.6178342853503183,
           39.60000101333333,
           3866.7778527777778,
           0.5013927775766016,
           4309.298331578948,
           5.277777601851852,
           4013.2314829787233,
           16.304347826086957,
           16.478260704347825,
           55.89130234782609,
           0,
           878.47727,
           16.25581342093023,
           0,
           114.7500038125,
           8519.751636666666,
           29.958333570833336,
           2.5999999045,
           120625.54477777776,
           3350.1667566666665,
           148.6250043125,
           0,
           11.49999996,
           413.7037064814815,
           414.9999936666666,
           1700.499916,
           580.88236,
           4429.9998285
          ],
          "coloraxis": "coloraxis",
          "pattern": {
           "shape": ""
          }
         },
         "name": "",
         "offsetgroup": "",
         "orientation": "v",
         "showlegend": false,
         "textposition": "auto",
         "type": "bar",
         "x": [
          "Canada",
          "China",
          "United States",
          "Brazil",
          "Australia",
          "India",
          "Argentina",
          "Kazakhstan",
          "Algeria",
          "Greenland",
          "Saudi Arabia",
          "Mexico",
          "Indonesia",
          "Sudan",
          "Libya",
          "Mongolia",
          "Peru",
          "Chad",
          "Niger",
          "Angola",
          "Mali",
          "South Africa",
          "Colombia",
          "Ethiopia",
          "Bolivia",
          "Mauritania",
          "Tanzania",
          "Nigeria",
          "Pakistan",
          "Namibia",
          "Mozambique",
          "Chile",
          "Zambia",
          "Myanmar",
          "Afghanistan",
          "Somalia",
          "Central African Republic",
          "South Sudan",
          "Ukraine",
          "Madagascar",
          "Botswana",
          "Kenya",
          "France",
          "Thailand",
          "Spain",
          "Turkmenistan",
          "Cameroon",
          "Papua New Guinea",
          "Sweden",
          "Uzbekistan",
          "Morocco",
          "Iraq",
          "Paraguay",
          "Zimbabwe",
          "Japan",
          "Germany",
          "Philippines",
          "Finland",
          "Vietnam",
          "Malaysia",
          "Norway",
          "Poland",
          "Oman",
          "Italy",
          "Ecuador",
          "Burkina Faso",
          "New Zealand",
          "Gabon",
          "Guinea",
          "United Kingdom",
          "Uganda",
          "Ghana",
          "Romania",
          "Guyana",
          "Belarus",
          "Senegal",
          "Cambodia",
          "Uruguay",
          "Suriname",
          "Tunisia",
          "Bangladesh",
          "Nepal",
          "Tajikistan",
          "Greece",
          "Nicaragua",
          "Malawi",
          "Eritrea",
          "Benin",
          "Honduras",
          "Liberia",
          "Bulgaria",
          "Cuba",
          "Guatemala",
          "Iceland",
          "Hungary",
          "Portugal",
          "Jordan",
          "Serbia",
          "Azerbaijan",
          "Austria",
          "United Arab Emirates",
          "Panama",
          "Sierra Leone",
          "Ireland",
          "Georgia",
          "Sri Lanka",
          "Lithuania",
          "Latvia",
          "Togo",
          "Croatia",
          "Bosnia and Herzegovina",
          "Costa Rica",
          "Dominican Republic",
          "Estonia",
          "Denmark",
          "Netherlands",
          "Switzerland",
          "Bhutan",
          "Guinea-Bissau",
          "Moldova",
          "Belgium",
          "Lesotho",
          "Armenia",
          "Solomon Islands",
          "Albania",
          "Equatorial Guinea",
          "Burundi",
          "Haiti",
          "Rwanda",
          "North Macedonia",
          "Djibouti",
          "Belize",
          "El Salvador",
          "Israel",
          "Slovenia",
          "New Caledonia",
          "Fiji",
          "Kuwait",
          "Eswatini",
          "Timor-Leste",
          "Montenegro",
          "Vanuatu",
          "Qatar",
          "Jamaica",
          "Lebanon",
          "Cyprus",
          "Puerto Rico",
          "Trinidad and Tobago",
          "French Polynesia",
          "Samoa",
          "Luxembourg",
          "Mauritius",
          "Comoros",
          "Faroe Islands",
          "Sao Tome and Principe",
          "Turks and Caicos Islands",
          "Kiribati",
          "Bahrain",
          "Dominica",
          "Tonga",
          "Singapore",
          "Isle of Man",
          "Guam",
          "Andorra",
          "Northern Mariana Islands",
          "Palau",
          "Seychelles",
          "Curacao",
          "Antigua and Barbuda",
          "Barbados",
          "Grenada",
          "Malta",
          "Maldives",
          "Cayman Islands",
          "American Samoa",
          "Marshall Islands",
          "Aruba",
          "Liechtenstein",
          "British Virgin Islands",
          "San Marino",
          "Bermuda",
          "Tuvalu",
          "Nauru",
          "Gibraltar",
          "Monaco"
         ],
         "xaxis": "x",
         "y": [
          0.0715591504853556,
          0.001149107832354,
          0.0127587887185676,
          0.0001495548052557,
          0.0084204144867018,
          0,
          0.0022545484055556,
          0.0082527690817498,
          5.244825915160381,
          0.0470459239127786,
          0.0095920811093692,
          9.259497785436867e-05,
          0.2303373765059102,
          0.0056852247805139,
          0.0003068984061175,
          0,
          0.11360937359375,
          9.875825714739518,
          0.0910081304176205,
          0.0038742279008582,
          0.0013604438382546,
          0.0056055199457583,
          0.0002884181999098,
          2.414530653047796,
          0.4009046319579064,
          0.0040457941942369,
          0.0066154889749379,
          0.0057533732676746,
          0.0173048984926317,
          0,
          0.005023016923116,
          14.4004827364525,
          0.0158194221471905,
          2.2817451024254214,
          0.338438894255094,
          0.0732457690566519,
          0.93134614594369,
          1.3035779535708067,
          27.4743919571971,
          0.0036266756531454,
          0.000423482071886,
          0.0176582215096461,
          0,
          0.0184384115484742,
          0.0203780718941557,
          3.400485144596004,
          0.0067906328150451,
          0.6517025237380206,
          0.00235708045747,
          0.0005900374231249,
          0,
          0.0037776876543323,
          0,
          0,
          0.5819204406035665,
          0.0012020950425026,
          0.0008384478653117,
          0.0053629005560307,
          0.0006700081785667,
          16.43500114746614,
          0.0369216405012558,
          1.6002025198445105,
          0.6168937699515347,
          0.0283717214194652,
          1.0040666576743438,
          0.3316520389619883,
          44.094945729368426,
          1.3541351860907362,
          0.0023604101550545,
          0.0417889458107717,
          0.8713843791143028,
          0,
          7.404337473922114,
          61.59795991871984,
          0.0031530199315203,
          0.2460915237625305,
          0.0005098572602537,
          27.52668389326934,
          0.1992307687179487,
          2.554325413877446,
          0.3006837166013674,
          0.0004185559725148,
          0.5250378467468838,
          0.0025601242288595,
          1.2160544814691707,
          2.686359824989393,
          1.9826372239773693,
          0.0443419652358992,
          2.0441505308785413,
          0.5897009887873754,
          0.3063743397199705,
          0,
          0,
          0.6213428694832888,
          235.8362891737892,
          0.0896233422192529,
          12.18066475212289,
          9.411845600274413,
          0.0087118557292548,
          0.4303199020843432,
          2.3669389763446915,
          0.7650310056619035,
          0.1080631780410086,
          9.14515909130498,
          0.2883868314865448,
          93.6776489007436,
          0.1515490222133503,
          0,
          4.910645271189557,
          0.0593280902966404,
          1.1263671517578124,
          0.7418723223658441,
          3.5448147381494515,
          0.4294736984795321,
          0.6807499885,
          1.0677160902880904,
          0,
          0.1900891452543261,
          0.190256042140825,
          0.1252866048545519,
          0.2410832295574636,
          510.5246264822134,
          0,
          0.0321543399857091,
          0.0182481751824817,
          2.1390374331550803,
          3.6218848185358254,
          1.6828737688679245,
          112.85285991082286,
          0.2311657384615384,
          0.0073339086194995,
          0,
          0,
          14.659888641404804,
          1.7381458453348164,
          0.1176148848468271,
          16.448822605363986,
          77.57575667789001,
          0,
          99.07128473436448,
          1.7152416126394052,
          2817.3918022969647,
          6.436031066144474,
          2.2742381495844874,
          0.115347013489736,
          10.42099577056277,
          6.317925695603156,
          5.8304093274853805,
          26.496687185249208,
          0,
          2.940376838997864,
          0.7142857379310346,
          0.349274570768404,
          0.131771601171303,
          2.760416765625,
          2.373417721518988,
          0.3086419753086419,
          3.6178342853503183,
          39.60000101333333,
          3866.7778527777778,
          0.5013927775766016,
          4309.298331578948,
          5.277777601851852,
          4013.2314829787233,
          16.304347826086957,
          16.478260704347825,
          55.89130234782609,
          0,
          878.47727,
          16.25581342093023,
          0,
          114.7500038125,
          8519.751636666666,
          29.958333570833336,
          2.5999999045,
          120625.54477777776,
          3350.1667566666665,
          148.6250043125,
          0,
          11.49999996,
          413.7037064814815,
          414.9999936666666,
          1700.499916,
          580.88236,
          4429.9998285
         ],
         "yaxis": "y"
        }
       ],
       "layout": {
        "autosize": true,
        "barmode": "relative",
        "coloraxis": {
         "colorbar": {
          "title": {
           "text": "co2_per_landmass"
          }
         },
         "colorscale": [
          [
           0,
           "#0d0887"
          ],
          [
           0.1111111111111111,
           "#46039f"
          ],
          [
           0.2222222222222222,
           "#7201a8"
          ],
          [
           0.3333333333333333,
           "#9c179e"
          ],
          [
           0.4444444444444444,
           "#bd3786"
          ],
          [
           0.5555555555555556,
           "#d8576b"
          ],
          [
           0.6666666666666666,
           "#ed7953"
          ],
          [
           0.7777777777777778,
           "#fb9f3a"
          ],
          [
           0.8888888888888888,
           "#fdca26"
          ],
          [
           1,
           "#f0f921"
          ]
         ]
        },
        "dragmode": "zoom",
        "legend": {
         "tracegroupgap": 0
        },
        "margin": {
         "t": 60
        },
        "template": {
         "data": {
          "bar": [
           {
            "error_x": {
             "color": "#2a3f5f"
            },
            "error_y": {
             "color": "#2a3f5f"
            },
            "marker": {
             "line": {
              "color": "#E5ECF6",
              "width": 0.5
             },
             "pattern": {
              "fillmode": "overlay",
              "size": 10,
              "solidity": 0.2
             }
            },
            "type": "bar"
           }
          ],
          "barpolar": [
           {
            "marker": {
             "line": {
              "color": "#E5ECF6",
              "width": 0.5
             },
             "pattern": {
              "fillmode": "overlay",
              "size": 10,
              "solidity": 0.2
             }
            },
            "type": "barpolar"
           }
          ],
          "carpet": [
           {
            "aaxis": {
             "endlinecolor": "#2a3f5f",
             "gridcolor": "white",
             "linecolor": "white",
             "minorgridcolor": "white",
             "startlinecolor": "#2a3f5f"
            },
            "baxis": {
             "endlinecolor": "#2a3f5f",
             "gridcolor": "white",
             "linecolor": "white",
             "minorgridcolor": "white",
             "startlinecolor": "#2a3f5f"
            },
            "type": "carpet"
           }
          ],
          "choropleth": [
           {
            "colorbar": {
             "outlinewidth": 0,
             "ticks": ""
            },
            "type": "choropleth"
           }
          ],
          "contour": [
           {
            "colorbar": {
             "outlinewidth": 0,
             "ticks": ""
            },
            "colorscale": [
             [
              0,
              "#0d0887"
             ],
             [
              0.1111111111111111,
              "#46039f"
             ],
             [
              0.2222222222222222,
              "#7201a8"
             ],
             [
              0.3333333333333333,
              "#9c179e"
             ],
             [
              0.4444444444444444,
              "#bd3786"
             ],
             [
              0.5555555555555556,
              "#d8576b"
             ],
             [
              0.6666666666666666,
              "#ed7953"
             ],
             [
              0.7777777777777778,
              "#fb9f3a"
             ],
             [
              0.8888888888888888,
              "#fdca26"
             ],
             [
              1,
              "#f0f921"
             ]
            ],
            "type": "contour"
           }
          ],
          "contourcarpet": [
           {
            "colorbar": {
             "outlinewidth": 0,
             "ticks": ""
            },
            "type": "contourcarpet"
           }
          ],
          "heatmap": [
           {
            "colorbar": {
             "outlinewidth": 0,
             "ticks": ""
            },
            "colorscale": [
             [
              0,
              "#0d0887"
             ],
             [
              0.1111111111111111,
              "#46039f"
             ],
             [
              0.2222222222222222,
              "#7201a8"
             ],
             [
              0.3333333333333333,
              "#9c179e"
             ],
             [
              0.4444444444444444,
              "#bd3786"
             ],
             [
              0.5555555555555556,
              "#d8576b"
             ],
             [
              0.6666666666666666,
              "#ed7953"
             ],
             [
              0.7777777777777778,
              "#fb9f3a"
             ],
             [
              0.8888888888888888,
              "#fdca26"
             ],
             [
              1,
              "#f0f921"
             ]
            ],
            "type": "heatmap"
           }
          ],
          "heatmapgl": [
           {
            "colorbar": {
             "outlinewidth": 0,
             "ticks": ""
            },
            "colorscale": [
             [
              0,
              "#0d0887"
             ],
             [
              0.1111111111111111,
              "#46039f"
             ],
             [
              0.2222222222222222,
              "#7201a8"
             ],
             [
              0.3333333333333333,
              "#9c179e"
             ],
             [
              0.4444444444444444,
              "#bd3786"
             ],
             [
              0.5555555555555556,
              "#d8576b"
             ],
             [
              0.6666666666666666,
              "#ed7953"
             ],
             [
              0.7777777777777778,
              "#fb9f3a"
             ],
             [
              0.8888888888888888,
              "#fdca26"
             ],
             [
              1,
              "#f0f921"
             ]
            ],
            "type": "heatmapgl"
           }
          ],
          "histogram": [
           {
            "marker": {
             "pattern": {
              "fillmode": "overlay",
              "size": 10,
              "solidity": 0.2
             }
            },
            "type": "histogram"
           }
          ],
          "histogram2d": [
           {
            "colorbar": {
             "outlinewidth": 0,
             "ticks": ""
            },
            "colorscale": [
             [
              0,
              "#0d0887"
             ],
             [
              0.1111111111111111,
              "#46039f"
             ],
             [
              0.2222222222222222,
              "#7201a8"
             ],
             [
              0.3333333333333333,
              "#9c179e"
             ],
             [
              0.4444444444444444,
              "#bd3786"
             ],
             [
              0.5555555555555556,
              "#d8576b"
             ],
             [
              0.6666666666666666,
              "#ed7953"
             ],
             [
              0.7777777777777778,
              "#fb9f3a"
             ],
             [
              0.8888888888888888,
              "#fdca26"
             ],
             [
              1,
              "#f0f921"
             ]
            ],
            "type": "histogram2d"
           }
          ],
          "histogram2dcontour": [
           {
            "colorbar": {
             "outlinewidth": 0,
             "ticks": ""
            },
            "colorscale": [
             [
              0,
              "#0d0887"
             ],
             [
              0.1111111111111111,
              "#46039f"
             ],
             [
              0.2222222222222222,
              "#7201a8"
             ],
             [
              0.3333333333333333,
              "#9c179e"
             ],
             [
              0.4444444444444444,
              "#bd3786"
             ],
             [
              0.5555555555555556,
              "#d8576b"
             ],
             [
              0.6666666666666666,
              "#ed7953"
             ],
             [
              0.7777777777777778,
              "#fb9f3a"
             ],
             [
              0.8888888888888888,
              "#fdca26"
             ],
             [
              1,
              "#f0f921"
             ]
            ],
            "type": "histogram2dcontour"
           }
          ],
          "mesh3d": [
           {
            "colorbar": {
             "outlinewidth": 0,
             "ticks": ""
            },
            "type": "mesh3d"
           }
          ],
          "parcoords": [
           {
            "line": {
             "colorbar": {
              "outlinewidth": 0,
              "ticks": ""
             }
            },
            "type": "parcoords"
           }
          ],
          "pie": [
           {
            "automargin": true,
            "type": "pie"
           }
          ],
          "scatter": [
           {
            "fillpattern": {
             "fillmode": "overlay",
             "size": 10,
             "solidity": 0.2
            },
            "type": "scatter"
           }
          ],
          "scatter3d": [
           {
            "line": {
             "colorbar": {
              "outlinewidth": 0,
              "ticks": ""
             }
            },
            "marker": {
             "colorbar": {
              "outlinewidth": 0,
              "ticks": ""
             }
            },
            "type": "scatter3d"
           }
          ],
          "scattercarpet": [
           {
            "marker": {
             "colorbar": {
              "outlinewidth": 0,
              "ticks": ""
             }
            },
            "type": "scattercarpet"
           }
          ],
          "scattergeo": [
           {
            "marker": {
             "colorbar": {
              "outlinewidth": 0,
              "ticks": ""
             }
            },
            "type": "scattergeo"
           }
          ],
          "scattergl": [
           {
            "marker": {
             "colorbar": {
              "outlinewidth": 0,
              "ticks": ""
             }
            },
            "type": "scattergl"
           }
          ],
          "scattermapbox": [
           {
            "marker": {
             "colorbar": {
              "outlinewidth": 0,
              "ticks": ""
             }
            },
            "type": "scattermapbox"
           }
          ],
          "scatterpolar": [
           {
            "marker": {
             "colorbar": {
              "outlinewidth": 0,
              "ticks": ""
             }
            },
            "type": "scatterpolar"
           }
          ],
          "scatterpolargl": [
           {
            "marker": {
             "colorbar": {
              "outlinewidth": 0,
              "ticks": ""
             }
            },
            "type": "scatterpolargl"
           }
          ],
          "scatterternary": [
           {
            "marker": {
             "colorbar": {
              "outlinewidth": 0,
              "ticks": ""
             }
            },
            "type": "scatterternary"
           }
          ],
          "surface": [
           {
            "colorbar": {
             "outlinewidth": 0,
             "ticks": ""
            },
            "colorscale": [
             [
              0,
              "#0d0887"
             ],
             [
              0.1111111111111111,
              "#46039f"
             ],
             [
              0.2222222222222222,
              "#7201a8"
             ],
             [
              0.3333333333333333,
              "#9c179e"
             ],
             [
              0.4444444444444444,
              "#bd3786"
             ],
             [
              0.5555555555555556,
              "#d8576b"
             ],
             [
              0.6666666666666666,
              "#ed7953"
             ],
             [
              0.7777777777777778,
              "#fb9f3a"
             ],
             [
              0.8888888888888888,
              "#fdca26"
             ],
             [
              1,
              "#f0f921"
             ]
            ],
            "type": "surface"
           }
          ],
          "table": [
           {
            "cells": {
             "fill": {
              "color": "#EBF0F8"
             },
             "line": {
              "color": "white"
             }
            },
            "header": {
             "fill": {
              "color": "#C8D4E3"
             },
             "line": {
              "color": "white"
             }
            },
            "type": "table"
           }
          ]
         },
         "layout": {
          "annotationdefaults": {
           "arrowcolor": "#2a3f5f",
           "arrowhead": 0,
           "arrowwidth": 1
          },
          "autotypenumbers": "strict",
          "coloraxis": {
           "colorbar": {
            "outlinewidth": 0,
            "ticks": ""
           }
          },
          "colorscale": {
           "diverging": [
            [
             0,
             "#8e0152"
            ],
            [
             0.1,
             "#c51b7d"
            ],
            [
             0.2,
             "#de77ae"
            ],
            [
             0.3,
             "#f1b6da"
            ],
            [
             0.4,
             "#fde0ef"
            ],
            [
             0.5,
             "#f7f7f7"
            ],
            [
             0.6,
             "#e6f5d0"
            ],
            [
             0.7,
             "#b8e186"
            ],
            [
             0.8,
             "#7fbc41"
            ],
            [
             0.9,
             "#4d9221"
            ],
            [
             1,
             "#276419"
            ]
           ],
           "sequential": [
            [
             0,
             "#0d0887"
            ],
            [
             0.1111111111111111,
             "#46039f"
            ],
            [
             0.2222222222222222,
             "#7201a8"
            ],
            [
             0.3333333333333333,
             "#9c179e"
            ],
            [
             0.4444444444444444,
             "#bd3786"
            ],
            [
             0.5555555555555556,
             "#d8576b"
            ],
            [
             0.6666666666666666,
             "#ed7953"
            ],
            [
             0.7777777777777778,
             "#fb9f3a"
            ],
            [
             0.8888888888888888,
             "#fdca26"
            ],
            [
             1,
             "#f0f921"
            ]
           ],
           "sequentialminus": [
            [
             0,
             "#0d0887"
            ],
            [
             0.1111111111111111,
             "#46039f"
            ],
            [
             0.2222222222222222,
             "#7201a8"
            ],
            [
             0.3333333333333333,
             "#9c179e"
            ],
            [
             0.4444444444444444,
             "#bd3786"
            ],
            [
             0.5555555555555556,
             "#d8576b"
            ],
            [
             0.6666666666666666,
             "#ed7953"
            ],
            [
             0.7777777777777778,
             "#fb9f3a"
            ],
            [
             0.8888888888888888,
             "#fdca26"
            ],
            [
             1,
             "#f0f921"
            ]
           ]
          },
          "colorway": [
           "#636efa",
           "#EF553B",
           "#00cc96",
           "#ab63fa",
           "#FFA15A",
           "#19d3f3",
           "#FF6692",
           "#B6E880",
           "#FF97FF",
           "#FECB52"
          ],
          "font": {
           "color": "#2a3f5f"
          },
          "geo": {
           "bgcolor": "white",
           "lakecolor": "white",
           "landcolor": "#E5ECF6",
           "showlakes": true,
           "showland": true,
           "subunitcolor": "white"
          },
          "hoverlabel": {
           "align": "left"
          },
          "hovermode": "closest",
          "mapbox": {
           "style": "light"
          },
          "paper_bgcolor": "white",
          "plot_bgcolor": "#E5ECF6",
          "polar": {
           "angularaxis": {
            "gridcolor": "white",
            "linecolor": "white",
            "ticks": ""
           },
           "bgcolor": "#E5ECF6",
           "radialaxis": {
            "gridcolor": "white",
            "linecolor": "white",
            "ticks": ""
           }
          },
          "scene": {
           "xaxis": {
            "backgroundcolor": "#E5ECF6",
            "gridcolor": "white",
            "gridwidth": 2,
            "linecolor": "white",
            "showbackground": true,
            "ticks": "",
            "zerolinecolor": "white"
           },
           "yaxis": {
            "backgroundcolor": "#E5ECF6",
            "gridcolor": "white",
            "gridwidth": 2,
            "linecolor": "white",
            "showbackground": true,
            "ticks": "",
            "zerolinecolor": "white"
           },
           "zaxis": {
            "backgroundcolor": "#E5ECF6",
            "gridcolor": "white",
            "gridwidth": 2,
            "linecolor": "white",
            "showbackground": true,
            "ticks": "",
            "zerolinecolor": "white"
           }
          },
          "shapedefaults": {
           "line": {
            "color": "#2a3f5f"
           }
          },
          "ternary": {
           "aaxis": {
            "gridcolor": "white",
            "linecolor": "white",
            "ticks": ""
           },
           "baxis": {
            "gridcolor": "white",
            "linecolor": "white",
            "ticks": ""
           },
           "bgcolor": "#E5ECF6",
           "caxis": {
            "gridcolor": "white",
            "linecolor": "white",
            "ticks": ""
           }
          },
          "title": {
           "x": 0.05
          },
          "xaxis": {
           "automargin": true,
           "gridcolor": "white",
           "linecolor": "white",
           "ticks": "",
           "title": {
            "standoff": 15
           },
           "zerolinecolor": "white",
           "zerolinewidth": 2
          },
          "yaxis": {
           "automargin": true,
           "gridcolor": "white",
           "linecolor": "white",
           "ticks": "",
           "title": {
            "standoff": 15
           },
           "zerolinecolor": "white",
           "zerolinewidth": 2
          }
         }
        },
        "xaxis": {
         "anchor": "y",
         "autorange": true,
         "domain": [
          0,
          1
         ],
         "range": [
          -0.5,
          184.5
         ],
         "title": {
          "text": "country"
         },
         "type": "category"
        },
        "yaxis": {
         "anchor": "x",
         "autorange": true,
         "domain": [
          0,
          1
         ],
         "range": [
          0,
          126974.2576608187
         ],
         "title": {
          "text": "co2_per_landmass"
         },
         "type": "linear"
        }
       }
      },
      "image/png": "[encoded data removed]",
      "text/html": [
       "<div>                            <div id=\"bfebf304-75cb-4dad-a8c3-ad6be925113c\" class=\"plotly-graph-div\" style=\"height:400px; width:100%;\"></div>            <script type=\"text/javascript\">                require([\"plotly\"], function(Plotly) {                    window.PLOTLYENV=window.PLOTLYENV || {};                                    if (document.getElementById(\"bfebf304-75cb-4dad-a8c3-ad6be925113c\")) {                    Plotly.newPlot(                        \"bfebf304-75cb-4dad-a8c3-ad6be925113c\",                        [{\"alignmentgroup\":\"True\",\"hovertemplate\":\"country=%{x}<br>co2_per_landmass=%{marker.color}<extra></extra>\",\"legendgroup\":\"\",\"marker\":{\"color\":[0.0715591504853556,0.001149107832354,0.0127587887185676,0.0001495548052557,0.0084204144867018,0.0,0.0022545484055556,0.0082527690817498,5.244825915160381,0.0470459239127786,0.0095920811093692,9.259497785436867e-05,0.2303373765059102,0.0056852247805139,0.0003068984061175,0.0,0.11360937359375,9.875825714739518,0.0910081304176205,0.0038742279008582,0.0013604438382546,0.0056055199457583,0.0002884181999098,2.414530653047796,0.4009046319579064,0.0040457941942369,0.0066154889749379,0.0057533732676746,0.0173048984926317,0.0,0.005023016923116,14.4004827364525,0.0158194221471905,2.2817451024254214,0.338438894255094,0.0732457690566519,0.93134614594369,1.3035779535708067,27.4743919571971,0.0036266756531454,0.000423482071886,0.0176582215096461,0.0,0.0184384115484742,0.0203780718941557,3.400485144596004,0.0067906328150451,0.6517025237380206,0.00235708045747,0.0005900374231249,0.0,0.0037776876543323,0.0,0.0,0.5819204406035665,0.0012020950425026,0.0008384478653117,0.0053629005560307,0.0006700081785667,16.43500114746614,0.0369216405012558,1.6002025198445105,0.6168937699515347,0.0283717214194652,1.0040666576743438,0.3316520389619883,44.094945729368426,1.3541351860907362,0.0023604101550545,0.0417889458107717,0.8713843791143028,0.0,7.404337473922114,61.59795991871984,0.0031530199315203,0.2460915237625305,0.0005098572602537,27.52668389326934,0.1992307687179487,2.554325413877446,0.3006837166013674,0.0004185559725148,0.5250378467468838,0.0025601242288595,1.2160544814691707,2.686359824989393,1.9826372239773693,0.0443419652358992,2.0441505308785413,0.5897009887873754,0.3063743397199705,0.0,0.0,0.6213428694832888,235.8362891737892,0.0896233422192529,12.18066475212289,9.411845600274413,0.0087118557292548,0.4303199020843432,2.3669389763446915,0.7650310056619035,0.1080631780410086,9.14515909130498,0.2883868314865448,93.6776489007436,0.1515490222133503,0.0,4.910645271189557,0.0593280902966404,1.1263671517578124,0.7418723223658441,3.5448147381494515,0.4294736984795321,0.6807499885,1.0677160902880904,0.0,0.1900891452543261,0.190256042140825,0.1252866048545519,0.2410832295574636,510.5246264822134,0.0,0.0321543399857091,0.0182481751824817,2.1390374331550803,3.6218848185358254,1.6828737688679245,112.85285991082286,0.2311657384615384,0.0073339086194995,0.0,0.0,14.659888641404804,1.7381458453348164,0.1176148848468271,16.448822605363986,77.57575667789001,0.0,99.07128473436448,1.7152416126394052,2817.3918022969647,6.436031066144474,2.2742381495844874,0.115347013489736,10.42099577056277,6.317925695603156,5.8304093274853805,26.496687185249208,0.0,2.940376838997864,0.7142857379310346,0.349274570768404,0.131771601171303,2.760416765625,2.373417721518988,0.3086419753086419,3.6178342853503183,39.60000101333333,3866.7778527777778,0.5013927775766016,4309.298331578948,5.277777601851852,4013.2314829787233,16.304347826086957,16.478260704347825,55.89130234782609,0.0,878.47727,16.25581342093023,0.0,114.7500038125,8519.751636666666,29.958333570833336,2.5999999045,120625.54477777776,3350.1667566666665,148.6250043125,0.0,11.49999996,413.7037064814815,414.9999936666666,1700.499916,580.88236,4429.9998285],\"coloraxis\":\"coloraxis\",\"pattern\":{\"shape\":\"\"}},\"name\":\"\",\"offsetgroup\":\"\",\"orientation\":\"v\",\"showlegend\":false,\"textposition\":\"auto\",\"x\":[\"Canada\",\"China\",\"United States\",\"Brazil\",\"Australia\",\"India\",\"Argentina\",\"Kazakhstan\",\"Algeria\",\"Greenland\",\"Saudi Arabia\",\"Mexico\",\"Indonesia\",\"Sudan\",\"Libya\",\"Mongolia\",\"Peru\",\"Chad\",\"Niger\",\"Angola\",\"Mali\",\"South Africa\",\"Colombia\",\"Ethiopia\",\"Bolivia\",\"Mauritania\",\"Tanzania\",\"Nigeria\",\"Pakistan\",\"Namibia\",\"Mozambique\",\"Chile\",\"Zambia\",\"Myanmar\",\"Afghanistan\",\"Somalia\",\"Central African Republic\",\"South Sudan\",\"Ukraine\",\"Madagascar\",\"Botswana\",\"Kenya\",\"France\",\"Thailand\",\"Spain\",\"Turkmenistan\",\"Cameroon\",\"Papua New Guinea\",\"Sweden\",\"Uzbekistan\",\"Morocco\",\"Iraq\",\"Paraguay\",\"Zimbabwe\",\"Japan\",\"Germany\",\"Philippines\",\"Finland\",\"Vietnam\",\"Malaysia\",\"Norway\",\"Poland\",\"Oman\",\"Italy\",\"Ecuador\",\"Burkina Faso\",\"New Zealand\",\"Gabon\",\"Guinea\",\"United Kingdom\",\"Uganda\",\"Ghana\",\"Romania\",\"Guyana\",\"Belarus\",\"Senegal\",\"Cambodia\",\"Uruguay\",\"Suriname\",\"Tunisia\",\"Bangladesh\",\"Nepal\",\"Tajikistan\",\"Greece\",\"Nicaragua\",\"Malawi\",\"Eritrea\",\"Benin\",\"Honduras\",\"Liberia\",\"Bulgaria\",\"Cuba\",\"Guatemala\",\"Iceland\",\"Hungary\",\"Portugal\",\"Jordan\",\"Serbia\",\"Azerbaijan\",\"Austria\",\"United Arab Emirates\",\"Panama\",\"Sierra Leone\",\"Ireland\",\"Georgia\",\"Sri Lanka\",\"Lithuania\",\"Latvia\",\"Togo\",\"Croatia\",\"Bosnia and Herzegovina\",\"Costa Rica\",\"Dominican Republic\",\"Estonia\",\"Denmark\",\"Netherlands\",\"Switzerland\",\"Bhutan\",\"Guinea-Bissau\",\"Moldova\",\"Belgium\",\"Lesotho\",\"Armenia\",\"Solomon Islands\",\"Albania\",\"Equatorial Guinea\",\"Burundi\",\"Haiti\",\"Rwanda\",\"North Macedonia\",\"Djibouti\",\"Belize\",\"El Salvador\",\"Israel\",\"Slovenia\",\"New Caledonia\",\"Fiji\",\"Kuwait\",\"Eswatini\",\"Timor-Leste\",\"Montenegro\",\"Vanuatu\",\"Qatar\",\"Jamaica\",\"Lebanon\",\"Cyprus\",\"Puerto Rico\",\"Trinidad and Tobago\",\"French Polynesia\",\"Samoa\",\"Luxembourg\",\"Mauritius\",\"Comoros\",\"Faroe Islands\",\"Sao Tome and Principe\",\"Turks and Caicos Islands\",\"Kiribati\",\"Bahrain\",\"Dominica\",\"Tonga\",\"Singapore\",\"Isle of Man\",\"Guam\",\"Andorra\",\"Northern Mariana Islands\",\"Palau\",\"Seychelles\",\"Curacao\",\"Antigua and Barbuda\",\"Barbados\",\"Grenada\",\"Malta\",\"Maldives\",\"Cayman Islands\",\"American Samoa\",\"Marshall Islands\",\"Aruba\",\"Liechtenstein\",\"British Virgin Islands\",\"San Marino\",\"Bermuda\",\"Tuvalu\",\"Nauru\",\"Gibraltar\",\"Monaco\"],\"xaxis\":\"x\",\"y\":[0.0715591504853556,0.001149107832354,0.0127587887185676,0.0001495548052557,0.0084204144867018,0.0,0.0022545484055556,0.0082527690817498,5.244825915160381,0.0470459239127786,0.0095920811093692,9.259497785436867e-05,0.2303373765059102,0.0056852247805139,0.0003068984061175,0.0,0.11360937359375,9.875825714739518,0.0910081304176205,0.0038742279008582,0.0013604438382546,0.0056055199457583,0.0002884181999098,2.414530653047796,0.4009046319579064,0.0040457941942369,0.0066154889749379,0.0057533732676746,0.0173048984926317,0.0,0.005023016923116,14.4004827364525,0.0158194221471905,2.2817451024254214,0.338438894255094,0.0732457690566519,0.93134614594369,1.3035779535708067,27.4743919571971,0.0036266756531454,0.000423482071886,0.0176582215096461,0.0,0.0184384115484742,0.0203780718941557,3.400485144596004,0.0067906328150451,0.6517025237380206,0.00235708045747,0.0005900374231249,0.0,0.0037776876543323,0.0,0.0,0.5819204406035665,0.0012020950425026,0.0008384478653117,0.0053629005560307,0.0006700081785667,16.43500114746614,0.0369216405012558,1.6002025198445105,0.6168937699515347,0.0283717214194652,1.0040666576743438,0.3316520389619883,44.094945729368426,1.3541351860907362,0.0023604101550545,0.0417889458107717,0.8713843791143028,0.0,7.404337473922114,61.59795991871984,0.0031530199315203,0.2460915237625305,0.0005098572602537,27.52668389326934,0.1992307687179487,2.554325413877446,0.3006837166013674,0.0004185559725148,0.5250378467468838,0.0025601242288595,1.2160544814691707,2.686359824989393,1.9826372239773693,0.0443419652358992,2.0441505308785413,0.5897009887873754,0.3063743397199705,0.0,0.0,0.6213428694832888,235.8362891737892,0.0896233422192529,12.18066475212289,9.411845600274413,0.0087118557292548,0.4303199020843432,2.3669389763446915,0.7650310056619035,0.1080631780410086,9.14515909130498,0.2883868314865448,93.6776489007436,0.1515490222133503,0.0,4.910645271189557,0.0593280902966404,1.1263671517578124,0.7418723223658441,3.5448147381494515,0.4294736984795321,0.6807499885,1.0677160902880904,0.0,0.1900891452543261,0.190256042140825,0.1252866048545519,0.2410832295574636,510.5246264822134,0.0,0.0321543399857091,0.0182481751824817,2.1390374331550803,3.6218848185358254,1.6828737688679245,112.85285991082286,0.2311657384615384,0.0073339086194995,0.0,0.0,14.659888641404804,1.7381458453348164,0.1176148848468271,16.448822605363986,77.57575667789001,0.0,99.07128473436448,1.7152416126394052,2817.3918022969647,6.436031066144474,2.2742381495844874,0.115347013489736,10.42099577056277,6.317925695603156,5.8304093274853805,26.496687185249208,0.0,2.940376838997864,0.7142857379310346,0.349274570768404,0.131771601171303,2.760416765625,2.373417721518988,0.3086419753086419,3.6178342853503183,39.60000101333333,3866.7778527777778,0.5013927775766016,4309.298331578948,5.277777601851852,4013.2314829787233,16.304347826086957,16.478260704347825,55.89130234782609,0.0,878.47727,16.25581342093023,0.0,114.7500038125,8519.751636666666,29.958333570833336,2.5999999045,120625.54477777776,3350.1667566666665,148.6250043125,0.0,11.49999996,413.7037064814815,414.9999936666666,1700.499916,580.88236,4429.9998285],\"yaxis\":\"y\",\"type\":\"bar\"}],                        {\"template\":{\"data\":{\"histogram2dcontour\":[{\"type\":\"histogram2dcontour\",\"colorbar\":{\"outlinewidth\":0,\"ticks\":\"\"},\"colorscale\":[[0.0,\"#0d0887\"],[0.1111111111111111,\"#46039f\"],[0.2222222222222222,\"#7201a8\"],[0.3333333333333333,\"#9c179e\"],[0.4444444444444444,\"#bd3786\"],[0.5555555555555556,\"#d8576b\"],[0.6666666666666666,\"#ed7953\"],[0.7777777777777778,\"#fb9f3a\"],[0.8888888888888888,\"#fdca26\"],[1.0,\"#f0f921\"]]}],\"choropleth\":[{\"type\":\"choropleth\",\"colorbar\":{\"outlinewidth\":0,\"ticks\":\"\"}}],\"histogram2d\":[{\"type\":\"histogram2d\",\"colorbar\":{\"outlinewidth\":0,\"ticks\":\"\"},\"colorscale\":[[0.0,\"#0d0887\"],[0.1111111111111111,\"#46039f\"],[0.2222222222222222,\"#7201a8\"],[0.3333333333333333,\"#9c179e\"],[0.4444444444444444,\"#bd3786\"],[0.5555555555555556,\"#d8576b\"],[0.6666666666666666,\"#ed7953\"],[0.7777777777777778,\"#fb9f3a\"],[0.8888888888888888,\"#fdca26\"],[1.0,\"#f0f921\"]]}],\"heatmap\":[{\"type\":\"heatmap\",\"colorbar\":{\"outlinewidth\":0,\"ticks\":\"\"},\"colorscale\":[[0.0,\"#0d0887\"],[0.1111111111111111,\"#46039f\"],[0.2222222222222222,\"#7201a8\"],[0.3333333333333333,\"#9c179e\"],[0.4444444444444444,\"#bd3786\"],[0.5555555555555556,\"#d8576b\"],[0.6666666666666666,\"#ed7953\"],[0.7777777777777778,\"#fb9f3a\"],[0.8888888888888888,\"#fdca26\"],[1.0,\"#f0f921\"]]}],\"heatmapgl\":[{\"type\":\"heatmapgl\",\"colorbar\":{\"outlinewidth\":0,\"ticks\":\"\"},\"colorscale\":[[0.0,\"#0d0887\"],[0.1111111111111111,\"#46039f\"],[0.2222222222222222,\"#7201a8\"],[0.3333333333333333,\"#9c179e\"],[0.4444444444444444,\"#bd3786\"],[0.5555555555555556,\"#d8576b\"],[0.6666666666666666,\"#ed7953\"],[0.7777777777777778,\"#fb9f3a\"],[0.8888888888888888,\"#fdca26\"],[1.0,\"#f0f921\"]]}],\"contourcarpet\":[{\"type\":\"contourcarpet\",\"colorbar\":{\"outlinewidth\":0,\"ticks\":\"\"}}],\"contour\":[{\"type\":\"contour\",\"colorbar\":{\"outlinewidth\":0,\"ticks\":\"\"},\"colorscale\":[[0.0,\"#0d0887\"],[0.1111111111111111,\"#46039f\"],[0.2222222222222222,\"#7201a8\"],[0.3333333333333333,\"#9c179e\"],[0.4444444444444444,\"#bd3786\"],[0.5555555555555556,\"#d8576b\"],[0.6666666666666666,\"#ed7953\"],[0.7777777777777778,\"#fb9f3a\"],[0.8888888888888888,\"#fdca26\"],[1.0,\"#f0f921\"]]}],\"surface\":[{\"type\":\"surface\",\"colorbar\":{\"outlinewidth\":0,\"ticks\":\"\"},\"colorscale\":[[0.0,\"#0d0887\"],[0.1111111111111111,\"#46039f\"],[0.2222222222222222,\"#7201a8\"],[0.3333333333333333,\"#9c179e\"],[0.4444444444444444,\"#bd3786\"],[0.5555555555555556,\"#d8576b\"],[0.6666666666666666,\"#ed7953\"],[0.7777777777777778,\"#fb9f3a\"],[0.8888888888888888,\"#fdca26\"],[1.0,\"#f0f921\"]]}],\"mesh3d\":[{\"type\":\"mesh3d\",\"colorbar\":{\"outlinewidth\":0,\"ticks\":\"\"}}],\"scatter\":[{\"fillpattern\":{\"fillmode\":\"overlay\",\"size\":10,\"solidity\":0.2},\"type\":\"scatter\"}],\"parcoords\":[{\"type\":\"parcoords\",\"line\":{\"colorbar\":{\"outlinewidth\":0,\"ticks\":\"\"}}}],\"scatterpolargl\":[{\"type\":\"scatterpolargl\",\"marker\":{\"colorbar\":{\"outlinewidth\":0,\"ticks\":\"\"}}}],\"bar\":[{\"error_x\":{\"color\":\"#2a3f5f\"},\"error_y\":{\"color\":\"#2a3f5f\"},\"marker\":{\"line\":{\"color\":\"#E5ECF6\",\"width\":0.5},\"pattern\":{\"fillmode\":\"overlay\",\"size\":10,\"solidity\":0.2}},\"type\":\"bar\"}],\"scattergeo\":[{\"type\":\"scattergeo\",\"marker\":{\"colorbar\":{\"outlinewidth\":0,\"ticks\":\"\"}}}],\"scatterpolar\":[{\"type\":\"scatterpolar\",\"marker\":{\"colorbar\":{\"outlinewidth\":0,\"ticks\":\"\"}}}],\"histogram\":[{\"marker\":{\"pattern\":{\"fillmode\":\"overlay\",\"size\":10,\"solidity\":0.2}},\"type\":\"histogram\"}],\"scattergl\":[{\"type\":\"scattergl\",\"marker\":{\"colorbar\":{\"outlinewidth\":0,\"ticks\":\"\"}}}],\"scatter3d\":[{\"type\":\"scatter3d\",\"line\":{\"colorbar\":{\"outlinewidth\":0,\"ticks\":\"\"}},\"marker\":{\"colorbar\":{\"outlinewidth\":0,\"ticks\":\"\"}}}],\"scattermapbox\":[{\"type\":\"scattermapbox\",\"marker\":{\"colorbar\":{\"outlinewidth\":0,\"ticks\":\"\"}}}],\"scatterternary\":[{\"type\":\"scatterternary\",\"marker\":{\"colorbar\":{\"outlinewidth\":0,\"ticks\":\"\"}}}],\"scattercarpet\":[{\"type\":\"scattercarpet\",\"marker\":{\"colorbar\":{\"outlinewidth\":0,\"ticks\":\"\"}}}],\"carpet\":[{\"aaxis\":{\"endlinecolor\":\"#2a3f5f\",\"gridcolor\":\"white\",\"linecolor\":\"white\",\"minorgridcolor\":\"white\",\"startlinecolor\":\"#2a3f5f\"},\"baxis\":{\"endlinecolor\":\"#2a3f5f\",\"gridcolor\":\"white\",\"linecolor\":\"white\",\"minorgridcolor\":\"white\",\"startlinecolor\":\"#2a3f5f\"},\"type\":\"carpet\"}],\"table\":[{\"cells\":{\"fill\":{\"color\":\"#EBF0F8\"},\"line\":{\"color\":\"white\"}},\"header\":{\"fill\":{\"color\":\"#C8D4E3\"},\"line\":{\"color\":\"white\"}},\"type\":\"table\"}],\"barpolar\":[{\"marker\":{\"line\":{\"color\":\"#E5ECF6\",\"width\":0.5},\"pattern\":{\"fillmode\":\"overlay\",\"size\":10,\"solidity\":0.2}},\"type\":\"barpolar\"}],\"pie\":[{\"automargin\":true,\"type\":\"pie\"}]},\"layout\":{\"autotypenumbers\":\"strict\",\"colorway\":[\"#636efa\",\"#EF553B\",\"#00cc96\",\"#ab63fa\",\"#FFA15A\",\"#19d3f3\",\"#FF6692\",\"#B6E880\",\"#FF97FF\",\"#FECB52\"],\"font\":{\"color\":\"#2a3f5f\"},\"hovermode\":\"closest\",\"hoverlabel\":{\"align\":\"left\"},\"paper_bgcolor\":\"white\",\"plot_bgcolor\":\"#E5ECF6\",\"polar\":{\"bgcolor\":\"#E5ECF6\",\"angularaxis\":{\"gridcolor\":\"white\",\"linecolor\":\"white\",\"ticks\":\"\"},\"radialaxis\":{\"gridcolor\":\"white\",\"linecolor\":\"white\",\"ticks\":\"\"}},\"ternary\":{\"bgcolor\":\"#E5ECF6\",\"aaxis\":{\"gridcolor\":\"white\",\"linecolor\":\"white\",\"ticks\":\"\"},\"baxis\":{\"gridcolor\":\"white\",\"linecolor\":\"white\",\"ticks\":\"\"},\"caxis\":{\"gridcolor\":\"white\",\"linecolor\":\"white\",\"ticks\":\"\"}},\"coloraxis\":{\"colorbar\":{\"outlinewidth\":0,\"ticks\":\"\"}},\"colorscale\":{\"sequential\":[[0.0,\"#0d0887\"],[0.1111111111111111,\"#46039f\"],[0.2222222222222222,\"#7201a8\"],[0.3333333333333333,\"#9c179e\"],[0.4444444444444444,\"#bd3786\"],[0.5555555555555556,\"#d8576b\"],[0.6666666666666666,\"#ed7953\"],[0.7777777777777778,\"#fb9f3a\"],[0.8888888888888888,\"#fdca26\"],[1.0,\"#f0f921\"]],\"sequentialminus\":[[0.0,\"#0d0887\"],[0.1111111111111111,\"#46039f\"],[0.2222222222222222,\"#7201a8\"],[0.3333333333333333,\"#9c179e\"],[0.4444444444444444,\"#bd3786\"],[0.5555555555555556,\"#d8576b\"],[0.6666666666666666,\"#ed7953\"],[0.7777777777777778,\"#fb9f3a\"],[0.8888888888888888,\"#fdca26\"],[1.0,\"#f0f921\"]],\"diverging\":[[0,\"#8e0152\"],[0.1,\"#c51b7d\"],[0.2,\"#de77ae\"],[0.3,\"#f1b6da\"],[0.4,\"#fde0ef\"],[0.5,\"#f7f7f7\"],[0.6,\"#e6f5d0\"],[0.7,\"#b8e186\"],[0.8,\"#7fbc41\"],[0.9,\"#4d9221\"],[1,\"#276419\"]]},\"xaxis\":{\"gridcolor\":\"white\",\"linecolor\":\"white\",\"ticks\":\"\",\"title\":{\"standoff\":15},\"zerolinecolor\":\"white\",\"automargin\":true,\"zerolinewidth\":2},\"yaxis\":{\"gridcolor\":\"white\",\"linecolor\":\"white\",\"ticks\":\"\",\"title\":{\"standoff\":15},\"zerolinecolor\":\"white\",\"automargin\":true,\"zerolinewidth\":2},\"scene\":{\"xaxis\":{\"backgroundcolor\":\"#E5ECF6\",\"gridcolor\":\"white\",\"linecolor\":\"white\",\"showbackground\":true,\"ticks\":\"\",\"zerolinecolor\":\"white\",\"gridwidth\":2},\"yaxis\":{\"backgroundcolor\":\"#E5ECF6\",\"gridcolor\":\"white\",\"linecolor\":\"white\",\"showbackground\":true,\"ticks\":\"\",\"zerolinecolor\":\"white\",\"gridwidth\":2},\"zaxis\":{\"backgroundcolor\":\"#E5ECF6\",\"gridcolor\":\"white\",\"linecolor\":\"white\",\"showbackground\":true,\"ticks\":\"\",\"zerolinecolor\":\"white\",\"gridwidth\":2}},\"shapedefaults\":{\"line\":{\"color\":\"#2a3f5f\"}},\"annotationdefaults\":{\"arrowcolor\":\"#2a3f5f\",\"arrowhead\":0,\"arrowwidth\":1},\"geo\":{\"bgcolor\":\"white\",\"landcolor\":\"#E5ECF6\",\"subunitcolor\":\"white\",\"showland\":true,\"showlakes\":true,\"lakecolor\":\"white\"},\"title\":{\"x\":0.05},\"mapbox\":{\"style\":\"light\"}}},\"xaxis\":{\"anchor\":\"y\",\"domain\":[0.0,1.0],\"title\":{\"text\":\"country\"}},\"yaxis\":{\"anchor\":\"x\",\"domain\":[0.0,1.0],\"title\":{\"text\":\"co2_per_landmass\"}},\"coloraxis\":{\"colorbar\":{\"title\":{\"text\":\"co2_per_landmass\"}},\"colorscale\":[[0.0,\"#0d0887\"],[0.1111111111111111,\"#46039f\"],[0.2222222222222222,\"#7201a8\"],[0.3333333333333333,\"#9c179e\"],[0.4444444444444444,\"#bd3786\"],[0.5555555555555556,\"#d8576b\"],[0.6666666666666666,\"#ed7953\"],[0.7777777777777778,\"#fb9f3a\"],[0.8888888888888888,\"#fdca26\"],[1.0,\"#f0f921\"]]},\"legend\":{\"tracegroupgap\":0},\"margin\":{\"t\":60},\"barmode\":\"relative\",\"height\":400},                        {\"responsive\": true}                    ).then(function(){\n",
       "                            \n",
       "var gd = document.getElementById('bfebf304-75cb-4dad-a8c3-ad6be925113c');\n",
       "var x = new MutationObserver(function (mutations, observer) {{\n",
       "        var display = window.getComputedStyle(gd).display;\n",
       "        if (!display || display === 'none') {{\n",
       "            console.log([gd, 'removed!']);\n",
       "            Plotly.purge(gd);\n",
       "            observer.disconnect();\n",
       "        }}\n",
       "}});\n",
       "\n",
       "// Listen for the removal of the full notebook cells\n",
       "var notebookContainer = gd.closest('#notebook-container');\n",
       "if (notebookContainer) {{\n",
       "    x.observe(notebookContainer, {childList: true});\n",
       "}}\n",
       "\n",
       "// Listen for the clearing of the current output cell\n",
       "var outputEl = gd.closest('.output');\n",
       "if (outputEl) {{\n",
       "    x.observe(outputEl, {childList: true});\n",
       "}}\n",
       "\n",
       "                        })                };                });            </script>        </div>"
      ]
     },
     "metadata": {},
     "output_type": "display_data"
    }
   ],
   "source": [
    "df = pd.read_csv(\"dataco2.csv\")\n",
    "\n",
    "fig = px.bar(df, x='country', y='co2_per_landmass', color='co2_per_landmass', height=400)\n",
    "\n",
    "fig.show()"
   ]
  },
  {
   "cell_type": "code",
   "execution_count": 80,
   "id": "a063ae0f-ddac-4b2e-bec6-8b8326f011b7",
   "metadata": {},
   "outputs": [
    {
     "data": {
      "application/vnd.plotly.v1+json": {
       "config": {
        "plotlyServerURL": "https://plot.ly"
       },
       "data": [
        {
         "alignmentgroup": "True",
         "hovertemplate": "co2_per_landmass=%{y}<extra></extra>",
         "legendgroup": "",
         "marker": {
          "color": "#636efa"
         },
         "name": "",
         "notched": false,
         "offsetgroup": "",
         "orientation": "v",
         "showlegend": false,
         "type": "box",
         "x0": " ",
         "xaxis": "x",
         "y": [
          0.07155915048535567,
          0.0011491078323540575,
          0.01275878871856764,
          0.0001495548052557148,
          0.008420414486701803,
          0,
          0.0022545484055556167,
          0.008252769081749824,
          5.244825915160381,
          0.047045923912778655,
          0.009592081109369259,
          9.259497785436869e-05,
          0.2303373765059102,
          0.005685224780513918,
          0.000306898406117508,
          0,
          0.11360937359375001,
          9.875825714739518,
          0.09100813041762058,
          0.0038742279008582656,
          0.001360443838254698,
          0.0056055199457583525,
          0.0002884181999098693,
          2.414530653047796,
          0.4009046319579064,
          0.004045794194236927,
          0.006615488974937909,
          0.005753373267674605,
          0.017304898492631796,
          0,
          0.0050230169231160506,
          14.400482736452501,
          0.015819422147190572,
          2.2817451024254214,
          0.33843889425509405,
          0.0732457690566519,
          0.93134614594369,
          1.3035779535708067,
          27.4743919571971,
          0.003626675653145411,
          0.00042348207188608333,
          0.017658221509646133,
          0,
          0.018438411548474233,
          0.020378071894155737,
          3.4004851445960034,
          0.0067906328150451655,
          0.6517025237380206,
          0.0023570804574700424,
          0.0005900374231249292,
          0,
          0.003777687654332363,
          0,
          0,
          0.5819204406035665,
          0.0012020950425026475,
          0.0008384478653117349,
          0.0053629005560307955,
          0.0006700081785667567,
          16.43500114746614,
          0.03692164050125588,
          1.6002025198445105,
          0.6168937699515347,
          0.028371721419465232,
          1.0040666576743438,
          0.3316520389619883,
          44.094945729368426,
          1.3541351860907362,
          0.0023604101550545337,
          0.04178894581077171,
          0.8713843791143028,
          0,
          7.404337473922114,
          61.59795991871984,
          0.003153019931520347,
          0.24609152376253052,
          0.0005098572602537956,
          27.52668389326934,
          0.1992307687179487,
          2.554325413877446,
          0.30068371660136745,
          0.00041855597251482386,
          0.5250378467468838,
          0.002560124228859581,
          1.2160544814691707,
          2.686359824989393,
          1.9826372239773695,
          0.044341965235899256,
          2.0441505308785413,
          0.5897009887873754,
          0.3063743397199705,
          0,
          0,
          0.6213428694832888,
          235.83628917378917,
          0.08962334221925297,
          12.18066475212289,
          9.411845600274411,
          0.008711855729254894,
          0.4303199020843432,
          2.3669389763446915,
          0.7650310056619035,
          0.1080631780410086,
          9.14515909130498,
          0.2883868314865448,
          93.6776489007436,
          0.15154902221335037,
          0,
          4.910645271189557,
          0.059328090296640455,
          1.1263671517578124,
          0.7418723223658441,
          3.5448147381494515,
          0.42947369847953215,
          0.6807499885,
          1.0677160902880904,
          0,
          0.19008914525432616,
          0.19025604214082503,
          0.12528660485455198,
          0.24108322955746367,
          510.5246264822134,
          0,
          0.032154339985709185,
          0.01824817518248175,
          2.1390374331550803,
          3.6218848185358254,
          1.6828737688679245,
          112.85285991082286,
          0.23116573846153846,
          0.007333908619499569,
          0,
          0,
          14.659888641404805,
          1.7381458453348164,
          0.11761488484682713,
          16.448822605363986,
          77.57575667789001,
          0,
          99.07128473436448,
          1.7152416126394052,
          2817.3918022969647,
          6.436031066144474,
          2.2742381495844874,
          0.11534701348973606,
          10.42099577056277,
          6.317925695603156,
          5.8304093274853805,
          26.496687185249208,
          0,
          2.9403768389978637,
          0.7142857379310346,
          0.34927457076840407,
          0.13177160117130307,
          2.760416765625,
          2.3734177215189876,
          0.30864197530864196,
          3.6178342853503183,
          39.60000101333333,
          3866.7778527777778,
          0.5013927775766016,
          4309.298331578948,
          5.277777601851852,
          4013.2314829787233,
          16.304347826086957,
          16.478260704347825,
          55.89130234782609,
          0,
          878.47727,
          16.25581342093023,
          0,
          114.7500038125,
          8519.751636666666,
          29.958333570833336,
          2.5999999044999997,
          120625.54477777777,
          3350.1667566666665,
          148.6250043125,
          0,
          11.49999996,
          413.7037064814815,
          414.9999936666666,
          1700.499916,
          580.88236,
          4429.9998285
         ],
         "y0": " ",
         "yaxis": "y"
        }
       ],
       "layout": {
        "autosize": true,
        "boxmode": "group",
        "legend": {
         "tracegroupgap": 0
        },
        "margin": {
         "t": 60
        },
        "template": {
         "data": {
          "bar": [
           {
            "error_x": {
             "color": "#2a3f5f"
            },
            "error_y": {
             "color": "#2a3f5f"
            },
            "marker": {
             "line": {
              "color": "#E5ECF6",
              "width": 0.5
             },
             "pattern": {
              "fillmode": "overlay",
              "size": 10,
              "solidity": 0.2
             }
            },
            "type": "bar"
           }
          ],
          "barpolar": [
           {
            "marker": {
             "line": {
              "color": "#E5ECF6",
              "width": 0.5
             },
             "pattern": {
              "fillmode": "overlay",
              "size": 10,
              "solidity": 0.2
             }
            },
            "type": "barpolar"
           }
          ],
          "carpet": [
           {
            "aaxis": {
             "endlinecolor": "#2a3f5f",
             "gridcolor": "white",
             "linecolor": "white",
             "minorgridcolor": "white",
             "startlinecolor": "#2a3f5f"
            },
            "baxis": {
             "endlinecolor": "#2a3f5f",
             "gridcolor": "white",
             "linecolor": "white",
             "minorgridcolor": "white",
             "startlinecolor": "#2a3f5f"
            },
            "type": "carpet"
           }
          ],
          "choropleth": [
           {
            "colorbar": {
             "outlinewidth": 0,
             "ticks": ""
            },
            "type": "choropleth"
           }
          ],
          "contour": [
           {
            "colorbar": {
             "outlinewidth": 0,
             "ticks": ""
            },
            "colorscale": [
             [
              0,
              "#0d0887"
             ],
             [
              0.1111111111111111,
              "#46039f"
             ],
             [
              0.2222222222222222,
              "#7201a8"
             ],
             [
              0.3333333333333333,
              "#9c179e"
             ],
             [
              0.4444444444444444,
              "#bd3786"
             ],
             [
              0.5555555555555556,
              "#d8576b"
             ],
             [
              0.6666666666666666,
              "#ed7953"
             ],
             [
              0.7777777777777778,
              "#fb9f3a"
             ],
             [
              0.8888888888888888,
              "#fdca26"
             ],
             [
              1,
              "#f0f921"
             ]
            ],
            "type": "contour"
           }
          ],
          "contourcarpet": [
           {
            "colorbar": {
             "outlinewidth": 0,
             "ticks": ""
            },
            "type": "contourcarpet"
           }
          ],
          "heatmap": [
           {
            "colorbar": {
             "outlinewidth": 0,
             "ticks": ""
            },
            "colorscale": [
             [
              0,
              "#0d0887"
             ],
             [
              0.1111111111111111,
              "#46039f"
             ],
             [
              0.2222222222222222,
              "#7201a8"
             ],
             [
              0.3333333333333333,
              "#9c179e"
             ],
             [
              0.4444444444444444,
              "#bd3786"
             ],
             [
              0.5555555555555556,
              "#d8576b"
             ],
             [
              0.6666666666666666,
              "#ed7953"
             ],
             [
              0.7777777777777778,
              "#fb9f3a"
             ],
             [
              0.8888888888888888,
              "#fdca26"
             ],
             [
              1,
              "#f0f921"
             ]
            ],
            "type": "heatmap"
           }
          ],
          "heatmapgl": [
           {
            "colorbar": {
             "outlinewidth": 0,
             "ticks": ""
            },
            "colorscale": [
             [
              0,
              "#0d0887"
             ],
             [
              0.1111111111111111,
              "#46039f"
             ],
             [
              0.2222222222222222,
              "#7201a8"
             ],
             [
              0.3333333333333333,
              "#9c179e"
             ],
             [
              0.4444444444444444,
              "#bd3786"
             ],
             [
              0.5555555555555556,
              "#d8576b"
             ],
             [
              0.6666666666666666,
              "#ed7953"
             ],
             [
              0.7777777777777778,
              "#fb9f3a"
             ],
             [
              0.8888888888888888,
              "#fdca26"
             ],
             [
              1,
              "#f0f921"
             ]
            ],
            "type": "heatmapgl"
           }
          ],
          "histogram": [
           {
            "marker": {
             "pattern": {
              "fillmode": "overlay",
              "size": 10,
              "solidity": 0.2
             }
            },
            "type": "histogram"
           }
          ],
          "histogram2d": [
           {
            "colorbar": {
             "outlinewidth": 0,
             "ticks": ""
            },
            "colorscale": [
             [
              0,
              "#0d0887"
             ],
             [
              0.1111111111111111,
              "#46039f"
             ],
             [
              0.2222222222222222,
              "#7201a8"
             ],
             [
              0.3333333333333333,
              "#9c179e"
             ],
             [
              0.4444444444444444,
              "#bd3786"
             ],
             [
              0.5555555555555556,
              "#d8576b"
             ],
             [
              0.6666666666666666,
              "#ed7953"
             ],
             [
              0.7777777777777778,
              "#fb9f3a"
             ],
             [
              0.8888888888888888,
              "#fdca26"
             ],
             [
              1,
              "#f0f921"
             ]
            ],
            "type": "histogram2d"
           }
          ],
          "histogram2dcontour": [
           {
            "colorbar": {
             "outlinewidth": 0,
             "ticks": ""
            },
            "colorscale": [
             [
              0,
              "#0d0887"
             ],
             [
              0.1111111111111111,
              "#46039f"
             ],
             [
              0.2222222222222222,
              "#7201a8"
             ],
             [
              0.3333333333333333,
              "#9c179e"
             ],
             [
              0.4444444444444444,
              "#bd3786"
             ],
             [
              0.5555555555555556,
              "#d8576b"
             ],
             [
              0.6666666666666666,
              "#ed7953"
             ],
             [
              0.7777777777777778,
              "#fb9f3a"
             ],
             [
              0.8888888888888888,
              "#fdca26"
             ],
             [
              1,
              "#f0f921"
             ]
            ],
            "type": "histogram2dcontour"
           }
          ],
          "mesh3d": [
           {
            "colorbar": {
             "outlinewidth": 0,
             "ticks": ""
            },
            "type": "mesh3d"
           }
          ],
          "parcoords": [
           {
            "line": {
             "colorbar": {
              "outlinewidth": 0,
              "ticks": ""
             }
            },
            "type": "parcoords"
           }
          ],
          "pie": [
           {
            "automargin": true,
            "type": "pie"
           }
          ],
          "scatter": [
           {
            "fillpattern": {
             "fillmode": "overlay",
             "size": 10,
             "solidity": 0.2
            },
            "type": "scatter"
           }
          ],
          "scatter3d": [
           {
            "line": {
             "colorbar": {
              "outlinewidth": 0,
              "ticks": ""
             }
            },
            "marker": {
             "colorbar": {
              "outlinewidth": 0,
              "ticks": ""
             }
            },
            "type": "scatter3d"
           }
          ],
          "scattercarpet": [
           {
            "marker": {
             "colorbar": {
              "outlinewidth": 0,
              "ticks": ""
             }
            },
            "type": "scattercarpet"
           }
          ],
          "scattergeo": [
           {
            "marker": {
             "colorbar": {
              "outlinewidth": 0,
              "ticks": ""
             }
            },
            "type": "scattergeo"
           }
          ],
          "scattergl": [
           {
            "marker": {
             "colorbar": {
              "outlinewidth": 0,
              "ticks": ""
             }
            },
            "type": "scattergl"
           }
          ],
          "scattermapbox": [
           {
            "marker": {
             "colorbar": {
              "outlinewidth": 0,
              "ticks": ""
             }
            },
            "type": "scattermapbox"
           }
          ],
          "scatterpolar": [
           {
            "marker": {
             "colorbar": {
              "outlinewidth": 0,
              "ticks": ""
             }
            },
            "type": "scatterpolar"
           }
          ],
          "scatterpolargl": [
           {
            "marker": {
             "colorbar": {
              "outlinewidth": 0,
              "ticks": ""
             }
            },
            "type": "scatterpolargl"
           }
          ],
          "scatterternary": [
           {
            "marker": {
             "colorbar": {
              "outlinewidth": 0,
              "ticks": ""
             }
            },
            "type": "scatterternary"
           }
          ],
          "surface": [
           {
            "colorbar": {
             "outlinewidth": 0,
             "ticks": ""
            },
            "colorscale": [
             [
              0,
              "#0d0887"
             ],
             [
              0.1111111111111111,
              "#46039f"
             ],
             [
              0.2222222222222222,
              "#7201a8"
             ],
             [
              0.3333333333333333,
              "#9c179e"
             ],
             [
              0.4444444444444444,
              "#bd3786"
             ],
             [
              0.5555555555555556,
              "#d8576b"
             ],
             [
              0.6666666666666666,
              "#ed7953"
             ],
             [
              0.7777777777777778,
              "#fb9f3a"
             ],
             [
              0.8888888888888888,
              "#fdca26"
             ],
             [
              1,
              "#f0f921"
             ]
            ],
            "type": "surface"
           }
          ],
          "table": [
           {
            "cells": {
             "fill": {
              "color": "#EBF0F8"
             },
             "line": {
              "color": "white"
             }
            },
            "header": {
             "fill": {
              "color": "#C8D4E3"
             },
             "line": {
              "color": "white"
             }
            },
            "type": "table"
           }
          ]
         },
         "layout": {
          "annotationdefaults": {
           "arrowcolor": "#2a3f5f",
           "arrowhead": 0,
           "arrowwidth": 1
          },
          "autotypenumbers": "strict",
          "coloraxis": {
           "colorbar": {
            "outlinewidth": 0,
            "ticks": ""
           }
          },
          "colorscale": {
           "diverging": [
            [
             0,
             "#8e0152"
            ],
            [
             0.1,
             "#c51b7d"
            ],
            [
             0.2,
             "#de77ae"
            ],
            [
             0.3,
             "#f1b6da"
            ],
            [
             0.4,
             "#fde0ef"
            ],
            [
             0.5,
             "#f7f7f7"
            ],
            [
             0.6,
             "#e6f5d0"
            ],
            [
             0.7,
             "#b8e186"
            ],
            [
             0.8,
             "#7fbc41"
            ],
            [
             0.9,
             "#4d9221"
            ],
            [
             1,
             "#276419"
            ]
           ],
           "sequential": [
            [
             0,
             "#0d0887"
            ],
            [
             0.1111111111111111,
             "#46039f"
            ],
            [
             0.2222222222222222,
             "#7201a8"
            ],
            [
             0.3333333333333333,
             "#9c179e"
            ],
            [
             0.4444444444444444,
             "#bd3786"
            ],
            [
             0.5555555555555556,
             "#d8576b"
            ],
            [
             0.6666666666666666,
             "#ed7953"
            ],
            [
             0.7777777777777778,
             "#fb9f3a"
            ],
            [
             0.8888888888888888,
             "#fdca26"
            ],
            [
             1,
             "#f0f921"
            ]
           ],
           "sequentialminus": [
            [
             0,
             "#0d0887"
            ],
            [
             0.1111111111111111,
             "#46039f"
            ],
            [
             0.2222222222222222,
             "#7201a8"
            ],
            [
             0.3333333333333333,
             "#9c179e"
            ],
            [
             0.4444444444444444,
             "#bd3786"
            ],
            [
             0.5555555555555556,
             "#d8576b"
            ],
            [
             0.6666666666666666,
             "#ed7953"
            ],
            [
             0.7777777777777778,
             "#fb9f3a"
            ],
            [
             0.8888888888888888,
             "#fdca26"
            ],
            [
             1,
             "#f0f921"
            ]
           ]
          },
          "colorway": [
           "#636efa",
           "#EF553B",
           "#00cc96",
           "#ab63fa",
           "#FFA15A",
           "#19d3f3",
           "#FF6692",
           "#B6E880",
           "#FF97FF",
           "#FECB52"
          ],
          "font": {
           "color": "#2a3f5f"
          },
          "geo": {
           "bgcolor": "white",
           "lakecolor": "white",
           "landcolor": "#E5ECF6",
           "showlakes": true,
           "showland": true,
           "subunitcolor": "white"
          },
          "hoverlabel": {
           "align": "left"
          },
          "hovermode": "closest",
          "mapbox": {
           "style": "light"
          },
          "paper_bgcolor": "white",
          "plot_bgcolor": "#E5ECF6",
          "polar": {
           "angularaxis": {
            "gridcolor": "white",
            "linecolor": "white",
            "ticks": ""
           },
           "bgcolor": "#E5ECF6",
           "radialaxis": {
            "gridcolor": "white",
            "linecolor": "white",
            "ticks": ""
           }
          },
          "scene": {
           "xaxis": {
            "backgroundcolor": "#E5ECF6",
            "gridcolor": "white",
            "gridwidth": 2,
            "linecolor": "white",
            "showbackground": true,
            "ticks": "",
            "zerolinecolor": "white"
           },
           "yaxis": {
            "backgroundcolor": "#E5ECF6",
            "gridcolor": "white",
            "gridwidth": 2,
            "linecolor": "white",
            "showbackground": true,
            "ticks": "",
            "zerolinecolor": "white"
           },
           "zaxis": {
            "backgroundcolor": "#E5ECF6",
            "gridcolor": "white",
            "gridwidth": 2,
            "linecolor": "white",
            "showbackground": true,
            "ticks": "",
            "zerolinecolor": "white"
           }
          },
          "shapedefaults": {
           "line": {
            "color": "#2a3f5f"
           }
          },
          "ternary": {
           "aaxis": {
            "gridcolor": "white",
            "linecolor": "white",
            "ticks": ""
           },
           "baxis": {
            "gridcolor": "white",
            "linecolor": "white",
            "ticks": ""
           },
           "bgcolor": "#E5ECF6",
           "caxis": {
            "gridcolor": "white",
            "linecolor": "white",
            "ticks": ""
           }
          },
          "title": {
           "x": 0.05
          },
          "xaxis": {
           "automargin": true,
           "gridcolor": "white",
           "linecolor": "white",
           "ticks": "",
           "title": {
            "standoff": 15
           },
           "zerolinecolor": "white",
           "zerolinewidth": 2
          },
          "yaxis": {
           "automargin": true,
           "gridcolor": "white",
           "linecolor": "white",
           "ticks": "",
           "title": {
            "standoff": 15
           },
           "zerolinecolor": "white",
           "zerolinewidth": 2
          }
         }
        },
        "xaxis": {
         "anchor": "y",
         "autorange": true,
         "domain": [
          0,
          1
         ],
         "range": [
          -0.5,
          0.5
         ],
         "type": "category"
        },
        "yaxis": {
         "anchor": "x",
         "autorange": true,
         "domain": [
          0,
          1
         ],
         "range": [
          -4.539793226490082,
          5.587819946392438
         ],
         "title": {
          "text": "co2_per_landmass"
         },
         "type": "log"
        }
       }
      },
      "image/png": "[encoded data removed]",
      "text/html": [
       "<div>                            <div id=\"46b079f2-251f-4e71-8d2c-5f2800ba7cd1\" class=\"plotly-graph-div\" style=\"height:525px; width:100%;\"></div>            <script type=\"text/javascript\">                require([\"plotly\"], function(Plotly) {                    window.PLOTLYENV=window.PLOTLYENV || {};                                    if (document.getElementById(\"46b079f2-251f-4e71-8d2c-5f2800ba7cd1\")) {                    Plotly.newPlot(                        \"46b079f2-251f-4e71-8d2c-5f2800ba7cd1\",                        [{\"alignmentgroup\":\"True\",\"hovertemplate\":\"co2_per_landmass=%{y}<extra></extra>\",\"legendgroup\":\"\",\"marker\":{\"color\":\"#636efa\"},\"name\":\"\",\"notched\":false,\"offsetgroup\":\"\",\"orientation\":\"v\",\"showlegend\":false,\"x0\":\" \",\"xaxis\":\"x\",\"y\":[0.07155915048535567,0.0011491078323540575,0.01275878871856764,0.0001495548052557148,0.008420414486701803,0.0,0.0022545484055556167,0.008252769081749824,5.244825915160381,0.047045923912778655,0.009592081109369259,9.259497785436869e-05,0.2303373765059102,0.005685224780513918,0.000306898406117508,0.0,0.11360937359375001,9.875825714739518,0.09100813041762058,0.0038742279008582656,0.001360443838254698,0.0056055199457583525,0.0002884181999098693,2.414530653047796,0.4009046319579064,0.004045794194236927,0.006615488974937909,0.005753373267674605,0.017304898492631796,0.0,0.0050230169231160506,14.400482736452501,0.015819422147190572,2.2817451024254214,0.33843889425509405,0.0732457690566519,0.93134614594369,1.3035779535708067,27.4743919571971,0.003626675653145411,0.00042348207188608333,0.017658221509646133,0.0,0.018438411548474233,0.020378071894155737,3.4004851445960034,0.0067906328150451655,0.6517025237380206,0.0023570804574700424,0.0005900374231249292,0.0,0.003777687654332363,0.0,0.0,0.5819204406035665,0.0012020950425026475,0.0008384478653117349,0.0053629005560307955,0.0006700081785667567,16.43500114746614,0.03692164050125588,1.6002025198445105,0.6168937699515347,0.028371721419465232,1.0040666576743438,0.3316520389619883,44.094945729368426,1.3541351860907362,0.0023604101550545337,0.04178894581077171,0.8713843791143028,0.0,7.404337473922114,61.59795991871984,0.003153019931520347,0.24609152376253052,0.0005098572602537956,27.52668389326934,0.1992307687179487,2.554325413877446,0.30068371660136745,0.00041855597251482386,0.5250378467468838,0.002560124228859581,1.2160544814691707,2.686359824989393,1.9826372239773695,0.044341965235899256,2.0441505308785413,0.5897009887873754,0.3063743397199705,0.0,0.0,0.6213428694832888,235.83628917378917,0.08962334221925297,12.18066475212289,9.411845600274411,0.008711855729254894,0.4303199020843432,2.3669389763446915,0.7650310056619035,0.1080631780410086,9.14515909130498,0.2883868314865448,93.6776489007436,0.15154902221335037,0.0,4.910645271189557,0.059328090296640455,1.1263671517578124,0.7418723223658441,3.5448147381494515,0.42947369847953215,0.6807499885,1.0677160902880904,0.0,0.19008914525432616,0.19025604214082503,0.12528660485455198,0.24108322955746367,510.5246264822134,0.0,0.032154339985709185,0.01824817518248175,2.1390374331550803,3.6218848185358254,1.6828737688679245,112.85285991082286,0.23116573846153846,0.007333908619499569,0.0,0.0,14.659888641404805,1.7381458453348164,0.11761488484682713,16.448822605363986,77.57575667789001,0.0,99.07128473436448,1.7152416126394052,2817.3918022969647,6.436031066144474,2.2742381495844874,0.11534701348973606,10.42099577056277,6.317925695603156,5.8304093274853805,26.496687185249208,0.0,2.9403768389978637,0.7142857379310346,0.34927457076840407,0.13177160117130307,2.760416765625,2.3734177215189876,0.30864197530864196,3.6178342853503183,39.60000101333333,3866.7778527777778,0.5013927775766016,4309.298331578948,5.277777601851852,4013.2314829787233,16.304347826086957,16.478260704347825,55.89130234782609,0.0,878.47727,16.25581342093023,0.0,114.7500038125,8519.751636666666,29.958333570833336,2.5999999044999997,120625.54477777777,3350.1667566666665,148.6250043125,0.0,11.49999996,413.7037064814815,414.9999936666666,1700.499916,580.88236,4429.9998285],\"y0\":\" \",\"yaxis\":\"y\",\"type\":\"box\"}],                        {\"template\":{\"data\":{\"histogram2dcontour\":[{\"type\":\"histogram2dcontour\",\"colorbar\":{\"outlinewidth\":0,\"ticks\":\"\"},\"colorscale\":[[0.0,\"#0d0887\"],[0.1111111111111111,\"#46039f\"],[0.2222222222222222,\"#7201a8\"],[0.3333333333333333,\"#9c179e\"],[0.4444444444444444,\"#bd3786\"],[0.5555555555555556,\"#d8576b\"],[0.6666666666666666,\"#ed7953\"],[0.7777777777777778,\"#fb9f3a\"],[0.8888888888888888,\"#fdca26\"],[1.0,\"#f0f921\"]]}],\"choropleth\":[{\"type\":\"choropleth\",\"colorbar\":{\"outlinewidth\":0,\"ticks\":\"\"}}],\"histogram2d\":[{\"type\":\"histogram2d\",\"colorbar\":{\"outlinewidth\":0,\"ticks\":\"\"},\"colorscale\":[[0.0,\"#0d0887\"],[0.1111111111111111,\"#46039f\"],[0.2222222222222222,\"#7201a8\"],[0.3333333333333333,\"#9c179e\"],[0.4444444444444444,\"#bd3786\"],[0.5555555555555556,\"#d8576b\"],[0.6666666666666666,\"#ed7953\"],[0.7777777777777778,\"#fb9f3a\"],[0.8888888888888888,\"#fdca26\"],[1.0,\"#f0f921\"]]}],\"heatmap\":[{\"type\":\"heatmap\",\"colorbar\":{\"outlinewidth\":0,\"ticks\":\"\"},\"colorscale\":[[0.0,\"#0d0887\"],[0.1111111111111111,\"#46039f\"],[0.2222222222222222,\"#7201a8\"],[0.3333333333333333,\"#9c179e\"],[0.4444444444444444,\"#bd3786\"],[0.5555555555555556,\"#d8576b\"],[0.6666666666666666,\"#ed7953\"],[0.7777777777777778,\"#fb9f3a\"],[0.8888888888888888,\"#fdca26\"],[1.0,\"#f0f921\"]]}],\"heatmapgl\":[{\"type\":\"heatmapgl\",\"colorbar\":{\"outlinewidth\":0,\"ticks\":\"\"},\"colorscale\":[[0.0,\"#0d0887\"],[0.1111111111111111,\"#46039f\"],[0.2222222222222222,\"#7201a8\"],[0.3333333333333333,\"#9c179e\"],[0.4444444444444444,\"#bd3786\"],[0.5555555555555556,\"#d8576b\"],[0.6666666666666666,\"#ed7953\"],[0.7777777777777778,\"#fb9f3a\"],[0.8888888888888888,\"#fdca26\"],[1.0,\"#f0f921\"]]}],\"contourcarpet\":[{\"type\":\"contourcarpet\",\"colorbar\":{\"outlinewidth\":0,\"ticks\":\"\"}}],\"contour\":[{\"type\":\"contour\",\"colorbar\":{\"outlinewidth\":0,\"ticks\":\"\"},\"colorscale\":[[0.0,\"#0d0887\"],[0.1111111111111111,\"#46039f\"],[0.2222222222222222,\"#7201a8\"],[0.3333333333333333,\"#9c179e\"],[0.4444444444444444,\"#bd3786\"],[0.5555555555555556,\"#d8576b\"],[0.6666666666666666,\"#ed7953\"],[0.7777777777777778,\"#fb9f3a\"],[0.8888888888888888,\"#fdca26\"],[1.0,\"#f0f921\"]]}],\"surface\":[{\"type\":\"surface\",\"colorbar\":{\"outlinewidth\":0,\"ticks\":\"\"},\"colorscale\":[[0.0,\"#0d0887\"],[0.1111111111111111,\"#46039f\"],[0.2222222222222222,\"#7201a8\"],[0.3333333333333333,\"#9c179e\"],[0.4444444444444444,\"#bd3786\"],[0.5555555555555556,\"#d8576b\"],[0.6666666666666666,\"#ed7953\"],[0.7777777777777778,\"#fb9f3a\"],[0.8888888888888888,\"#fdca26\"],[1.0,\"#f0f921\"]]}],\"mesh3d\":[{\"type\":\"mesh3d\",\"colorbar\":{\"outlinewidth\":0,\"ticks\":\"\"}}],\"scatter\":[{\"fillpattern\":{\"fillmode\":\"overlay\",\"size\":10,\"solidity\":0.2},\"type\":\"scatter\"}],\"parcoords\":[{\"type\":\"parcoords\",\"line\":{\"colorbar\":{\"outlinewidth\":0,\"ticks\":\"\"}}}],\"scatterpolargl\":[{\"type\":\"scatterpolargl\",\"marker\":{\"colorbar\":{\"outlinewidth\":0,\"ticks\":\"\"}}}],\"bar\":[{\"error_x\":{\"color\":\"#2a3f5f\"},\"error_y\":{\"color\":\"#2a3f5f\"},\"marker\":{\"line\":{\"color\":\"#E5ECF6\",\"width\":0.5},\"pattern\":{\"fillmode\":\"overlay\",\"size\":10,\"solidity\":0.2}},\"type\":\"bar\"}],\"scattergeo\":[{\"type\":\"scattergeo\",\"marker\":{\"colorbar\":{\"outlinewidth\":0,\"ticks\":\"\"}}}],\"scatterpolar\":[{\"type\":\"scatterpolar\",\"marker\":{\"colorbar\":{\"outlinewidth\":0,\"ticks\":\"\"}}}],\"histogram\":[{\"marker\":{\"pattern\":{\"fillmode\":\"overlay\",\"size\":10,\"solidity\":0.2}},\"type\":\"histogram\"}],\"scattergl\":[{\"type\":\"scattergl\",\"marker\":{\"colorbar\":{\"outlinewidth\":0,\"ticks\":\"\"}}}],\"scatter3d\":[{\"type\":\"scatter3d\",\"line\":{\"colorbar\":{\"outlinewidth\":0,\"ticks\":\"\"}},\"marker\":{\"colorbar\":{\"outlinewidth\":0,\"ticks\":\"\"}}}],\"scattermapbox\":[{\"type\":\"scattermapbox\",\"marker\":{\"colorbar\":{\"outlinewidth\":0,\"ticks\":\"\"}}}],\"scatterternary\":[{\"type\":\"scatterternary\",\"marker\":{\"colorbar\":{\"outlinewidth\":0,\"ticks\":\"\"}}}],\"scattercarpet\":[{\"type\":\"scattercarpet\",\"marker\":{\"colorbar\":{\"outlinewidth\":0,\"ticks\":\"\"}}}],\"carpet\":[{\"aaxis\":{\"endlinecolor\":\"#2a3f5f\",\"gridcolor\":\"white\",\"linecolor\":\"white\",\"minorgridcolor\":\"white\",\"startlinecolor\":\"#2a3f5f\"},\"baxis\":{\"endlinecolor\":\"#2a3f5f\",\"gridcolor\":\"white\",\"linecolor\":\"white\",\"minorgridcolor\":\"white\",\"startlinecolor\":\"#2a3f5f\"},\"type\":\"carpet\"}],\"table\":[{\"cells\":{\"fill\":{\"color\":\"#EBF0F8\"},\"line\":{\"color\":\"white\"}},\"header\":{\"fill\":{\"color\":\"#C8D4E3\"},\"line\":{\"color\":\"white\"}},\"type\":\"table\"}],\"barpolar\":[{\"marker\":{\"line\":{\"color\":\"#E5ECF6\",\"width\":0.5},\"pattern\":{\"fillmode\":\"overlay\",\"size\":10,\"solidity\":0.2}},\"type\":\"barpolar\"}],\"pie\":[{\"automargin\":true,\"type\":\"pie\"}]},\"layout\":{\"autotypenumbers\":\"strict\",\"colorway\":[\"#636efa\",\"#EF553B\",\"#00cc96\",\"#ab63fa\",\"#FFA15A\",\"#19d3f3\",\"#FF6692\",\"#B6E880\",\"#FF97FF\",\"#FECB52\"],\"font\":{\"color\":\"#2a3f5f\"},\"hovermode\":\"closest\",\"hoverlabel\":{\"align\":\"left\"},\"paper_bgcolor\":\"white\",\"plot_bgcolor\":\"#E5ECF6\",\"polar\":{\"bgcolor\":\"#E5ECF6\",\"angularaxis\":{\"gridcolor\":\"white\",\"linecolor\":\"white\",\"ticks\":\"\"},\"radialaxis\":{\"gridcolor\":\"white\",\"linecolor\":\"white\",\"ticks\":\"\"}},\"ternary\":{\"bgcolor\":\"#E5ECF6\",\"aaxis\":{\"gridcolor\":\"white\",\"linecolor\":\"white\",\"ticks\":\"\"},\"baxis\":{\"gridcolor\":\"white\",\"linecolor\":\"white\",\"ticks\":\"\"},\"caxis\":{\"gridcolor\":\"white\",\"linecolor\":\"white\",\"ticks\":\"\"}},\"coloraxis\":{\"colorbar\":{\"outlinewidth\":0,\"ticks\":\"\"}},\"colorscale\":{\"sequential\":[[0.0,\"#0d0887\"],[0.1111111111111111,\"#46039f\"],[0.2222222222222222,\"#7201a8\"],[0.3333333333333333,\"#9c179e\"],[0.4444444444444444,\"#bd3786\"],[0.5555555555555556,\"#d8576b\"],[0.6666666666666666,\"#ed7953\"],[0.7777777777777778,\"#fb9f3a\"],[0.8888888888888888,\"#fdca26\"],[1.0,\"#f0f921\"]],\"sequentialminus\":[[0.0,\"#0d0887\"],[0.1111111111111111,\"#46039f\"],[0.2222222222222222,\"#7201a8\"],[0.3333333333333333,\"#9c179e\"],[0.4444444444444444,\"#bd3786\"],[0.5555555555555556,\"#d8576b\"],[0.6666666666666666,\"#ed7953\"],[0.7777777777777778,\"#fb9f3a\"],[0.8888888888888888,\"#fdca26\"],[1.0,\"#f0f921\"]],\"diverging\":[[0,\"#8e0152\"],[0.1,\"#c51b7d\"],[0.2,\"#de77ae\"],[0.3,\"#f1b6da\"],[0.4,\"#fde0ef\"],[0.5,\"#f7f7f7\"],[0.6,\"#e6f5d0\"],[0.7,\"#b8e186\"],[0.8,\"#7fbc41\"],[0.9,\"#4d9221\"],[1,\"#276419\"]]},\"xaxis\":{\"gridcolor\":\"white\",\"linecolor\":\"white\",\"ticks\":\"\",\"title\":{\"standoff\":15},\"zerolinecolor\":\"white\",\"automargin\":true,\"zerolinewidth\":2},\"yaxis\":{\"gridcolor\":\"white\",\"linecolor\":\"white\",\"ticks\":\"\",\"title\":{\"standoff\":15},\"zerolinecolor\":\"white\",\"automargin\":true,\"zerolinewidth\":2},\"scene\":{\"xaxis\":{\"backgroundcolor\":\"#E5ECF6\",\"gridcolor\":\"white\",\"linecolor\":\"white\",\"showbackground\":true,\"ticks\":\"\",\"zerolinecolor\":\"white\",\"gridwidth\":2},\"yaxis\":{\"backgroundcolor\":\"#E5ECF6\",\"gridcolor\":\"white\",\"linecolor\":\"white\",\"showbackground\":true,\"ticks\":\"\",\"zerolinecolor\":\"white\",\"gridwidth\":2},\"zaxis\":{\"backgroundcolor\":\"#E5ECF6\",\"gridcolor\":\"white\",\"linecolor\":\"white\",\"showbackground\":true,\"ticks\":\"\",\"zerolinecolor\":\"white\",\"gridwidth\":2}},\"shapedefaults\":{\"line\":{\"color\":\"#2a3f5f\"}},\"annotationdefaults\":{\"arrowcolor\":\"#2a3f5f\",\"arrowhead\":0,\"arrowwidth\":1},\"geo\":{\"bgcolor\":\"white\",\"landcolor\":\"#E5ECF6\",\"subunitcolor\":\"white\",\"showland\":true,\"showlakes\":true,\"lakecolor\":\"white\"},\"title\":{\"x\":0.05},\"mapbox\":{\"style\":\"light\"}}},\"xaxis\":{\"anchor\":\"y\",\"domain\":[0.0,1.0]},\"yaxis\":{\"anchor\":\"x\",\"domain\":[0.0,1.0],\"title\":{\"text\":\"co2_per_landmass\"},\"type\":\"log\"},\"legend\":{\"tracegroupgap\":0},\"margin\":{\"t\":60},\"boxmode\":\"group\"},                        {\"responsive\": true}                    ).then(function(){\n",
       "                            \n",
       "var gd = document.getElementById('46b079f2-251f-4e71-8d2c-5f2800ba7cd1');\n",
       "var x = new MutationObserver(function (mutations, observer) {{\n",
       "        var display = window.getComputedStyle(gd).display;\n",
       "        if (!display || display === 'none') {{\n",
       "            console.log([gd, 'removed!']);\n",
       "            Plotly.purge(gd);\n",
       "            observer.disconnect();\n",
       "        }}\n",
       "}});\n",
       "\n",
       "// Listen for the removal of the full notebook cells\n",
       "var notebookContainer = gd.closest('#notebook-container');\n",
       "if (notebookContainer) {{\n",
       "    x.observe(notebookContainer, {childList: true});\n",
       "}}\n",
       "\n",
       "// Listen for the clearing of the current output cell\n",
       "var outputEl = gd.closest('.output');\n",
       "if (outputEl) {{\n",
       "    x.observe(outputEl, {childList: true});\n",
       "}}\n",
       "\n",
       "                        })                };                });            </script>        </div>"
      ]
     },
     "metadata": {},
     "output_type": "display_data"
    }
   ],
   "source": [
    "import plotly.express as px\n",
    "\n",
    "fig = px.box(merged_df, y='co2_per_landmass', boxmode='group')\n",
    "\n",
    "fig.update_layout(yaxis_type=\"log\")\n",
    "\n",
    "fig.show()"
   ]
  },
  {
   "cell_type": "code",
   "execution_count": 81,
   "id": "d69e1baf-285c-48c2-8ee8-1062c9e29d1e",
   "metadata": {},
   "outputs": [
    {
     "data": {
      "application/vnd.plotly.v1+json": {
       "config": {
        "plotlyServerURL": "https://plot.ly"
       },
       "data": [
        {
         "alignmentgroup": "True",
         "hovertemplate": "country=%{x}<br>co2_per_landmass=%{y}<extra></extra>",
         "legendgroup": "",
         "marker": {
          "color": "#636efa"
         },
         "name": "",
         "notched": false,
         "offsetgroup": "",
         "orientation": "v",
         "showlegend": false,
         "type": "box",
         "x": [
          "Canada",
          "China",
          "United States",
          "Brazil",
          "Australia",
          "India",
          "Argentina",
          "Kazakhstan",
          "Algeria",
          "Greenland",
          "Saudi Arabia",
          "Mexico",
          "Indonesia",
          "Sudan",
          "Libya",
          "Mongolia",
          "Peru",
          "Chad",
          "Niger",
          "Angola",
          "Mali",
          "South Africa",
          "Colombia",
          "Ethiopia",
          "Bolivia",
          "Mauritania",
          "Tanzania",
          "Nigeria",
          "Pakistan",
          "Namibia",
          "Mozambique",
          "Chile",
          "Zambia",
          "Myanmar",
          "Afghanistan",
          "Somalia",
          "Central African Republic",
          "South Sudan",
          "Ukraine",
          "Madagascar",
          "Botswana",
          "Kenya",
          "France",
          "Thailand",
          "Spain",
          "Turkmenistan",
          "Cameroon",
          "Papua New Guinea",
          "Sweden",
          "Uzbekistan",
          "Morocco",
          "Iraq",
          "Paraguay",
          "Zimbabwe",
          "Japan",
          "Germany",
          "Philippines",
          "Finland",
          "Vietnam",
          "Malaysia",
          "Norway",
          "Poland",
          "Oman",
          "Italy",
          "Ecuador",
          "Burkina Faso",
          "New Zealand",
          "Gabon",
          "Guinea",
          "United Kingdom",
          "Uganda",
          "Ghana",
          "Romania",
          "Guyana",
          "Belarus",
          "Senegal",
          "Cambodia",
          "Uruguay",
          "Suriname",
          "Tunisia",
          "Bangladesh",
          "Nepal",
          "Tajikistan",
          "Greece",
          "Nicaragua",
          "Malawi",
          "Eritrea",
          "Benin",
          "Honduras",
          "Liberia",
          "Bulgaria",
          "Cuba",
          "Guatemala",
          "Iceland",
          "Hungary",
          "Portugal",
          "Jordan",
          "Serbia",
          "Azerbaijan",
          "Austria",
          "United Arab Emirates",
          "Panama",
          "Sierra Leone",
          "Ireland",
          "Georgia",
          "Sri Lanka",
          "Lithuania",
          "Latvia",
          "Togo",
          "Croatia",
          "Bosnia and Herzegovina",
          "Costa Rica",
          "Dominican Republic",
          "Estonia",
          "Denmark",
          "Netherlands",
          "Switzerland",
          "Bhutan",
          "Guinea-Bissau",
          "Moldova",
          "Belgium",
          "Lesotho",
          "Armenia",
          "Solomon Islands",
          "Albania",
          "Equatorial Guinea",
          "Burundi",
          "Haiti",
          "Rwanda",
          "North Macedonia",
          "Djibouti",
          "Belize",
          "El Salvador",
          "Israel",
          "Slovenia",
          "New Caledonia",
          "Fiji",
          "Kuwait",
          "Eswatini",
          "Timor-Leste",
          "Montenegro",
          "Vanuatu",
          "Qatar",
          "Jamaica",
          "Lebanon",
          "Cyprus",
          "Puerto Rico",
          "Trinidad and Tobago",
          "French Polynesia",
          "Samoa",
          "Luxembourg",
          "Mauritius",
          "Comoros",
          "Faroe Islands",
          "Sao Tome and Principe",
          "Turks and Caicos Islands",
          "Kiribati",
          "Bahrain",
          "Dominica",
          "Tonga",
          "Singapore",
          "Isle of Man",
          "Guam",
          "Andorra",
          "Northern Mariana Islands",
          "Palau",
          "Seychelles",
          "Curacao",
          "Antigua and Barbuda",
          "Barbados",
          "Grenada",
          "Malta",
          "Maldives",
          "Cayman Islands",
          "American Samoa",
          "Marshall Islands",
          "Aruba",
          "Liechtenstein",
          "British Virgin Islands",
          "San Marino",
          "Bermuda",
          "Tuvalu",
          "Nauru",
          "Gibraltar",
          "Monaco"
         ],
         "x0": " ",
         "xaxis": "x",
         "y": [
          0.07155915048535567,
          0.0011491078323540575,
          0.01275878871856764,
          0.0001495548052557148,
          0.008420414486701803,
          0,
          0.0022545484055556167,
          0.008252769081749824,
          5.244825915160381,
          0.047045923912778655,
          0.009592081109369259,
          9.259497785436869e-05,
          0.2303373765059102,
          0.005685224780513918,
          0.000306898406117508,
          0,
          0.11360937359375001,
          9.875825714739518,
          0.09100813041762058,
          0.0038742279008582656,
          0.001360443838254698,
          0.0056055199457583525,
          0.0002884181999098693,
          2.414530653047796,
          0.4009046319579064,
          0.004045794194236927,
          0.006615488974937909,
          0.005753373267674605,
          0.017304898492631796,
          0,
          0.0050230169231160506,
          14.400482736452501,
          0.015819422147190572,
          2.2817451024254214,
          0.33843889425509405,
          0.0732457690566519,
          0.93134614594369,
          1.3035779535708067,
          27.4743919571971,
          0.003626675653145411,
          0.00042348207188608333,
          0.017658221509646133,
          0,
          0.018438411548474233,
          0.020378071894155737,
          3.4004851445960034,
          0.0067906328150451655,
          0.6517025237380206,
          0.0023570804574700424,
          0.0005900374231249292,
          0,
          0.003777687654332363,
          0,
          0,
          0.5819204406035665,
          0.0012020950425026475,
          0.0008384478653117349,
          0.0053629005560307955,
          0.0006700081785667567,
          16.43500114746614,
          0.03692164050125588,
          1.6002025198445105,
          0.6168937699515347,
          0.028371721419465232,
          1.0040666576743438,
          0.3316520389619883,
          44.094945729368426,
          1.3541351860907362,
          0.0023604101550545337,
          0.04178894581077171,
          0.8713843791143028,
          0,
          7.404337473922114,
          61.59795991871984,
          0.003153019931520347,
          0.24609152376253052,
          0.0005098572602537956,
          27.52668389326934,
          0.1992307687179487,
          2.554325413877446,
          0.30068371660136745,
          0.00041855597251482386,
          0.5250378467468838,
          0.002560124228859581,
          1.2160544814691707,
          2.686359824989393,
          1.9826372239773695,
          0.044341965235899256,
          2.0441505308785413,
          0.5897009887873754,
          0.3063743397199705,
          0,
          0,
          0.6213428694832888,
          235.83628917378917,
          0.08962334221925297,
          12.18066475212289,
          9.411845600274411,
          0.008711855729254894,
          0.4303199020843432,
          2.3669389763446915,
          0.7650310056619035,
          0.1080631780410086,
          9.14515909130498,
          0.2883868314865448,
          93.6776489007436,
          0.15154902221335037,
          0,
          4.910645271189557,
          0.059328090296640455,
          1.1263671517578124,
          0.7418723223658441,
          3.5448147381494515,
          0.42947369847953215,
          0.6807499885,
          1.0677160902880904,
          0,
          0.19008914525432616,
          0.19025604214082503,
          0.12528660485455198,
          0.24108322955746367,
          510.5246264822134,
          0,
          0.032154339985709185,
          0.01824817518248175,
          2.1390374331550803,
          3.6218848185358254,
          1.6828737688679245,
          112.85285991082286,
          0.23116573846153846,
          0.007333908619499569,
          0,
          0,
          14.659888641404805,
          1.7381458453348164,
          0.11761488484682713,
          16.448822605363986,
          77.57575667789001,
          0,
          99.07128473436448,
          1.7152416126394052,
          2817.3918022969647,
          6.436031066144474,
          2.2742381495844874,
          0.11534701348973606,
          10.42099577056277,
          6.317925695603156,
          5.8304093274853805,
          26.496687185249208,
          0,
          2.9403768389978637,
          0.7142857379310346,
          0.34927457076840407,
          0.13177160117130307,
          2.760416765625,
          2.3734177215189876,
          0.30864197530864196,
          3.6178342853503183,
          39.60000101333333,
          3866.7778527777778,
          0.5013927775766016,
          4309.298331578948,
          5.277777601851852,
          4013.2314829787233,
          16.304347826086957,
          16.478260704347825,
          55.89130234782609,
          0,
          878.47727,
          16.25581342093023,
          0,
          114.7500038125,
          8519.751636666666,
          29.958333570833336,
          2.5999999044999997,
          120625.54477777777,
          3350.1667566666665,
          148.6250043125,
          0,
          11.49999996,
          413.7037064814815,
          414.9999936666666,
          1700.499916,
          580.88236,
          4429.9998285
         ],
         "y0": " ",
         "yaxis": "y"
        }
       ],
       "layout": {
        "autosize": true,
        "boxmode": "group",
        "dragmode": "zoom",
        "legend": {
         "tracegroupgap": 0
        },
        "margin": {
         "t": 60
        },
        "template": {
         "data": {
          "bar": [
           {
            "error_x": {
             "color": "#2a3f5f"
            },
            "error_y": {
             "color": "#2a3f5f"
            },
            "marker": {
             "line": {
              "color": "#E5ECF6",
              "width": 0.5
             },
             "pattern": {
              "fillmode": "overlay",
              "size": 10,
              "solidity": 0.2
             }
            },
            "type": "bar"
           }
          ],
          "barpolar": [
           {
            "marker": {
             "line": {
              "color": "#E5ECF6",
              "width": 0.5
             },
             "pattern": {
              "fillmode": "overlay",
              "size": 10,
              "solidity": 0.2
             }
            },
            "type": "barpolar"
           }
          ],
          "carpet": [
           {
            "aaxis": {
             "endlinecolor": "#2a3f5f",
             "gridcolor": "white",
             "linecolor": "white",
             "minorgridcolor": "white",
             "startlinecolor": "#2a3f5f"
            },
            "baxis": {
             "endlinecolor": "#2a3f5f",
             "gridcolor": "white",
             "linecolor": "white",
             "minorgridcolor": "white",
             "startlinecolor": "#2a3f5f"
            },
            "type": "carpet"
           }
          ],
          "choropleth": [
           {
            "colorbar": {
             "outlinewidth": 0,
             "ticks": ""
            },
            "type": "choropleth"
           }
          ],
          "contour": [
           {
            "colorbar": {
             "outlinewidth": 0,
             "ticks": ""
            },
            "colorscale": [
             [
              0,
              "#0d0887"
             ],
             [
              0.1111111111111111,
              "#46039f"
             ],
             [
              0.2222222222222222,
              "#7201a8"
             ],
             [
              0.3333333333333333,
              "#9c179e"
             ],
             [
              0.4444444444444444,
              "#bd3786"
             ],
             [
              0.5555555555555556,
              "#d8576b"
             ],
             [
              0.6666666666666666,
              "#ed7953"
             ],
             [
              0.7777777777777778,
              "#fb9f3a"
             ],
             [
              0.8888888888888888,
              "#fdca26"
             ],
             [
              1,
              "#f0f921"
             ]
            ],
            "type": "contour"
           }
          ],
          "contourcarpet": [
           {
            "colorbar": {
             "outlinewidth": 0,
             "ticks": ""
            },
            "type": "contourcarpet"
           }
          ],
          "heatmap": [
           {
            "colorbar": {
             "outlinewidth": 0,
             "ticks": ""
            },
            "colorscale": [
             [
              0,
              "#0d0887"
             ],
             [
              0.1111111111111111,
              "#46039f"
             ],
             [
              0.2222222222222222,
              "#7201a8"
             ],
             [
              0.3333333333333333,
              "#9c179e"
             ],
             [
              0.4444444444444444,
              "#bd3786"
             ],
             [
              0.5555555555555556,
              "#d8576b"
             ],
             [
              0.6666666666666666,
              "#ed7953"
             ],
             [
              0.7777777777777778,
              "#fb9f3a"
             ],
             [
              0.8888888888888888,
              "#fdca26"
             ],
             [
              1,
              "#f0f921"
             ]
            ],
            "type": "heatmap"
           }
          ],
          "heatmapgl": [
           {
            "colorbar": {
             "outlinewidth": 0,
             "ticks": ""
            },
            "colorscale": [
             [
              0,
              "#0d0887"
             ],
             [
              0.1111111111111111,
              "#46039f"
             ],
             [
              0.2222222222222222,
              "#7201a8"
             ],
             [
              0.3333333333333333,
              "#9c179e"
             ],
             [
              0.4444444444444444,
              "#bd3786"
             ],
             [
              0.5555555555555556,
              "#d8576b"
             ],
             [
              0.6666666666666666,
              "#ed7953"
             ],
             [
              0.7777777777777778,
              "#fb9f3a"
             ],
             [
              0.8888888888888888,
              "#fdca26"
             ],
             [
              1,
              "#f0f921"
             ]
            ],
            "type": "heatmapgl"
           }
          ],
          "histogram": [
           {
            "marker": {
             "pattern": {
              "fillmode": "overlay",
              "size": 10,
              "solidity": 0.2
             }
            },
            "type": "histogram"
           }
          ],
          "histogram2d": [
           {
            "colorbar": {
             "outlinewidth": 0,
             "ticks": ""
            },
            "colorscale": [
             [
              0,
              "#0d0887"
             ],
             [
              0.1111111111111111,
              "#46039f"
             ],
             [
              0.2222222222222222,
              "#7201a8"
             ],
             [
              0.3333333333333333,
              "#9c179e"
             ],
             [
              0.4444444444444444,
              "#bd3786"
             ],
             [
              0.5555555555555556,
              "#d8576b"
             ],
             [
              0.6666666666666666,
              "#ed7953"
             ],
             [
              0.7777777777777778,
              "#fb9f3a"
             ],
             [
              0.8888888888888888,
              "#fdca26"
             ],
             [
              1,
              "#f0f921"
             ]
            ],
            "type": "histogram2d"
           }
          ],
          "histogram2dcontour": [
           {
            "colorbar": {
             "outlinewidth": 0,
             "ticks": ""
            },
            "colorscale": [
             [
              0,
              "#0d0887"
             ],
             [
              0.1111111111111111,
              "#46039f"
             ],
             [
              0.2222222222222222,
              "#7201a8"
             ],
             [
              0.3333333333333333,
              "#9c179e"
             ],
             [
              0.4444444444444444,
              "#bd3786"
             ],
             [
              0.5555555555555556,
              "#d8576b"
             ],
             [
              0.6666666666666666,
              "#ed7953"
             ],
             [
              0.7777777777777778,
              "#fb9f3a"
             ],
             [
              0.8888888888888888,
              "#fdca26"
             ],
             [
              1,
              "#f0f921"
             ]
            ],
            "type": "histogram2dcontour"
           }
          ],
          "mesh3d": [
           {
            "colorbar": {
             "outlinewidth": 0,
             "ticks": ""
            },
            "type": "mesh3d"
           }
          ],
          "parcoords": [
           {
            "line": {
             "colorbar": {
              "outlinewidth": 0,
              "ticks": ""
             }
            },
            "type": "parcoords"
           }
          ],
          "pie": [
           {
            "automargin": true,
            "type": "pie"
           }
          ],
          "scatter": [
           {
            "fillpattern": {
             "fillmode": "overlay",
             "size": 10,
             "solidity": 0.2
            },
            "type": "scatter"
           }
          ],
          "scatter3d": [
           {
            "line": {
             "colorbar": {
              "outlinewidth": 0,
              "ticks": ""
             }
            },
            "marker": {
             "colorbar": {
              "outlinewidth": 0,
              "ticks": ""
             }
            },
            "type": "scatter3d"
           }
          ],
          "scattercarpet": [
           {
            "marker": {
             "colorbar": {
              "outlinewidth": 0,
              "ticks": ""
             }
            },
            "type": "scattercarpet"
           }
          ],
          "scattergeo": [
           {
            "marker": {
             "colorbar": {
              "outlinewidth": 0,
              "ticks": ""
             }
            },
            "type": "scattergeo"
           }
          ],
          "scattergl": [
           {
            "marker": {
             "colorbar": {
              "outlinewidth": 0,
              "ticks": ""
             }
            },
            "type": "scattergl"
           }
          ],
          "scattermapbox": [
           {
            "marker": {
             "colorbar": {
              "outlinewidth": 0,
              "ticks": ""
             }
            },
            "type": "scattermapbox"
           }
          ],
          "scatterpolar": [
           {
            "marker": {
             "colorbar": {
              "outlinewidth": 0,
              "ticks": ""
             }
            },
            "type": "scatterpolar"
           }
          ],
          "scatterpolargl": [
           {
            "marker": {
             "colorbar": {
              "outlinewidth": 0,
              "ticks": ""
             }
            },
            "type": "scatterpolargl"
           }
          ],
          "scatterternary": [
           {
            "marker": {
             "colorbar": {
              "outlinewidth": 0,
              "ticks": ""
             }
            },
            "type": "scatterternary"
           }
          ],
          "surface": [
           {
            "colorbar": {
             "outlinewidth": 0,
             "ticks": ""
            },
            "colorscale": [
             [
              0,
              "#0d0887"
             ],
             [
              0.1111111111111111,
              "#46039f"
             ],
             [
              0.2222222222222222,
              "#7201a8"
             ],
             [
              0.3333333333333333,
              "#9c179e"
             ],
             [
              0.4444444444444444,
              "#bd3786"
             ],
             [
              0.5555555555555556,
              "#d8576b"
             ],
             [
              0.6666666666666666,
              "#ed7953"
             ],
             [
              0.7777777777777778,
              "#fb9f3a"
             ],
             [
              0.8888888888888888,
              "#fdca26"
             ],
             [
              1,
              "#f0f921"
             ]
            ],
            "type": "surface"
           }
          ],
          "table": [
           {
            "cells": {
             "fill": {
              "color": "#EBF0F8"
             },
             "line": {
              "color": "white"
             }
            },
            "header": {
             "fill": {
              "color": "#C8D4E3"
             },
             "line": {
              "color": "white"
             }
            },
            "type": "table"
           }
          ]
         },
         "layout": {
          "annotationdefaults": {
           "arrowcolor": "#2a3f5f",
           "arrowhead": 0,
           "arrowwidth": 1
          },
          "autotypenumbers": "strict",
          "coloraxis": {
           "colorbar": {
            "outlinewidth": 0,
            "ticks": ""
           }
          },
          "colorscale": {
           "diverging": [
            [
             0,
             "#8e0152"
            ],
            [
             0.1,
             "#c51b7d"
            ],
            [
             0.2,
             "#de77ae"
            ],
            [
             0.3,
             "#f1b6da"
            ],
            [
             0.4,
             "#fde0ef"
            ],
            [
             0.5,
             "#f7f7f7"
            ],
            [
             0.6,
             "#e6f5d0"
            ],
            [
             0.7,
             "#b8e186"
            ],
            [
             0.8,
             "#7fbc41"
            ],
            [
             0.9,
             "#4d9221"
            ],
            [
             1,
             "#276419"
            ]
           ],
           "sequential": [
            [
             0,
             "#0d0887"
            ],
            [
             0.1111111111111111,
             "#46039f"
            ],
            [
             0.2222222222222222,
             "#7201a8"
            ],
            [
             0.3333333333333333,
             "#9c179e"
            ],
            [
             0.4444444444444444,
             "#bd3786"
            ],
            [
             0.5555555555555556,
             "#d8576b"
            ],
            [
             0.6666666666666666,
             "#ed7953"
            ],
            [
             0.7777777777777778,
             "#fb9f3a"
            ],
            [
             0.8888888888888888,
             "#fdca26"
            ],
            [
             1,
             "#f0f921"
            ]
           ],
           "sequentialminus": [
            [
             0,
             "#0d0887"
            ],
            [
             0.1111111111111111,
             "#46039f"
            ],
            [
             0.2222222222222222,
             "#7201a8"
            ],
            [
             0.3333333333333333,
             "#9c179e"
            ],
            [
             0.4444444444444444,
             "#bd3786"
            ],
            [
             0.5555555555555556,
             "#d8576b"
            ],
            [
             0.6666666666666666,
             "#ed7953"
            ],
            [
             0.7777777777777778,
             "#fb9f3a"
            ],
            [
             0.8888888888888888,
             "#fdca26"
            ],
            [
             1,
             "#f0f921"
            ]
           ]
          },
          "colorway": [
           "#636efa",
           "#EF553B",
           "#00cc96",
           "#ab63fa",
           "#FFA15A",
           "#19d3f3",
           "#FF6692",
           "#B6E880",
           "#FF97FF",
           "#FECB52"
          ],
          "font": {
           "color": "#2a3f5f"
          },
          "geo": {
           "bgcolor": "white",
           "lakecolor": "white",
           "landcolor": "#E5ECF6",
           "showlakes": true,
           "showland": true,
           "subunitcolor": "white"
          },
          "hoverlabel": {
           "align": "left"
          },
          "hovermode": "closest",
          "mapbox": {
           "style": "light"
          },
          "paper_bgcolor": "white",
          "plot_bgcolor": "#E5ECF6",
          "polar": {
           "angularaxis": {
            "gridcolor": "white",
            "linecolor": "white",
            "ticks": ""
           },
           "bgcolor": "#E5ECF6",
           "radialaxis": {
            "gridcolor": "white",
            "linecolor": "white",
            "ticks": ""
           }
          },
          "scene": {
           "xaxis": {
            "backgroundcolor": "#E5ECF6",
            "gridcolor": "white",
            "gridwidth": 2,
            "linecolor": "white",
            "showbackground": true,
            "ticks": "",
            "zerolinecolor": "white"
           },
           "yaxis": {
            "backgroundcolor": "#E5ECF6",
            "gridcolor": "white",
            "gridwidth": 2,
            "linecolor": "white",
            "showbackground": true,
            "ticks": "",
            "zerolinecolor": "white"
           },
           "zaxis": {
            "backgroundcolor": "#E5ECF6",
            "gridcolor": "white",
            "gridwidth": 2,
            "linecolor": "white",
            "showbackground": true,
            "ticks": "",
            "zerolinecolor": "white"
           }
          },
          "shapedefaults": {
           "line": {
            "color": "#2a3f5f"
           }
          },
          "ternary": {
           "aaxis": {
            "gridcolor": "white",
            "linecolor": "white",
            "ticks": ""
           },
           "baxis": {
            "gridcolor": "white",
            "linecolor": "white",
            "ticks": ""
           },
           "bgcolor": "#E5ECF6",
           "caxis": {
            "gridcolor": "white",
            "linecolor": "white",
            "ticks": ""
           }
          },
          "title": {
           "x": 0.05
          },
          "xaxis": {
           "automargin": true,
           "gridcolor": "white",
           "linecolor": "white",
           "ticks": "",
           "title": {
            "standoff": 15
           },
           "zerolinecolor": "white",
           "zerolinewidth": 2
          },
          "yaxis": {
           "automargin": true,
           "gridcolor": "white",
           "linecolor": "white",
           "ticks": "",
           "title": {
            "standoff": 15
           },
           "zerolinecolor": "white",
           "zerolinewidth": 2
          }
         }
        },
        "xaxis": {
         "anchor": "y",
         "autorange": true,
         "domain": [
          0,
          1
         ],
         "range": [
          -0.5,
          184.5
         ],
         "title": {
          "text": "country"
         },
         "type": "category"
        },
        "yaxis": {
         "anchor": "x",
         "autorange": true,
         "domain": [
          0,
          1
         ],
         "range": [
          -4.539793226490082,
          5.587819946392438
         ],
         "title": {
          "text": "co2_per_landmass"
         },
         "type": "log"
        }
       }
      },
      "image/png": "[encoded data removed]",
      "text/html": [
       "<div>                            <div id=\"d30cf9a1-7674-4297-888d-bafe7ae493a6\" class=\"plotly-graph-div\" style=\"height:525px; width:100%;\"></div>            <script type=\"text/javascript\">                require([\"plotly\"], function(Plotly) {                    window.PLOTLYENV=window.PLOTLYENV || {};                                    if (document.getElementById(\"d30cf9a1-7674-4297-888d-bafe7ae493a6\")) {                    Plotly.newPlot(                        \"d30cf9a1-7674-4297-888d-bafe7ae493a6\",                        [{\"alignmentgroup\":\"True\",\"hovertemplate\":\"country=%{x}<br>co2_per_landmass=%{y}<extra></extra>\",\"legendgroup\":\"\",\"marker\":{\"color\":\"#636efa\"},\"name\":\"\",\"notched\":false,\"offsetgroup\":\"\",\"orientation\":\"v\",\"showlegend\":false,\"x\":[\"Canada\",\"China\",\"United States\",\"Brazil\",\"Australia\",\"India\",\"Argentina\",\"Kazakhstan\",\"Algeria\",\"Greenland\",\"Saudi Arabia\",\"Mexico\",\"Indonesia\",\"Sudan\",\"Libya\",\"Mongolia\",\"Peru\",\"Chad\",\"Niger\",\"Angola\",\"Mali\",\"South Africa\",\"Colombia\",\"Ethiopia\",\"Bolivia\",\"Mauritania\",\"Tanzania\",\"Nigeria\",\"Pakistan\",\"Namibia\",\"Mozambique\",\"Chile\",\"Zambia\",\"Myanmar\",\"Afghanistan\",\"Somalia\",\"Central African Republic\",\"South Sudan\",\"Ukraine\",\"Madagascar\",\"Botswana\",\"Kenya\",\"France\",\"Thailand\",\"Spain\",\"Turkmenistan\",\"Cameroon\",\"Papua New Guinea\",\"Sweden\",\"Uzbekistan\",\"Morocco\",\"Iraq\",\"Paraguay\",\"Zimbabwe\",\"Japan\",\"Germany\",\"Philippines\",\"Finland\",\"Vietnam\",\"Malaysia\",\"Norway\",\"Poland\",\"Oman\",\"Italy\",\"Ecuador\",\"Burkina Faso\",\"New Zealand\",\"Gabon\",\"Guinea\",\"United Kingdom\",\"Uganda\",\"Ghana\",\"Romania\",\"Guyana\",\"Belarus\",\"Senegal\",\"Cambodia\",\"Uruguay\",\"Suriname\",\"Tunisia\",\"Bangladesh\",\"Nepal\",\"Tajikistan\",\"Greece\",\"Nicaragua\",\"Malawi\",\"Eritrea\",\"Benin\",\"Honduras\",\"Liberia\",\"Bulgaria\",\"Cuba\",\"Guatemala\",\"Iceland\",\"Hungary\",\"Portugal\",\"Jordan\",\"Serbia\",\"Azerbaijan\",\"Austria\",\"United Arab Emirates\",\"Panama\",\"Sierra Leone\",\"Ireland\",\"Georgia\",\"Sri Lanka\",\"Lithuania\",\"Latvia\",\"Togo\",\"Croatia\",\"Bosnia and Herzegovina\",\"Costa Rica\",\"Dominican Republic\",\"Estonia\",\"Denmark\",\"Netherlands\",\"Switzerland\",\"Bhutan\",\"Guinea-Bissau\",\"Moldova\",\"Belgium\",\"Lesotho\",\"Armenia\",\"Solomon Islands\",\"Albania\",\"Equatorial Guinea\",\"Burundi\",\"Haiti\",\"Rwanda\",\"North Macedonia\",\"Djibouti\",\"Belize\",\"El Salvador\",\"Israel\",\"Slovenia\",\"New Caledonia\",\"Fiji\",\"Kuwait\",\"Eswatini\",\"Timor-Leste\",\"Montenegro\",\"Vanuatu\",\"Qatar\",\"Jamaica\",\"Lebanon\",\"Cyprus\",\"Puerto Rico\",\"Trinidad and Tobago\",\"French Polynesia\",\"Samoa\",\"Luxembourg\",\"Mauritius\",\"Comoros\",\"Faroe Islands\",\"Sao Tome and Principe\",\"Turks and Caicos Islands\",\"Kiribati\",\"Bahrain\",\"Dominica\",\"Tonga\",\"Singapore\",\"Isle of Man\",\"Guam\",\"Andorra\",\"Northern Mariana Islands\",\"Palau\",\"Seychelles\",\"Curacao\",\"Antigua and Barbuda\",\"Barbados\",\"Grenada\",\"Malta\",\"Maldives\",\"Cayman Islands\",\"American Samoa\",\"Marshall Islands\",\"Aruba\",\"Liechtenstein\",\"British Virgin Islands\",\"San Marino\",\"Bermuda\",\"Tuvalu\",\"Nauru\",\"Gibraltar\",\"Monaco\"],\"x0\":\" \",\"xaxis\":\"x\",\"y\":[0.07155915048535567,0.0011491078323540575,0.01275878871856764,0.0001495548052557148,0.008420414486701803,0.0,0.0022545484055556167,0.008252769081749824,5.244825915160381,0.047045923912778655,0.009592081109369259,9.259497785436869e-05,0.2303373765059102,0.005685224780513918,0.000306898406117508,0.0,0.11360937359375001,9.875825714739518,0.09100813041762058,0.0038742279008582656,0.001360443838254698,0.0056055199457583525,0.0002884181999098693,2.414530653047796,0.4009046319579064,0.004045794194236927,0.006615488974937909,0.005753373267674605,0.017304898492631796,0.0,0.0050230169231160506,14.400482736452501,0.015819422147190572,2.2817451024254214,0.33843889425509405,0.0732457690566519,0.93134614594369,1.3035779535708067,27.4743919571971,0.003626675653145411,0.00042348207188608333,0.017658221509646133,0.0,0.018438411548474233,0.020378071894155737,3.4004851445960034,0.0067906328150451655,0.6517025237380206,0.0023570804574700424,0.0005900374231249292,0.0,0.003777687654332363,0.0,0.0,0.5819204406035665,0.0012020950425026475,0.0008384478653117349,0.0053629005560307955,0.0006700081785667567,16.43500114746614,0.03692164050125588,1.6002025198445105,0.6168937699515347,0.028371721419465232,1.0040666576743438,0.3316520389619883,44.094945729368426,1.3541351860907362,0.0023604101550545337,0.04178894581077171,0.8713843791143028,0.0,7.404337473922114,61.59795991871984,0.003153019931520347,0.24609152376253052,0.0005098572602537956,27.52668389326934,0.1992307687179487,2.554325413877446,0.30068371660136745,0.00041855597251482386,0.5250378467468838,0.002560124228859581,1.2160544814691707,2.686359824989393,1.9826372239773695,0.044341965235899256,2.0441505308785413,0.5897009887873754,0.3063743397199705,0.0,0.0,0.6213428694832888,235.83628917378917,0.08962334221925297,12.18066475212289,9.411845600274411,0.008711855729254894,0.4303199020843432,2.3669389763446915,0.7650310056619035,0.1080631780410086,9.14515909130498,0.2883868314865448,93.6776489007436,0.15154902221335037,0.0,4.910645271189557,0.059328090296640455,1.1263671517578124,0.7418723223658441,3.5448147381494515,0.42947369847953215,0.6807499885,1.0677160902880904,0.0,0.19008914525432616,0.19025604214082503,0.12528660485455198,0.24108322955746367,510.5246264822134,0.0,0.032154339985709185,0.01824817518248175,2.1390374331550803,3.6218848185358254,1.6828737688679245,112.85285991082286,0.23116573846153846,0.007333908619499569,0.0,0.0,14.659888641404805,1.7381458453348164,0.11761488484682713,16.448822605363986,77.57575667789001,0.0,99.07128473436448,1.7152416126394052,2817.3918022969647,6.436031066144474,2.2742381495844874,0.11534701348973606,10.42099577056277,6.317925695603156,5.8304093274853805,26.496687185249208,0.0,2.9403768389978637,0.7142857379310346,0.34927457076840407,0.13177160117130307,2.760416765625,2.3734177215189876,0.30864197530864196,3.6178342853503183,39.60000101333333,3866.7778527777778,0.5013927775766016,4309.298331578948,5.277777601851852,4013.2314829787233,16.304347826086957,16.478260704347825,55.89130234782609,0.0,878.47727,16.25581342093023,0.0,114.7500038125,8519.751636666666,29.958333570833336,2.5999999044999997,120625.54477777777,3350.1667566666665,148.6250043125,0.0,11.49999996,413.7037064814815,414.9999936666666,1700.499916,580.88236,4429.9998285],\"y0\":\" \",\"yaxis\":\"y\",\"type\":\"box\"}],                        {\"template\":{\"data\":{\"histogram2dcontour\":[{\"type\":\"histogram2dcontour\",\"colorbar\":{\"outlinewidth\":0,\"ticks\":\"\"},\"colorscale\":[[0.0,\"#0d0887\"],[0.1111111111111111,\"#46039f\"],[0.2222222222222222,\"#7201a8\"],[0.3333333333333333,\"#9c179e\"],[0.4444444444444444,\"#bd3786\"],[0.5555555555555556,\"#d8576b\"],[0.6666666666666666,\"#ed7953\"],[0.7777777777777778,\"#fb9f3a\"],[0.8888888888888888,\"#fdca26\"],[1.0,\"#f0f921\"]]}],\"choropleth\":[{\"type\":\"choropleth\",\"colorbar\":{\"outlinewidth\":0,\"ticks\":\"\"}}],\"histogram2d\":[{\"type\":\"histogram2d\",\"colorbar\":{\"outlinewidth\":0,\"ticks\":\"\"},\"colorscale\":[[0.0,\"#0d0887\"],[0.1111111111111111,\"#46039f\"],[0.2222222222222222,\"#7201a8\"],[0.3333333333333333,\"#9c179e\"],[0.4444444444444444,\"#bd3786\"],[0.5555555555555556,\"#d8576b\"],[0.6666666666666666,\"#ed7953\"],[0.7777777777777778,\"#fb9f3a\"],[0.8888888888888888,\"#fdca26\"],[1.0,\"#f0f921\"]]}],\"heatmap\":[{\"type\":\"heatmap\",\"colorbar\":{\"outlinewidth\":0,\"ticks\":\"\"},\"colorscale\":[[0.0,\"#0d0887\"],[0.1111111111111111,\"#46039f\"],[0.2222222222222222,\"#7201a8\"],[0.3333333333333333,\"#9c179e\"],[0.4444444444444444,\"#bd3786\"],[0.5555555555555556,\"#d8576b\"],[0.6666666666666666,\"#ed7953\"],[0.7777777777777778,\"#fb9f3a\"],[0.8888888888888888,\"#fdca26\"],[1.0,\"#f0f921\"]]}],\"heatmapgl\":[{\"type\":\"heatmapgl\",\"colorbar\":{\"outlinewidth\":0,\"ticks\":\"\"},\"colorscale\":[[0.0,\"#0d0887\"],[0.1111111111111111,\"#46039f\"],[0.2222222222222222,\"#7201a8\"],[0.3333333333333333,\"#9c179e\"],[0.4444444444444444,\"#bd3786\"],[0.5555555555555556,\"#d8576b\"],[0.6666666666666666,\"#ed7953\"],[0.7777777777777778,\"#fb9f3a\"],[0.8888888888888888,\"#fdca26\"],[1.0,\"#f0f921\"]]}],\"contourcarpet\":[{\"type\":\"contourcarpet\",\"colorbar\":{\"outlinewidth\":0,\"ticks\":\"\"}}],\"contour\":[{\"type\":\"contour\",\"colorbar\":{\"outlinewidth\":0,\"ticks\":\"\"},\"colorscale\":[[0.0,\"#0d0887\"],[0.1111111111111111,\"#46039f\"],[0.2222222222222222,\"#7201a8\"],[0.3333333333333333,\"#9c179e\"],[0.4444444444444444,\"#bd3786\"],[0.5555555555555556,\"#d8576b\"],[0.6666666666666666,\"#ed7953\"],[0.7777777777777778,\"#fb9f3a\"],[0.8888888888888888,\"#fdca26\"],[1.0,\"#f0f921\"]]}],\"surface\":[{\"type\":\"surface\",\"colorbar\":{\"outlinewidth\":0,\"ticks\":\"\"},\"colorscale\":[[0.0,\"#0d0887\"],[0.1111111111111111,\"#46039f\"],[0.2222222222222222,\"#7201a8\"],[0.3333333333333333,\"#9c179e\"],[0.4444444444444444,\"#bd3786\"],[0.5555555555555556,\"#d8576b\"],[0.6666666666666666,\"#ed7953\"],[0.7777777777777778,\"#fb9f3a\"],[0.8888888888888888,\"#fdca26\"],[1.0,\"#f0f921\"]]}],\"mesh3d\":[{\"type\":\"mesh3d\",\"colorbar\":{\"outlinewidth\":0,\"ticks\":\"\"}}],\"scatter\":[{\"fillpattern\":{\"fillmode\":\"overlay\",\"size\":10,\"solidity\":0.2},\"type\":\"scatter\"}],\"parcoords\":[{\"type\":\"parcoords\",\"line\":{\"colorbar\":{\"outlinewidth\":0,\"ticks\":\"\"}}}],\"scatterpolargl\":[{\"type\":\"scatterpolargl\",\"marker\":{\"colorbar\":{\"outlinewidth\":0,\"ticks\":\"\"}}}],\"bar\":[{\"error_x\":{\"color\":\"#2a3f5f\"},\"error_y\":{\"color\":\"#2a3f5f\"},\"marker\":{\"line\":{\"color\":\"#E5ECF6\",\"width\":0.5},\"pattern\":{\"fillmode\":\"overlay\",\"size\":10,\"solidity\":0.2}},\"type\":\"bar\"}],\"scattergeo\":[{\"type\":\"scattergeo\",\"marker\":{\"colorbar\":{\"outlinewidth\":0,\"ticks\":\"\"}}}],\"scatterpolar\":[{\"type\":\"scatterpolar\",\"marker\":{\"colorbar\":{\"outlinewidth\":0,\"ticks\":\"\"}}}],\"histogram\":[{\"marker\":{\"pattern\":{\"fillmode\":\"overlay\",\"size\":10,\"solidity\":0.2}},\"type\":\"histogram\"}],\"scattergl\":[{\"type\":\"scattergl\",\"marker\":{\"colorbar\":{\"outlinewidth\":0,\"ticks\":\"\"}}}],\"scatter3d\":[{\"type\":\"scatter3d\",\"line\":{\"colorbar\":{\"outlinewidth\":0,\"ticks\":\"\"}},\"marker\":{\"colorbar\":{\"outlinewidth\":0,\"ticks\":\"\"}}}],\"scattermapbox\":[{\"type\":\"scattermapbox\",\"marker\":{\"colorbar\":{\"outlinewidth\":0,\"ticks\":\"\"}}}],\"scatterternary\":[{\"type\":\"scatterternary\",\"marker\":{\"colorbar\":{\"outlinewidth\":0,\"ticks\":\"\"}}}],\"scattercarpet\":[{\"type\":\"scattercarpet\",\"marker\":{\"colorbar\":{\"outlinewidth\":0,\"ticks\":\"\"}}}],\"carpet\":[{\"aaxis\":{\"endlinecolor\":\"#2a3f5f\",\"gridcolor\":\"white\",\"linecolor\":\"white\",\"minorgridcolor\":\"white\",\"startlinecolor\":\"#2a3f5f\"},\"baxis\":{\"endlinecolor\":\"#2a3f5f\",\"gridcolor\":\"white\",\"linecolor\":\"white\",\"minorgridcolor\":\"white\",\"startlinecolor\":\"#2a3f5f\"},\"type\":\"carpet\"}],\"table\":[{\"cells\":{\"fill\":{\"color\":\"#EBF0F8\"},\"line\":{\"color\":\"white\"}},\"header\":{\"fill\":{\"color\":\"#C8D4E3\"},\"line\":{\"color\":\"white\"}},\"type\":\"table\"}],\"barpolar\":[{\"marker\":{\"line\":{\"color\":\"#E5ECF6\",\"width\":0.5},\"pattern\":{\"fillmode\":\"overlay\",\"size\":10,\"solidity\":0.2}},\"type\":\"barpolar\"}],\"pie\":[{\"automargin\":true,\"type\":\"pie\"}]},\"layout\":{\"autotypenumbers\":\"strict\",\"colorway\":[\"#636efa\",\"#EF553B\",\"#00cc96\",\"#ab63fa\",\"#FFA15A\",\"#19d3f3\",\"#FF6692\",\"#B6E880\",\"#FF97FF\",\"#FECB52\"],\"font\":{\"color\":\"#2a3f5f\"},\"hovermode\":\"closest\",\"hoverlabel\":{\"align\":\"left\"},\"paper_bgcolor\":\"white\",\"plot_bgcolor\":\"#E5ECF6\",\"polar\":{\"bgcolor\":\"#E5ECF6\",\"angularaxis\":{\"gridcolor\":\"white\",\"linecolor\":\"white\",\"ticks\":\"\"},\"radialaxis\":{\"gridcolor\":\"white\",\"linecolor\":\"white\",\"ticks\":\"\"}},\"ternary\":{\"bgcolor\":\"#E5ECF6\",\"aaxis\":{\"gridcolor\":\"white\",\"linecolor\":\"white\",\"ticks\":\"\"},\"baxis\":{\"gridcolor\":\"white\",\"linecolor\":\"white\",\"ticks\":\"\"},\"caxis\":{\"gridcolor\":\"white\",\"linecolor\":\"white\",\"ticks\":\"\"}},\"coloraxis\":{\"colorbar\":{\"outlinewidth\":0,\"ticks\":\"\"}},\"colorscale\":{\"sequential\":[[0.0,\"#0d0887\"],[0.1111111111111111,\"#46039f\"],[0.2222222222222222,\"#7201a8\"],[0.3333333333333333,\"#9c179e\"],[0.4444444444444444,\"#bd3786\"],[0.5555555555555556,\"#d8576b\"],[0.6666666666666666,\"#ed7953\"],[0.7777777777777778,\"#fb9f3a\"],[0.8888888888888888,\"#fdca26\"],[1.0,\"#f0f921\"]],\"sequentialminus\":[[0.0,\"#0d0887\"],[0.1111111111111111,\"#46039f\"],[0.2222222222222222,\"#7201a8\"],[0.3333333333333333,\"#9c179e\"],[0.4444444444444444,\"#bd3786\"],[0.5555555555555556,\"#d8576b\"],[0.6666666666666666,\"#ed7953\"],[0.7777777777777778,\"#fb9f3a\"],[0.8888888888888888,\"#fdca26\"],[1.0,\"#f0f921\"]],\"diverging\":[[0,\"#8e0152\"],[0.1,\"#c51b7d\"],[0.2,\"#de77ae\"],[0.3,\"#f1b6da\"],[0.4,\"#fde0ef\"],[0.5,\"#f7f7f7\"],[0.6,\"#e6f5d0\"],[0.7,\"#b8e186\"],[0.8,\"#7fbc41\"],[0.9,\"#4d9221\"],[1,\"#276419\"]]},\"xaxis\":{\"gridcolor\":\"white\",\"linecolor\":\"white\",\"ticks\":\"\",\"title\":{\"standoff\":15},\"zerolinecolor\":\"white\",\"automargin\":true,\"zerolinewidth\":2},\"yaxis\":{\"gridcolor\":\"white\",\"linecolor\":\"white\",\"ticks\":\"\",\"title\":{\"standoff\":15},\"zerolinecolor\":\"white\",\"automargin\":true,\"zerolinewidth\":2},\"scene\":{\"xaxis\":{\"backgroundcolor\":\"#E5ECF6\",\"gridcolor\":\"white\",\"linecolor\":\"white\",\"showbackground\":true,\"ticks\":\"\",\"zerolinecolor\":\"white\",\"gridwidth\":2},\"yaxis\":{\"backgroundcolor\":\"#E5ECF6\",\"gridcolor\":\"white\",\"linecolor\":\"white\",\"showbackground\":true,\"ticks\":\"\",\"zerolinecolor\":\"white\",\"gridwidth\":2},\"zaxis\":{\"backgroundcolor\":\"#E5ECF6\",\"gridcolor\":\"white\",\"linecolor\":\"white\",\"showbackground\":true,\"ticks\":\"\",\"zerolinecolor\":\"white\",\"gridwidth\":2}},\"shapedefaults\":{\"line\":{\"color\":\"#2a3f5f\"}},\"annotationdefaults\":{\"arrowcolor\":\"#2a3f5f\",\"arrowhead\":0,\"arrowwidth\":1},\"geo\":{\"bgcolor\":\"white\",\"landcolor\":\"#E5ECF6\",\"subunitcolor\":\"white\",\"showland\":true,\"showlakes\":true,\"lakecolor\":\"white\"},\"title\":{\"x\":0.05},\"mapbox\":{\"style\":\"light\"}}},\"xaxis\":{\"anchor\":\"y\",\"domain\":[0.0,1.0],\"title\":{\"text\":\"country\"}},\"yaxis\":{\"anchor\":\"x\",\"domain\":[0.0,1.0],\"title\":{\"text\":\"co2_per_landmass\"},\"type\":\"log\"},\"legend\":{\"tracegroupgap\":0},\"margin\":{\"t\":60},\"boxmode\":\"group\"},                        {\"responsive\": true}                    ).then(function(){\n",
       "                            \n",
       "var gd = document.getElementById('d30cf9a1-7674-4297-888d-bafe7ae493a6');\n",
       "var x = new MutationObserver(function (mutations, observer) {{\n",
       "        var display = window.getComputedStyle(gd).display;\n",
       "        if (!display || display === 'none') {{\n",
       "            console.log([gd, 'removed!']);\n",
       "            Plotly.purge(gd);\n",
       "            observer.disconnect();\n",
       "        }}\n",
       "}});\n",
       "\n",
       "// Listen for the removal of the full notebook cells\n",
       "var notebookContainer = gd.closest('#notebook-container');\n",
       "if (notebookContainer) {{\n",
       "    x.observe(notebookContainer, {childList: true});\n",
       "}}\n",
       "\n",
       "// Listen for the clearing of the current output cell\n",
       "var outputEl = gd.closest('.output');\n",
       "if (outputEl) {{\n",
       "    x.observe(outputEl, {childList: true});\n",
       "}}\n",
       "\n",
       "                        })                };                });            </script>        </div>"
      ]
     },
     "metadata": {},
     "output_type": "display_data"
    }
   ],
   "source": [
    "fig = px.box(merged_df, x='country', y='co2_per_landmass', boxmode='group')\n",
    "\n",
    "fig.update_layout(yaxis_type=\"log\")\n",
    "\n",
    "fig.show()"
   ]
  },
  {
   "cell_type": "markdown",
   "id": "ea8c8734-172f-4879-b5c3-68dc1d3cb0df",
   "metadata": {},
   "source": [
    "TOP 10 worst countries with co2 per landmass"
   ]
  },
  {
   "cell_type": "code",
   "execution_count": 83,
   "id": "a078796d-e894-4f6e-b5cb-0b5e209ec0ac",
   "metadata": {},
   "outputs": [
    {
     "data": {
      "application/vnd.plotly.v1+json": {
       "config": {
        "plotlyServerURL": "https://plot.ly"
       },
       "data": [
        {
         "alignmentgroup": "True",
         "hovertemplate": "country=%{x}<br>co2_per_landmass=%{y}<extra></extra>",
         "legendgroup": "",
         "marker": {
          "color": "#636efa"
         },
         "name": "",
         "notched": false,
         "offsetgroup": "",
         "orientation": "v",
         "showlegend": false,
         "type": "box",
         "x": [
          "Marshall Islands",
          "Maldives",
          "Monaco",
          "Isle of Man",
          "Andorra",
          "Tonga",
          "Aruba",
          "Vanuatu",
          "Nauru",
          "Antigua and Barbuda"
         ],
         "x0": " ",
         "xaxis": "x",
         "y": [
          120625.54477777777,
          8519.751636666666,
          4429.9998285,
          4309.298331578948,
          4013.2314829787233,
          3866.7778527777778,
          3350.1667566666665,
          2817.3918022969647,
          1700.499916,
          878.47727
         ],
         "y0": " ",
         "yaxis": "y"
        }
       ],
       "layout": {
        "autosize": true,
        "boxmode": "group",
        "legend": {
         "tracegroupgap": 0
        },
        "margin": {
         "t": 60
        },
        "template": {
         "data": {
          "bar": [
           {
            "error_x": {
             "color": "#2a3f5f"
            },
            "error_y": {
             "color": "#2a3f5f"
            },
            "marker": {
             "line": {
              "color": "#E5ECF6",
              "width": 0.5
             },
             "pattern": {
              "fillmode": "overlay",
              "size": 10,
              "solidity": 0.2
             }
            },
            "type": "bar"
           }
          ],
          "barpolar": [
           {
            "marker": {
             "line": {
              "color": "#E5ECF6",
              "width": 0.5
             },
             "pattern": {
              "fillmode": "overlay",
              "size": 10,
              "solidity": 0.2
             }
            },
            "type": "barpolar"
           }
          ],
          "carpet": [
           {
            "aaxis": {
             "endlinecolor": "#2a3f5f",
             "gridcolor": "white",
             "linecolor": "white",
             "minorgridcolor": "white",
             "startlinecolor": "#2a3f5f"
            },
            "baxis": {
             "endlinecolor": "#2a3f5f",
             "gridcolor": "white",
             "linecolor": "white",
             "minorgridcolor": "white",
             "startlinecolor": "#2a3f5f"
            },
            "type": "carpet"
           }
          ],
          "choropleth": [
           {
            "colorbar": {
             "outlinewidth": 0,
             "ticks": ""
            },
            "type": "choropleth"
           }
          ],
          "contour": [
           {
            "colorbar": {
             "outlinewidth": 0,
             "ticks": ""
            },
            "colorscale": [
             [
              0,
              "#0d0887"
             ],
             [
              0.1111111111111111,
              "#46039f"
             ],
             [
              0.2222222222222222,
              "#7201a8"
             ],
             [
              0.3333333333333333,
              "#9c179e"
             ],
             [
              0.4444444444444444,
              "#bd3786"
             ],
             [
              0.5555555555555556,
              "#d8576b"
             ],
             [
              0.6666666666666666,
              "#ed7953"
             ],
             [
              0.7777777777777778,
              "#fb9f3a"
             ],
             [
              0.8888888888888888,
              "#fdca26"
             ],
             [
              1,
              "#f0f921"
             ]
            ],
            "type": "contour"
           }
          ],
          "contourcarpet": [
           {
            "colorbar": {
             "outlinewidth": 0,
             "ticks": ""
            },
            "type": "contourcarpet"
           }
          ],
          "heatmap": [
           {
            "colorbar": {
             "outlinewidth": 0,
             "ticks": ""
            },
            "colorscale": [
             [
              0,
              "#0d0887"
             ],
             [
              0.1111111111111111,
              "#46039f"
             ],
             [
              0.2222222222222222,
              "#7201a8"
             ],
             [
              0.3333333333333333,
              "#9c179e"
             ],
             [
              0.4444444444444444,
              "#bd3786"
             ],
             [
              0.5555555555555556,
              "#d8576b"
             ],
             [
              0.6666666666666666,
              "#ed7953"
             ],
             [
              0.7777777777777778,
              "#fb9f3a"
             ],
             [
              0.8888888888888888,
              "#fdca26"
             ],
             [
              1,
              "#f0f921"
             ]
            ],
            "type": "heatmap"
           }
          ],
          "heatmapgl": [
           {
            "colorbar": {
             "outlinewidth": 0,
             "ticks": ""
            },
            "colorscale": [
             [
              0,
              "#0d0887"
             ],
             [
              0.1111111111111111,
              "#46039f"
             ],
             [
              0.2222222222222222,
              "#7201a8"
             ],
             [
              0.3333333333333333,
              "#9c179e"
             ],
             [
              0.4444444444444444,
              "#bd3786"
             ],
             [
              0.5555555555555556,
              "#d8576b"
             ],
             [
              0.6666666666666666,
              "#ed7953"
             ],
             [
              0.7777777777777778,
              "#fb9f3a"
             ],
             [
              0.8888888888888888,
              "#fdca26"
             ],
             [
              1,
              "#f0f921"
             ]
            ],
            "type": "heatmapgl"
           }
          ],
          "histogram": [
           {
            "marker": {
             "pattern": {
              "fillmode": "overlay",
              "size": 10,
              "solidity": 0.2
             }
            },
            "type": "histogram"
           }
          ],
          "histogram2d": [
           {
            "colorbar": {
             "outlinewidth": 0,
             "ticks": ""
            },
            "colorscale": [
             [
              0,
              "#0d0887"
             ],
             [
              0.1111111111111111,
              "#46039f"
             ],
             [
              0.2222222222222222,
              "#7201a8"
             ],
             [
              0.3333333333333333,
              "#9c179e"
             ],
             [
              0.4444444444444444,
              "#bd3786"
             ],
             [
              0.5555555555555556,
              "#d8576b"
             ],
             [
              0.6666666666666666,
              "#ed7953"
             ],
             [
              0.7777777777777778,
              "#fb9f3a"
             ],
             [
              0.8888888888888888,
              "#fdca26"
             ],
             [
              1,
              "#f0f921"
             ]
            ],
            "type": "histogram2d"
           }
          ],
          "histogram2dcontour": [
           {
            "colorbar": {
             "outlinewidth": 0,
             "ticks": ""
            },
            "colorscale": [
             [
              0,
              "#0d0887"
             ],
             [
              0.1111111111111111,
              "#46039f"
             ],
             [
              0.2222222222222222,
              "#7201a8"
             ],
             [
              0.3333333333333333,
              "#9c179e"
             ],
             [
              0.4444444444444444,
              "#bd3786"
             ],
             [
              0.5555555555555556,
              "#d8576b"
             ],
             [
              0.6666666666666666,
              "#ed7953"
             ],
             [
              0.7777777777777778,
              "#fb9f3a"
             ],
             [
              0.8888888888888888,
              "#fdca26"
             ],
             [
              1,
              "#f0f921"
             ]
            ],
            "type": "histogram2dcontour"
           }
          ],
          "mesh3d": [
           {
            "colorbar": {
             "outlinewidth": 0,
             "ticks": ""
            },
            "type": "mesh3d"
           }
          ],
          "parcoords": [
           {
            "line": {
             "colorbar": {
              "outlinewidth": 0,
              "ticks": ""
             }
            },
            "type": "parcoords"
           }
          ],
          "pie": [
           {
            "automargin": true,
            "type": "pie"
           }
          ],
          "scatter": [
           {
            "fillpattern": {
             "fillmode": "overlay",
             "size": 10,
             "solidity": 0.2
            },
            "type": "scatter"
           }
          ],
          "scatter3d": [
           {
            "line": {
             "colorbar": {
              "outlinewidth": 0,
              "ticks": ""
             }
            },
            "marker": {
             "colorbar": {
              "outlinewidth": 0,
              "ticks": ""
             }
            },
            "type": "scatter3d"
           }
          ],
          "scattercarpet": [
           {
            "marker": {
             "colorbar": {
              "outlinewidth": 0,
              "ticks": ""
             }
            },
            "type": "scattercarpet"
           }
          ],
          "scattergeo": [
           {
            "marker": {
             "colorbar": {
              "outlinewidth": 0,
              "ticks": ""
             }
            },
            "type": "scattergeo"
           }
          ],
          "scattergl": [
           {
            "marker": {
             "colorbar": {
              "outlinewidth": 0,
              "ticks": ""
             }
            },
            "type": "scattergl"
           }
          ],
          "scattermapbox": [
           {
            "marker": {
             "colorbar": {
              "outlinewidth": 0,
              "ticks": ""
             }
            },
            "type": "scattermapbox"
           }
          ],
          "scatterpolar": [
           {
            "marker": {
             "colorbar": {
              "outlinewidth": 0,
              "ticks": ""
             }
            },
            "type": "scatterpolar"
           }
          ],
          "scatterpolargl": [
           {
            "marker": {
             "colorbar": {
              "outlinewidth": 0,
              "ticks": ""
             }
            },
            "type": "scatterpolargl"
           }
          ],
          "scatterternary": [
           {
            "marker": {
             "colorbar": {
              "outlinewidth": 0,
              "ticks": ""
             }
            },
            "type": "scatterternary"
           }
          ],
          "surface": [
           {
            "colorbar": {
             "outlinewidth": 0,
             "ticks": ""
            },
            "colorscale": [
             [
              0,
              "#0d0887"
             ],
             [
              0.1111111111111111,
              "#46039f"
             ],
             [
              0.2222222222222222,
              "#7201a8"
             ],
             [
              0.3333333333333333,
              "#9c179e"
             ],
             [
              0.4444444444444444,
              "#bd3786"
             ],
             [
              0.5555555555555556,
              "#d8576b"
             ],
             [
              0.6666666666666666,
              "#ed7953"
             ],
             [
              0.7777777777777778,
              "#fb9f3a"
             ],
             [
              0.8888888888888888,
              "#fdca26"
             ],
             [
              1,
              "#f0f921"
             ]
            ],
            "type": "surface"
           }
          ],
          "table": [
           {
            "cells": {
             "fill": {
              "color": "#EBF0F8"
             },
             "line": {
              "color": "white"
             }
            },
            "header": {
             "fill": {
              "color": "#C8D4E3"
             },
             "line": {
              "color": "white"
             }
            },
            "type": "table"
           }
          ]
         },
         "layout": {
          "annotationdefaults": {
           "arrowcolor": "#2a3f5f",
           "arrowhead": 0,
           "arrowwidth": 1
          },
          "autotypenumbers": "strict",
          "coloraxis": {
           "colorbar": {
            "outlinewidth": 0,
            "ticks": ""
           }
          },
          "colorscale": {
           "diverging": [
            [
             0,
             "#8e0152"
            ],
            [
             0.1,
             "#c51b7d"
            ],
            [
             0.2,
             "#de77ae"
            ],
            [
             0.3,
             "#f1b6da"
            ],
            [
             0.4,
             "#fde0ef"
            ],
            [
             0.5,
             "#f7f7f7"
            ],
            [
             0.6,
             "#e6f5d0"
            ],
            [
             0.7,
             "#b8e186"
            ],
            [
             0.8,
             "#7fbc41"
            ],
            [
             0.9,
             "#4d9221"
            ],
            [
             1,
             "#276419"
            ]
           ],
           "sequential": [
            [
             0,
             "#0d0887"
            ],
            [
             0.1111111111111111,
             "#46039f"
            ],
            [
             0.2222222222222222,
             "#7201a8"
            ],
            [
             0.3333333333333333,
             "#9c179e"
            ],
            [
             0.4444444444444444,
             "#bd3786"
            ],
            [
             0.5555555555555556,
             "#d8576b"
            ],
            [
             0.6666666666666666,
             "#ed7953"
            ],
            [
             0.7777777777777778,
             "#fb9f3a"
            ],
            [
             0.8888888888888888,
             "#fdca26"
            ],
            [
             1,
             "#f0f921"
            ]
           ],
           "sequentialminus": [
            [
             0,
             "#0d0887"
            ],
            [
             0.1111111111111111,
             "#46039f"
            ],
            [
             0.2222222222222222,
             "#7201a8"
            ],
            [
             0.3333333333333333,
             "#9c179e"
            ],
            [
             0.4444444444444444,
             "#bd3786"
            ],
            [
             0.5555555555555556,
             "#d8576b"
            ],
            [
             0.6666666666666666,
             "#ed7953"
            ],
            [
             0.7777777777777778,
             "#fb9f3a"
            ],
            [
             0.8888888888888888,
             "#fdca26"
            ],
            [
             1,
             "#f0f921"
            ]
           ]
          },
          "colorway": [
           "#636efa",
           "#EF553B",
           "#00cc96",
           "#ab63fa",
           "#FFA15A",
           "#19d3f3",
           "#FF6692",
           "#B6E880",
           "#FF97FF",
           "#FECB52"
          ],
          "font": {
           "color": "#2a3f5f"
          },
          "geo": {
           "bgcolor": "white",
           "lakecolor": "white",
           "landcolor": "#E5ECF6",
           "showlakes": true,
           "showland": true,
           "subunitcolor": "white"
          },
          "hoverlabel": {
           "align": "left"
          },
          "hovermode": "closest",
          "mapbox": {
           "style": "light"
          },
          "paper_bgcolor": "white",
          "plot_bgcolor": "#E5ECF6",
          "polar": {
           "angularaxis": {
            "gridcolor": "white",
            "linecolor": "white",
            "ticks": ""
           },
           "bgcolor": "#E5ECF6",
           "radialaxis": {
            "gridcolor": "white",
            "linecolor": "white",
            "ticks": ""
           }
          },
          "scene": {
           "xaxis": {
            "backgroundcolor": "#E5ECF6",
            "gridcolor": "white",
            "gridwidth": 2,
            "linecolor": "white",
            "showbackground": true,
            "ticks": "",
            "zerolinecolor": "white"
           },
           "yaxis": {
            "backgroundcolor": "#E5ECF6",
            "gridcolor": "white",
            "gridwidth": 2,
            "linecolor": "white",
            "showbackground": true,
            "ticks": "",
            "zerolinecolor": "white"
           },
           "zaxis": {
            "backgroundcolor": "#E5ECF6",
            "gridcolor": "white",
            "gridwidth": 2,
            "linecolor": "white",
            "showbackground": true,
            "ticks": "",
            "zerolinecolor": "white"
           }
          },
          "shapedefaults": {
           "line": {
            "color": "#2a3f5f"
           }
          },
          "ternary": {
           "aaxis": {
            "gridcolor": "white",
            "linecolor": "white",
            "ticks": ""
           },
           "baxis": {
            "gridcolor": "white",
            "linecolor": "white",
            "ticks": ""
           },
           "bgcolor": "#E5ECF6",
           "caxis": {
            "gridcolor": "white",
            "linecolor": "white",
            "ticks": ""
           }
          },
          "title": {
           "x": 0.05
          },
          "xaxis": {
           "automargin": true,
           "gridcolor": "white",
           "linecolor": "white",
           "ticks": "",
           "title": {
            "standoff": 15
           },
           "zerolinecolor": "white",
           "zerolinewidth": 2
          },
          "yaxis": {
           "automargin": true,
           "gridcolor": "white",
           "linecolor": "white",
           "ticks": "",
           "title": {
            "standoff": 15
           },
           "zerolinecolor": "white",
           "zerolinewidth": 2
          }
         }
        },
        "xaxis": {
         "anchor": "y",
         "autorange": true,
         "domain": [
          0,
          1
         ],
         "range": [
          -0.5,
          9.5
         ],
         "title": {
          "text": "country"
         },
         "type": "category"
        },
        "yaxis": {
         "anchor": "x",
         "autorange": true,
         "domain": [
          0,
          1
         ],
         "range": [
          2.8249689311896615,
          5.200200885461925
         ],
         "title": {
          "text": "co2_per_landmass"
         },
         "type": "log"
        }
       }
      },
      "image/png": "[encoded data removed]",
      "text/html": [
       "<div>                            <div id=\"32c158d1-8ef0-4632-b589-445a7806049d\" class=\"plotly-graph-div\" style=\"height:525px; width:100%;\"></div>            <script type=\"text/javascript\">                require([\"plotly\"], function(Plotly) {                    window.PLOTLYENV=window.PLOTLYENV || {};                                    if (document.getElementById(\"32c158d1-8ef0-4632-b589-445a7806049d\")) {                    Plotly.newPlot(                        \"32c158d1-8ef0-4632-b589-445a7806049d\",                        [{\"alignmentgroup\":\"True\",\"hovertemplate\":\"country=%{x}<br>co2_per_landmass=%{y}<extra></extra>\",\"legendgroup\":\"\",\"marker\":{\"color\":\"#636efa\"},\"name\":\"\",\"notched\":false,\"offsetgroup\":\"\",\"orientation\":\"v\",\"showlegend\":false,\"x\":[\"Marshall Islands\",\"Maldives\",\"Monaco\",\"Isle of Man\",\"Andorra\",\"Tonga\",\"Aruba\",\"Vanuatu\",\"Nauru\",\"Antigua and Barbuda\"],\"x0\":\" \",\"xaxis\":\"x\",\"y\":[120625.54477777777,8519.751636666666,4429.9998285,4309.298331578948,4013.2314829787233,3866.7778527777778,3350.1667566666665,2817.3918022969647,1700.499916,878.47727],\"y0\":\" \",\"yaxis\":\"y\",\"type\":\"box\"}],                        {\"template\":{\"data\":{\"histogram2dcontour\":[{\"type\":\"histogram2dcontour\",\"colorbar\":{\"outlinewidth\":0,\"ticks\":\"\"},\"colorscale\":[[0.0,\"#0d0887\"],[0.1111111111111111,\"#46039f\"],[0.2222222222222222,\"#7201a8\"],[0.3333333333333333,\"#9c179e\"],[0.4444444444444444,\"#bd3786\"],[0.5555555555555556,\"#d8576b\"],[0.6666666666666666,\"#ed7953\"],[0.7777777777777778,\"#fb9f3a\"],[0.8888888888888888,\"#fdca26\"],[1.0,\"#f0f921\"]]}],\"choropleth\":[{\"type\":\"choropleth\",\"colorbar\":{\"outlinewidth\":0,\"ticks\":\"\"}}],\"histogram2d\":[{\"type\":\"histogram2d\",\"colorbar\":{\"outlinewidth\":0,\"ticks\":\"\"},\"colorscale\":[[0.0,\"#0d0887\"],[0.1111111111111111,\"#46039f\"],[0.2222222222222222,\"#7201a8\"],[0.3333333333333333,\"#9c179e\"],[0.4444444444444444,\"#bd3786\"],[0.5555555555555556,\"#d8576b\"],[0.6666666666666666,\"#ed7953\"],[0.7777777777777778,\"#fb9f3a\"],[0.8888888888888888,\"#fdca26\"],[1.0,\"#f0f921\"]]}],\"heatmap\":[{\"type\":\"heatmap\",\"colorbar\":{\"outlinewidth\":0,\"ticks\":\"\"},\"colorscale\":[[0.0,\"#0d0887\"],[0.1111111111111111,\"#46039f\"],[0.2222222222222222,\"#7201a8\"],[0.3333333333333333,\"#9c179e\"],[0.4444444444444444,\"#bd3786\"],[0.5555555555555556,\"#d8576b\"],[0.6666666666666666,\"#ed7953\"],[0.7777777777777778,\"#fb9f3a\"],[0.8888888888888888,\"#fdca26\"],[1.0,\"#f0f921\"]]}],\"heatmapgl\":[{\"type\":\"heatmapgl\",\"colorbar\":{\"outlinewidth\":0,\"ticks\":\"\"},\"colorscale\":[[0.0,\"#0d0887\"],[0.1111111111111111,\"#46039f\"],[0.2222222222222222,\"#7201a8\"],[0.3333333333333333,\"#9c179e\"],[0.4444444444444444,\"#bd3786\"],[0.5555555555555556,\"#d8576b\"],[0.6666666666666666,\"#ed7953\"],[0.7777777777777778,\"#fb9f3a\"],[0.8888888888888888,\"#fdca26\"],[1.0,\"#f0f921\"]]}],\"contourcarpet\":[{\"type\":\"contourcarpet\",\"colorbar\":{\"outlinewidth\":0,\"ticks\":\"\"}}],\"contour\":[{\"type\":\"contour\",\"colorbar\":{\"outlinewidth\":0,\"ticks\":\"\"},\"colorscale\":[[0.0,\"#0d0887\"],[0.1111111111111111,\"#46039f\"],[0.2222222222222222,\"#7201a8\"],[0.3333333333333333,\"#9c179e\"],[0.4444444444444444,\"#bd3786\"],[0.5555555555555556,\"#d8576b\"],[0.6666666666666666,\"#ed7953\"],[0.7777777777777778,\"#fb9f3a\"],[0.8888888888888888,\"#fdca26\"],[1.0,\"#f0f921\"]]}],\"surface\":[{\"type\":\"surface\",\"colorbar\":{\"outlinewidth\":0,\"ticks\":\"\"},\"colorscale\":[[0.0,\"#0d0887\"],[0.1111111111111111,\"#46039f\"],[0.2222222222222222,\"#7201a8\"],[0.3333333333333333,\"#9c179e\"],[0.4444444444444444,\"#bd3786\"],[0.5555555555555556,\"#d8576b\"],[0.6666666666666666,\"#ed7953\"],[0.7777777777777778,\"#fb9f3a\"],[0.8888888888888888,\"#fdca26\"],[1.0,\"#f0f921\"]]}],\"mesh3d\":[{\"type\":\"mesh3d\",\"colorbar\":{\"outlinewidth\":0,\"ticks\":\"\"}}],\"scatter\":[{\"fillpattern\":{\"fillmode\":\"overlay\",\"size\":10,\"solidity\":0.2},\"type\":\"scatter\"}],\"parcoords\":[{\"type\":\"parcoords\",\"line\":{\"colorbar\":{\"outlinewidth\":0,\"ticks\":\"\"}}}],\"scatterpolargl\":[{\"type\":\"scatterpolargl\",\"marker\":{\"colorbar\":{\"outlinewidth\":0,\"ticks\":\"\"}}}],\"bar\":[{\"error_x\":{\"color\":\"#2a3f5f\"},\"error_y\":{\"color\":\"#2a3f5f\"},\"marker\":{\"line\":{\"color\":\"#E5ECF6\",\"width\":0.5},\"pattern\":{\"fillmode\":\"overlay\",\"size\":10,\"solidity\":0.2}},\"type\":\"bar\"}],\"scattergeo\":[{\"type\":\"scattergeo\",\"marker\":{\"colorbar\":{\"outlinewidth\":0,\"ticks\":\"\"}}}],\"scatterpolar\":[{\"type\":\"scatterpolar\",\"marker\":{\"colorbar\":{\"outlinewidth\":0,\"ticks\":\"\"}}}],\"histogram\":[{\"marker\":{\"pattern\":{\"fillmode\":\"overlay\",\"size\":10,\"solidity\":0.2}},\"type\":\"histogram\"}],\"scattergl\":[{\"type\":\"scattergl\",\"marker\":{\"colorbar\":{\"outlinewidth\":0,\"ticks\":\"\"}}}],\"scatter3d\":[{\"type\":\"scatter3d\",\"line\":{\"colorbar\":{\"outlinewidth\":0,\"ticks\":\"\"}},\"marker\":{\"colorbar\":{\"outlinewidth\":0,\"ticks\":\"\"}}}],\"scattermapbox\":[{\"type\":\"scattermapbox\",\"marker\":{\"colorbar\":{\"outlinewidth\":0,\"ticks\":\"\"}}}],\"scatterternary\":[{\"type\":\"scatterternary\",\"marker\":{\"colorbar\":{\"outlinewidth\":0,\"ticks\":\"\"}}}],\"scattercarpet\":[{\"type\":\"scattercarpet\",\"marker\":{\"colorbar\":{\"outlinewidth\":0,\"ticks\":\"\"}}}],\"carpet\":[{\"aaxis\":{\"endlinecolor\":\"#2a3f5f\",\"gridcolor\":\"white\",\"linecolor\":\"white\",\"minorgridcolor\":\"white\",\"startlinecolor\":\"#2a3f5f\"},\"baxis\":{\"endlinecolor\":\"#2a3f5f\",\"gridcolor\":\"white\",\"linecolor\":\"white\",\"minorgridcolor\":\"white\",\"startlinecolor\":\"#2a3f5f\"},\"type\":\"carpet\"}],\"table\":[{\"cells\":{\"fill\":{\"color\":\"#EBF0F8\"},\"line\":{\"color\":\"white\"}},\"header\":{\"fill\":{\"color\":\"#C8D4E3\"},\"line\":{\"color\":\"white\"}},\"type\":\"table\"}],\"barpolar\":[{\"marker\":{\"line\":{\"color\":\"#E5ECF6\",\"width\":0.5},\"pattern\":{\"fillmode\":\"overlay\",\"size\":10,\"solidity\":0.2}},\"type\":\"barpolar\"}],\"pie\":[{\"automargin\":true,\"type\":\"pie\"}]},\"layout\":{\"autotypenumbers\":\"strict\",\"colorway\":[\"#636efa\",\"#EF553B\",\"#00cc96\",\"#ab63fa\",\"#FFA15A\",\"#19d3f3\",\"#FF6692\",\"#B6E880\",\"#FF97FF\",\"#FECB52\"],\"font\":{\"color\":\"#2a3f5f\"},\"hovermode\":\"closest\",\"hoverlabel\":{\"align\":\"left\"},\"paper_bgcolor\":\"white\",\"plot_bgcolor\":\"#E5ECF6\",\"polar\":{\"bgcolor\":\"#E5ECF6\",\"angularaxis\":{\"gridcolor\":\"white\",\"linecolor\":\"white\",\"ticks\":\"\"},\"radialaxis\":{\"gridcolor\":\"white\",\"linecolor\":\"white\",\"ticks\":\"\"}},\"ternary\":{\"bgcolor\":\"#E5ECF6\",\"aaxis\":{\"gridcolor\":\"white\",\"linecolor\":\"white\",\"ticks\":\"\"},\"baxis\":{\"gridcolor\":\"white\",\"linecolor\":\"white\",\"ticks\":\"\"},\"caxis\":{\"gridcolor\":\"white\",\"linecolor\":\"white\",\"ticks\":\"\"}},\"coloraxis\":{\"colorbar\":{\"outlinewidth\":0,\"ticks\":\"\"}},\"colorscale\":{\"sequential\":[[0.0,\"#0d0887\"],[0.1111111111111111,\"#46039f\"],[0.2222222222222222,\"#7201a8\"],[0.3333333333333333,\"#9c179e\"],[0.4444444444444444,\"#bd3786\"],[0.5555555555555556,\"#d8576b\"],[0.6666666666666666,\"#ed7953\"],[0.7777777777777778,\"#fb9f3a\"],[0.8888888888888888,\"#fdca26\"],[1.0,\"#f0f921\"]],\"sequentialminus\":[[0.0,\"#0d0887\"],[0.1111111111111111,\"#46039f\"],[0.2222222222222222,\"#7201a8\"],[0.3333333333333333,\"#9c179e\"],[0.4444444444444444,\"#bd3786\"],[0.5555555555555556,\"#d8576b\"],[0.6666666666666666,\"#ed7953\"],[0.7777777777777778,\"#fb9f3a\"],[0.8888888888888888,\"#fdca26\"],[1.0,\"#f0f921\"]],\"diverging\":[[0,\"#8e0152\"],[0.1,\"#c51b7d\"],[0.2,\"#de77ae\"],[0.3,\"#f1b6da\"],[0.4,\"#fde0ef\"],[0.5,\"#f7f7f7\"],[0.6,\"#e6f5d0\"],[0.7,\"#b8e186\"],[0.8,\"#7fbc41\"],[0.9,\"#4d9221\"],[1,\"#276419\"]]},\"xaxis\":{\"gridcolor\":\"white\",\"linecolor\":\"white\",\"ticks\":\"\",\"title\":{\"standoff\":15},\"zerolinecolor\":\"white\",\"automargin\":true,\"zerolinewidth\":2},\"yaxis\":{\"gridcolor\":\"white\",\"linecolor\":\"white\",\"ticks\":\"\",\"title\":{\"standoff\":15},\"zerolinecolor\":\"white\",\"automargin\":true,\"zerolinewidth\":2},\"scene\":{\"xaxis\":{\"backgroundcolor\":\"#E5ECF6\",\"gridcolor\":\"white\",\"linecolor\":\"white\",\"showbackground\":true,\"ticks\":\"\",\"zerolinecolor\":\"white\",\"gridwidth\":2},\"yaxis\":{\"backgroundcolor\":\"#E5ECF6\",\"gridcolor\":\"white\",\"linecolor\":\"white\",\"showbackground\":true,\"ticks\":\"\",\"zerolinecolor\":\"white\",\"gridwidth\":2},\"zaxis\":{\"backgroundcolor\":\"#E5ECF6\",\"gridcolor\":\"white\",\"linecolor\":\"white\",\"showbackground\":true,\"ticks\":\"\",\"zerolinecolor\":\"white\",\"gridwidth\":2}},\"shapedefaults\":{\"line\":{\"color\":\"#2a3f5f\"}},\"annotationdefaults\":{\"arrowcolor\":\"#2a3f5f\",\"arrowhead\":0,\"arrowwidth\":1},\"geo\":{\"bgcolor\":\"white\",\"landcolor\":\"#E5ECF6\",\"subunitcolor\":\"white\",\"showland\":true,\"showlakes\":true,\"lakecolor\":\"white\"},\"title\":{\"x\":0.05},\"mapbox\":{\"style\":\"light\"}}},\"xaxis\":{\"anchor\":\"y\",\"domain\":[0.0,1.0],\"title\":{\"text\":\"country\"}},\"yaxis\":{\"anchor\":\"x\",\"domain\":[0.0,1.0],\"title\":{\"text\":\"co2_per_landmass\"},\"type\":\"log\"},\"legend\":{\"tracegroupgap\":0},\"margin\":{\"t\":60},\"boxmode\":\"group\"},                        {\"responsive\": true}                    ).then(function(){\n",
       "                            \n",
       "var gd = document.getElementById('32c158d1-8ef0-4632-b589-445a7806049d');\n",
       "var x = new MutationObserver(function (mutations, observer) {{\n",
       "        var display = window.getComputedStyle(gd).display;\n",
       "        if (!display || display === 'none') {{\n",
       "            console.log([gd, 'removed!']);\n",
       "            Plotly.purge(gd);\n",
       "            observer.disconnect();\n",
       "        }}\n",
       "}});\n",
       "\n",
       "// Listen for the removal of the full notebook cells\n",
       "var notebookContainer = gd.closest('#notebook-container');\n",
       "if (notebookContainer) {{\n",
       "    x.observe(notebookContainer, {childList: true});\n",
       "}}\n",
       "\n",
       "// Listen for the clearing of the current output cell\n",
       "var outputEl = gd.closest('.output');\n",
       "if (outputEl) {{\n",
       "    x.observe(outputEl, {childList: true});\n",
       "}}\n",
       "\n",
       "                        })                };                });            </script>        </div>"
      ]
     },
     "metadata": {},
     "output_type": "display_data"
    }
   ],
   "source": [
    "# sort the dataframe by the landmass column in descending order\n",
    "merged_df_sorted = merged_df.sort_values(by='co2_per_landmass', ascending=False)\n",
    "\n",
    "# select the top 10 countries\n",
    "top_10 = merged_df_sorted.head(10)\n",
    "\n",
    "fig = px.box(top_10, x='country', y='co2_per_landmass', boxmode='group')\n",
    "\n",
    "fig.update_layout(yaxis_type=\"log\")\n",
    "\n",
    "fig.show()"
   ]
  },
  {
   "cell_type": "code",
   "execution_count": null,
   "id": "8847e080-6a86-4952-adb2-3240f3ec5698",
   "metadata": {},
   "outputs": [],
   "source": []
  }
 ],
 "metadata": {
  "kernelspec": {
   "display_name": "Python 3 (ipykernel)",
   "language": "python",
   "name": "python3"
  },
  "language_info": {
   "codemirror_mode": {
    "name": "ipython",
    "version": 3
   },
   "file_extension": ".py",
   "mimetype": "text/x-python",
   "name": "python",
   "nbconvert_exporter": "python",
   "pygments_lexer": "ipython3",
   "version": "3.9.13"
  }
 },
 "nbformat": 4,
 "nbformat_minor": 5
}
