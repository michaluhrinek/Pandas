{
 "cells": [
  {
   "cell_type": "markdown",
   "metadata": {},
   "source": [
    "# PANDAS "
   ]
  },
  {
   "cell_type": "code",
   "execution_count": null,
   "metadata": {},
   "outputs": [],
   "source": []
  },
  {
   "cell_type": "markdown",
   "metadata": {},
   "source": [
    "Creating dataframe, sorting, analyzing data, cleaning data.."
   ]
  },
  {
   "cell_type": "code",
   "execution_count": 1,
   "metadata": {},
   "outputs": [],
   "source": [
    "import pandas as pd "
   ]
  },
  {
   "cell_type": "code",
   "execution_count": null,
   "metadata": {},
   "outputs": [],
   "source": []
  },
  {
   "cell_type": "code",
   "execution_count": 2,
   "metadata": {},
   "outputs": [],
   "source": [
    "# Your data\n",
    "data = {\n",
    "    'Date': ['25.10.2023', '28.10.2023', '30.10.2023', '2.11.2023', '3.11.2023', '5.11.2023', '6.11.2023', '8.11.2023'],\n",
    "    'Food shopping': ['47', '13.85', '32.29', '42', '31', '5.97', '40', '45'],\n",
    "    'Pharmacy': ['0', '0', '0', '0', '0', '0', '3.60', '7'],\n",
    "    'Travel': ['0', '0', '0', '0', '0', '0', '1.65', '0'],\n",
    "    'Miscellaneous': ['0', '0', '0', '0', '0', '0', '0', '0'],\n",
    "    'Description': ['lidl', 'Tesco food shopping', 'Tesco food shopping', 'Tesco food shopping', 'Tesco food shopping', 'food shopping', 'Tesco food shopping, potraviny, VUB AS, 1.65', 'Tesco food shopping'],\n",
    "    'Sum_all': ['47', '13.85', '32.29', '42', '31', '0', '41.65', '52']\n",
    "}"
   ]
  },
  {
   "cell_type": "code",
   "execution_count": 3,
   "metadata": {},
   "outputs": [],
   "source": [
    "#Create DataFrame\n",
    "df = pd.DataFrame(data)"
   ]
  },
  {
   "cell_type": "code",
   "execution_count": 4,
   "metadata": {},
   "outputs": [
    {
     "data": {
      "text/html": [
       "<div>\n",
       "<style scoped>\n",
       "    .dataframe tbody tr th:only-of-type {\n",
       "        vertical-align: middle;\n",
       "    }\n",
       "\n",
       "    .dataframe tbody tr th {\n",
       "        vertical-align: top;\n",
       "    }\n",
       "\n",
       "    .dataframe thead th {\n",
       "        text-align: right;\n",
       "    }\n",
       "</style>\n",
       "<table border=\"1\" class=\"dataframe\">\n",
       "  <thead>\n",
       "    <tr style=\"text-align: right;\">\n",
       "      <th></th>\n",
       "      <th>Date</th>\n",
       "      <th>Food shopping</th>\n",
       "      <th>Pharmacy</th>\n",
       "      <th>Travel</th>\n",
       "      <th>Miscellaneous</th>\n",
       "      <th>Description</th>\n",
       "      <th>Sum_all</th>\n",
       "    </tr>\n",
       "  </thead>\n",
       "  <tbody>\n",
       "    <tr>\n",
       "      <th>0</th>\n",
       "      <td>25.10.2023</td>\n",
       "      <td>47</td>\n",
       "      <td>0</td>\n",
       "      <td>0</td>\n",
       "      <td>0</td>\n",
       "      <td>lidl</td>\n",
       "      <td>47</td>\n",
       "    </tr>\n",
       "    <tr>\n",
       "      <th>1</th>\n",
       "      <td>28.10.2023</td>\n",
       "      <td>13.85</td>\n",
       "      <td>0</td>\n",
       "      <td>0</td>\n",
       "      <td>0</td>\n",
       "      <td>Tesco food shopping</td>\n",
       "      <td>13.85</td>\n",
       "    </tr>\n",
       "    <tr>\n",
       "      <th>2</th>\n",
       "      <td>30.10.2023</td>\n",
       "      <td>32.29</td>\n",
       "      <td>0</td>\n",
       "      <td>0</td>\n",
       "      <td>0</td>\n",
       "      <td>Tesco food shopping</td>\n",
       "      <td>32.29</td>\n",
       "    </tr>\n",
       "    <tr>\n",
       "      <th>3</th>\n",
       "      <td>2.11.2023</td>\n",
       "      <td>42</td>\n",
       "      <td>0</td>\n",
       "      <td>0</td>\n",
       "      <td>0</td>\n",
       "      <td>Tesco food shopping</td>\n",
       "      <td>42</td>\n",
       "    </tr>\n",
       "    <tr>\n",
       "      <th>4</th>\n",
       "      <td>3.11.2023</td>\n",
       "      <td>31</td>\n",
       "      <td>0</td>\n",
       "      <td>0</td>\n",
       "      <td>0</td>\n",
       "      <td>Tesco food shopping</td>\n",
       "      <td>31</td>\n",
       "    </tr>\n",
       "    <tr>\n",
       "      <th>5</th>\n",
       "      <td>5.11.2023</td>\n",
       "      <td>5.97</td>\n",
       "      <td>0</td>\n",
       "      <td>0</td>\n",
       "      <td>0</td>\n",
       "      <td>food shopping</td>\n",
       "      <td>0</td>\n",
       "    </tr>\n",
       "    <tr>\n",
       "      <th>6</th>\n",
       "      <td>6.11.2023</td>\n",
       "      <td>40</td>\n",
       "      <td>3.60</td>\n",
       "      <td>1.65</td>\n",
       "      <td>0</td>\n",
       "      <td>Tesco food shopping, potraviny, VUB AS, 1.65</td>\n",
       "      <td>41.65</td>\n",
       "    </tr>\n",
       "    <tr>\n",
       "      <th>7</th>\n",
       "      <td>8.11.2023</td>\n",
       "      <td>45</td>\n",
       "      <td>7</td>\n",
       "      <td>0</td>\n",
       "      <td>0</td>\n",
       "      <td>Tesco food shopping</td>\n",
       "      <td>52</td>\n",
       "    </tr>\n",
       "  </tbody>\n",
       "</table>\n",
       "</div>"
      ],
      "text/plain": [
       "         Date Food shopping Pharmacy Travel Miscellaneous  \\\n",
       "0  25.10.2023            47        0      0             0   \n",
       "1  28.10.2023         13.85        0      0             0   \n",
       "2  30.10.2023         32.29        0      0             0   \n",
       "3   2.11.2023            42        0      0             0   \n",
       "4   3.11.2023            31        0      0             0   \n",
       "5   5.11.2023          5.97        0      0             0   \n",
       "6   6.11.2023            40     3.60   1.65             0   \n",
       "7   8.11.2023            45        7      0             0   \n",
       "\n",
       "                                    Description Sum_all  \n",
       "0                                          lidl      47  \n",
       "1                           Tesco food shopping   13.85  \n",
       "2                           Tesco food shopping   32.29  \n",
       "3                           Tesco food shopping      42  \n",
       "4                           Tesco food shopping      31  \n",
       "5                                 food shopping       0  \n",
       "6  Tesco food shopping, potraviny, VUB AS, 1.65   41.65  \n",
       "7                           Tesco food shopping      52  "
      ]
     },
     "execution_count": 4,
     "metadata": {},
     "output_type": "execute_result"
    }
   ],
   "source": [
    "df"
   ]
  },
  {
   "cell_type": "markdown",
   "metadata": {},
   "source": [
    "Viewing Data:\n",
    "\n",
    "    df.head(): View the first few rows of the DataFrame.\n",
    "    df.tail(): View the last few rows of the DataFrame.\n",
    "    df.info(): Display a concise summary of the DataFrame, including data types and missing values.\n",
    "    df.describe(): Generate descriptive statistics of the DataFrame."
   ]
  },
  {
   "cell_type": "code",
   "execution_count": 5,
   "metadata": {},
   "outputs": [
    {
     "data": {
      "text/html": [
       "<div>\n",
       "<style scoped>\n",
       "    .dataframe tbody tr th:only-of-type {\n",
       "        vertical-align: middle;\n",
       "    }\n",
       "\n",
       "    .dataframe tbody tr th {\n",
       "        vertical-align: top;\n",
       "    }\n",
       "\n",
       "    .dataframe thead th {\n",
       "        text-align: right;\n",
       "    }\n",
       "</style>\n",
       "<table border=\"1\" class=\"dataframe\">\n",
       "  <thead>\n",
       "    <tr style=\"text-align: right;\">\n",
       "      <th></th>\n",
       "      <th>Date</th>\n",
       "      <th>Food shopping</th>\n",
       "      <th>Pharmacy</th>\n",
       "      <th>Travel</th>\n",
       "      <th>Miscellaneous</th>\n",
       "      <th>Description</th>\n",
       "      <th>Sum_all</th>\n",
       "    </tr>\n",
       "  </thead>\n",
       "  <tbody>\n",
       "    <tr>\n",
       "      <th>0</th>\n",
       "      <td>25.10.2023</td>\n",
       "      <td>47</td>\n",
       "      <td>0</td>\n",
       "      <td>0</td>\n",
       "      <td>0</td>\n",
       "      <td>lidl</td>\n",
       "      <td>47</td>\n",
       "    </tr>\n",
       "    <tr>\n",
       "      <th>1</th>\n",
       "      <td>28.10.2023</td>\n",
       "      <td>13.85</td>\n",
       "      <td>0</td>\n",
       "      <td>0</td>\n",
       "      <td>0</td>\n",
       "      <td>Tesco food shopping</td>\n",
       "      <td>13.85</td>\n",
       "    </tr>\n",
       "    <tr>\n",
       "      <th>2</th>\n",
       "      <td>30.10.2023</td>\n",
       "      <td>32.29</td>\n",
       "      <td>0</td>\n",
       "      <td>0</td>\n",
       "      <td>0</td>\n",
       "      <td>Tesco food shopping</td>\n",
       "      <td>32.29</td>\n",
       "    </tr>\n",
       "    <tr>\n",
       "      <th>3</th>\n",
       "      <td>2.11.2023</td>\n",
       "      <td>42</td>\n",
       "      <td>0</td>\n",
       "      <td>0</td>\n",
       "      <td>0</td>\n",
       "      <td>Tesco food shopping</td>\n",
       "      <td>42</td>\n",
       "    </tr>\n",
       "    <tr>\n",
       "      <th>4</th>\n",
       "      <td>3.11.2023</td>\n",
       "      <td>31</td>\n",
       "      <td>0</td>\n",
       "      <td>0</td>\n",
       "      <td>0</td>\n",
       "      <td>Tesco food shopping</td>\n",
       "      <td>31</td>\n",
       "    </tr>\n",
       "  </tbody>\n",
       "</table>\n",
       "</div>"
      ],
      "text/plain": [
       "         Date Food shopping Pharmacy Travel Miscellaneous  \\\n",
       "0  25.10.2023            47        0      0             0   \n",
       "1  28.10.2023         13.85        0      0             0   \n",
       "2  30.10.2023         32.29        0      0             0   \n",
       "3   2.11.2023            42        0      0             0   \n",
       "4   3.11.2023            31        0      0             0   \n",
       "\n",
       "           Description Sum_all  \n",
       "0                 lidl      47  \n",
       "1  Tesco food shopping   13.85  \n",
       "2  Tesco food shopping   32.29  \n",
       "3  Tesco food shopping      42  \n",
       "4  Tesco food shopping      31  "
      ]
     },
     "execution_count": 5,
     "metadata": {},
     "output_type": "execute_result"
    }
   ],
   "source": [
    "df.head()"
   ]
  },
  {
   "cell_type": "code",
   "execution_count": 6,
   "metadata": {},
   "outputs": [
    {
     "data": {
      "text/html": [
       "<div>\n",
       "<style scoped>\n",
       "    .dataframe tbody tr th:only-of-type {\n",
       "        vertical-align: middle;\n",
       "    }\n",
       "\n",
       "    .dataframe tbody tr th {\n",
       "        vertical-align: top;\n",
       "    }\n",
       "\n",
       "    .dataframe thead th {\n",
       "        text-align: right;\n",
       "    }\n",
       "</style>\n",
       "<table border=\"1\" class=\"dataframe\">\n",
       "  <thead>\n",
       "    <tr style=\"text-align: right;\">\n",
       "      <th></th>\n",
       "      <th>Date</th>\n",
       "      <th>Food shopping</th>\n",
       "      <th>Pharmacy</th>\n",
       "      <th>Travel</th>\n",
       "      <th>Miscellaneous</th>\n",
       "      <th>Description</th>\n",
       "      <th>Sum_all</th>\n",
       "    </tr>\n",
       "  </thead>\n",
       "  <tbody>\n",
       "    <tr>\n",
       "      <th>3</th>\n",
       "      <td>2.11.2023</td>\n",
       "      <td>42</td>\n",
       "      <td>0</td>\n",
       "      <td>0</td>\n",
       "      <td>0</td>\n",
       "      <td>Tesco food shopping</td>\n",
       "      <td>42</td>\n",
       "    </tr>\n",
       "    <tr>\n",
       "      <th>4</th>\n",
       "      <td>3.11.2023</td>\n",
       "      <td>31</td>\n",
       "      <td>0</td>\n",
       "      <td>0</td>\n",
       "      <td>0</td>\n",
       "      <td>Tesco food shopping</td>\n",
       "      <td>31</td>\n",
       "    </tr>\n",
       "    <tr>\n",
       "      <th>5</th>\n",
       "      <td>5.11.2023</td>\n",
       "      <td>5.97</td>\n",
       "      <td>0</td>\n",
       "      <td>0</td>\n",
       "      <td>0</td>\n",
       "      <td>food shopping</td>\n",
       "      <td>0</td>\n",
       "    </tr>\n",
       "    <tr>\n",
       "      <th>6</th>\n",
       "      <td>6.11.2023</td>\n",
       "      <td>40</td>\n",
       "      <td>3.60</td>\n",
       "      <td>1.65</td>\n",
       "      <td>0</td>\n",
       "      <td>Tesco food shopping, potraviny, VUB AS, 1.65</td>\n",
       "      <td>41.65</td>\n",
       "    </tr>\n",
       "    <tr>\n",
       "      <th>7</th>\n",
       "      <td>8.11.2023</td>\n",
       "      <td>45</td>\n",
       "      <td>7</td>\n",
       "      <td>0</td>\n",
       "      <td>0</td>\n",
       "      <td>Tesco food shopping</td>\n",
       "      <td>52</td>\n",
       "    </tr>\n",
       "  </tbody>\n",
       "</table>\n",
       "</div>"
      ],
      "text/plain": [
       "        Date Food shopping Pharmacy Travel Miscellaneous  \\\n",
       "3  2.11.2023            42        0      0             0   \n",
       "4  3.11.2023            31        0      0             0   \n",
       "5  5.11.2023          5.97        0      0             0   \n",
       "6  6.11.2023            40     3.60   1.65             0   \n",
       "7  8.11.2023            45        7      0             0   \n",
       "\n",
       "                                    Description Sum_all  \n",
       "3                           Tesco food shopping      42  \n",
       "4                           Tesco food shopping      31  \n",
       "5                                 food shopping       0  \n",
       "6  Tesco food shopping, potraviny, VUB AS, 1.65   41.65  \n",
       "7                           Tesco food shopping      52  "
      ]
     },
     "execution_count": 6,
     "metadata": {},
     "output_type": "execute_result"
    }
   ],
   "source": [
    "df.tail()"
   ]
  },
  {
   "cell_type": "code",
   "execution_count": 7,
   "metadata": {},
   "outputs": [
    {
     "name": "stdout",
     "output_type": "stream",
     "text": [
      "<class 'pandas.core.frame.DataFrame'>\n",
      "RangeIndex: 8 entries, 0 to 7\n",
      "Data columns (total 7 columns):\n",
      " #   Column         Non-Null Count  Dtype \n",
      "---  ------         --------------  ----- \n",
      " 0   Date           8 non-null      object\n",
      " 1   Food shopping  8 non-null      object\n",
      " 2   Pharmacy       8 non-null      object\n",
      " 3   Travel         8 non-null      object\n",
      " 4   Miscellaneous  8 non-null      object\n",
      " 5   Description    8 non-null      object\n",
      " 6   Sum_all        8 non-null      object\n",
      "dtypes: object(7)\n",
      "memory usage: 576.0+ bytes\n"
     ]
    }
   ],
   "source": [
    "df.info()"
   ]
  },
  {
   "cell_type": "code",
   "execution_count": 8,
   "metadata": {
    "scrolled": true
   },
   "outputs": [
    {
     "data": {
      "text/html": [
       "<div>\n",
       "<style scoped>\n",
       "    .dataframe tbody tr th:only-of-type {\n",
       "        vertical-align: middle;\n",
       "    }\n",
       "\n",
       "    .dataframe tbody tr th {\n",
       "        vertical-align: top;\n",
       "    }\n",
       "\n",
       "    .dataframe thead th {\n",
       "        text-align: right;\n",
       "    }\n",
       "</style>\n",
       "<table border=\"1\" class=\"dataframe\">\n",
       "  <thead>\n",
       "    <tr style=\"text-align: right;\">\n",
       "      <th></th>\n",
       "      <th>Date</th>\n",
       "      <th>Food shopping</th>\n",
       "      <th>Pharmacy</th>\n",
       "      <th>Travel</th>\n",
       "      <th>Miscellaneous</th>\n",
       "      <th>Description</th>\n",
       "      <th>Sum_all</th>\n",
       "    </tr>\n",
       "  </thead>\n",
       "  <tbody>\n",
       "    <tr>\n",
       "      <th>count</th>\n",
       "      <td>8</td>\n",
       "      <td>8</td>\n",
       "      <td>8</td>\n",
       "      <td>8</td>\n",
       "      <td>8</td>\n",
       "      <td>8</td>\n",
       "      <td>8</td>\n",
       "    </tr>\n",
       "    <tr>\n",
       "      <th>unique</th>\n",
       "      <td>8</td>\n",
       "      <td>8</td>\n",
       "      <td>3</td>\n",
       "      <td>2</td>\n",
       "      <td>1</td>\n",
       "      <td>4</td>\n",
       "      <td>8</td>\n",
       "    </tr>\n",
       "    <tr>\n",
       "      <th>top</th>\n",
       "      <td>25.10.2023</td>\n",
       "      <td>47</td>\n",
       "      <td>0</td>\n",
       "      <td>0</td>\n",
       "      <td>0</td>\n",
       "      <td>Tesco food shopping</td>\n",
       "      <td>47</td>\n",
       "    </tr>\n",
       "    <tr>\n",
       "      <th>freq</th>\n",
       "      <td>1</td>\n",
       "      <td>1</td>\n",
       "      <td>6</td>\n",
       "      <td>7</td>\n",
       "      <td>8</td>\n",
       "      <td>5</td>\n",
       "      <td>1</td>\n",
       "    </tr>\n",
       "  </tbody>\n",
       "</table>\n",
       "</div>"
      ],
      "text/plain": [
       "              Date Food shopping Pharmacy Travel Miscellaneous  \\\n",
       "count            8             8        8      8             8   \n",
       "unique           8             8        3      2             1   \n",
       "top     25.10.2023            47        0      0             0   \n",
       "freq             1             1        6      7             8   \n",
       "\n",
       "                Description Sum_all  \n",
       "count                     8       8  \n",
       "unique                    4       8  \n",
       "top     Tesco food shopping      47  \n",
       "freq                      5       1  "
      ]
     },
     "execution_count": 8,
     "metadata": {},
     "output_type": "execute_result"
    }
   ],
   "source": [
    "df.describe()"
   ]
  },
  {
   "cell_type": "markdown",
   "metadata": {},
   "source": [
    "# DATA CLEANING "
   ]
  },
  {
   "cell_type": "markdown",
   "metadata": {},
   "source": [
    "    df.isnull(): Check for missing values.\n",
    "    df.dropna(): Drop rows with missing values.\n",
    "    df.fillna(value): Fill missing values with a specified value."
   ]
  },
  {
   "cell_type": "code",
   "execution_count": 9,
   "metadata": {},
   "outputs": [
    {
     "data": {
      "text/html": [
       "<div>\n",
       "<style scoped>\n",
       "    .dataframe tbody tr th:only-of-type {\n",
       "        vertical-align: middle;\n",
       "    }\n",
       "\n",
       "    .dataframe tbody tr th {\n",
       "        vertical-align: top;\n",
       "    }\n",
       "\n",
       "    .dataframe thead th {\n",
       "        text-align: right;\n",
       "    }\n",
       "</style>\n",
       "<table border=\"1\" class=\"dataframe\">\n",
       "  <thead>\n",
       "    <tr style=\"text-align: right;\">\n",
       "      <th></th>\n",
       "      <th>Date</th>\n",
       "      <th>Food shopping</th>\n",
       "      <th>Pharmacy</th>\n",
       "      <th>Travel</th>\n",
       "      <th>Miscellaneous</th>\n",
       "      <th>Description</th>\n",
       "      <th>Sum_all</th>\n",
       "    </tr>\n",
       "  </thead>\n",
       "  <tbody>\n",
       "    <tr>\n",
       "      <th>0</th>\n",
       "      <td>False</td>\n",
       "      <td>False</td>\n",
       "      <td>False</td>\n",
       "      <td>False</td>\n",
       "      <td>False</td>\n",
       "      <td>False</td>\n",
       "      <td>False</td>\n",
       "    </tr>\n",
       "    <tr>\n",
       "      <th>1</th>\n",
       "      <td>False</td>\n",
       "      <td>False</td>\n",
       "      <td>False</td>\n",
       "      <td>False</td>\n",
       "      <td>False</td>\n",
       "      <td>False</td>\n",
       "      <td>False</td>\n",
       "    </tr>\n",
       "    <tr>\n",
       "      <th>2</th>\n",
       "      <td>False</td>\n",
       "      <td>False</td>\n",
       "      <td>False</td>\n",
       "      <td>False</td>\n",
       "      <td>False</td>\n",
       "      <td>False</td>\n",
       "      <td>False</td>\n",
       "    </tr>\n",
       "    <tr>\n",
       "      <th>3</th>\n",
       "      <td>False</td>\n",
       "      <td>False</td>\n",
       "      <td>False</td>\n",
       "      <td>False</td>\n",
       "      <td>False</td>\n",
       "      <td>False</td>\n",
       "      <td>False</td>\n",
       "    </tr>\n",
       "    <tr>\n",
       "      <th>4</th>\n",
       "      <td>False</td>\n",
       "      <td>False</td>\n",
       "      <td>False</td>\n",
       "      <td>False</td>\n",
       "      <td>False</td>\n",
       "      <td>False</td>\n",
       "      <td>False</td>\n",
       "    </tr>\n",
       "    <tr>\n",
       "      <th>5</th>\n",
       "      <td>False</td>\n",
       "      <td>False</td>\n",
       "      <td>False</td>\n",
       "      <td>False</td>\n",
       "      <td>False</td>\n",
       "      <td>False</td>\n",
       "      <td>False</td>\n",
       "    </tr>\n",
       "    <tr>\n",
       "      <th>6</th>\n",
       "      <td>False</td>\n",
       "      <td>False</td>\n",
       "      <td>False</td>\n",
       "      <td>False</td>\n",
       "      <td>False</td>\n",
       "      <td>False</td>\n",
       "      <td>False</td>\n",
       "    </tr>\n",
       "    <tr>\n",
       "      <th>7</th>\n",
       "      <td>False</td>\n",
       "      <td>False</td>\n",
       "      <td>False</td>\n",
       "      <td>False</td>\n",
       "      <td>False</td>\n",
       "      <td>False</td>\n",
       "      <td>False</td>\n",
       "    </tr>\n",
       "  </tbody>\n",
       "</table>\n",
       "</div>"
      ],
      "text/plain": [
       "    Date  Food shopping  Pharmacy  Travel  Miscellaneous  Description  Sum_all\n",
       "0  False          False     False   False          False        False    False\n",
       "1  False          False     False   False          False        False    False\n",
       "2  False          False     False   False          False        False    False\n",
       "3  False          False     False   False          False        False    False\n",
       "4  False          False     False   False          False        False    False\n",
       "5  False          False     False   False          False        False    False\n",
       "6  False          False     False   False          False        False    False\n",
       "7  False          False     False   False          False        False    False"
      ]
     },
     "execution_count": 9,
     "metadata": {},
     "output_type": "execute_result"
    }
   ],
   "source": [
    "df.isnull()"
   ]
  },
  {
   "cell_type": "code",
   "execution_count": 10,
   "metadata": {},
   "outputs": [
    {
     "data": {
      "text/html": [
       "<div>\n",
       "<style scoped>\n",
       "    .dataframe tbody tr th:only-of-type {\n",
       "        vertical-align: middle;\n",
       "    }\n",
       "\n",
       "    .dataframe tbody tr th {\n",
       "        vertical-align: top;\n",
       "    }\n",
       "\n",
       "    .dataframe thead th {\n",
       "        text-align: right;\n",
       "    }\n",
       "</style>\n",
       "<table border=\"1\" class=\"dataframe\">\n",
       "  <thead>\n",
       "    <tr style=\"text-align: right;\">\n",
       "      <th></th>\n",
       "      <th>Date</th>\n",
       "      <th>Food shopping</th>\n",
       "      <th>Pharmacy</th>\n",
       "      <th>Travel</th>\n",
       "      <th>Miscellaneous</th>\n",
       "      <th>Description</th>\n",
       "      <th>Sum_all</th>\n",
       "    </tr>\n",
       "  </thead>\n",
       "  <tbody>\n",
       "    <tr>\n",
       "      <th>0</th>\n",
       "      <td>25.10.2023</td>\n",
       "      <td>47</td>\n",
       "      <td>0</td>\n",
       "      <td>0</td>\n",
       "      <td>0</td>\n",
       "      <td>lidl</td>\n",
       "      <td>47</td>\n",
       "    </tr>\n",
       "    <tr>\n",
       "      <th>1</th>\n",
       "      <td>28.10.2023</td>\n",
       "      <td>13.85</td>\n",
       "      <td>0</td>\n",
       "      <td>0</td>\n",
       "      <td>0</td>\n",
       "      <td>Tesco food shopping</td>\n",
       "      <td>13.85</td>\n",
       "    </tr>\n",
       "    <tr>\n",
       "      <th>2</th>\n",
       "      <td>30.10.2023</td>\n",
       "      <td>32.29</td>\n",
       "      <td>0</td>\n",
       "      <td>0</td>\n",
       "      <td>0</td>\n",
       "      <td>Tesco food shopping</td>\n",
       "      <td>32.29</td>\n",
       "    </tr>\n",
       "    <tr>\n",
       "      <th>3</th>\n",
       "      <td>2.11.2023</td>\n",
       "      <td>42</td>\n",
       "      <td>0</td>\n",
       "      <td>0</td>\n",
       "      <td>0</td>\n",
       "      <td>Tesco food shopping</td>\n",
       "      <td>42</td>\n",
       "    </tr>\n",
       "    <tr>\n",
       "      <th>4</th>\n",
       "      <td>3.11.2023</td>\n",
       "      <td>31</td>\n",
       "      <td>0</td>\n",
       "      <td>0</td>\n",
       "      <td>0</td>\n",
       "      <td>Tesco food shopping</td>\n",
       "      <td>31</td>\n",
       "    </tr>\n",
       "    <tr>\n",
       "      <th>5</th>\n",
       "      <td>5.11.2023</td>\n",
       "      <td>5.97</td>\n",
       "      <td>0</td>\n",
       "      <td>0</td>\n",
       "      <td>0</td>\n",
       "      <td>food shopping</td>\n",
       "      <td>0</td>\n",
       "    </tr>\n",
       "    <tr>\n",
       "      <th>6</th>\n",
       "      <td>6.11.2023</td>\n",
       "      <td>40</td>\n",
       "      <td>3.60</td>\n",
       "      <td>1.65</td>\n",
       "      <td>0</td>\n",
       "      <td>Tesco food shopping, potraviny, VUB AS, 1.65</td>\n",
       "      <td>41.65</td>\n",
       "    </tr>\n",
       "    <tr>\n",
       "      <th>7</th>\n",
       "      <td>8.11.2023</td>\n",
       "      <td>45</td>\n",
       "      <td>7</td>\n",
       "      <td>0</td>\n",
       "      <td>0</td>\n",
       "      <td>Tesco food shopping</td>\n",
       "      <td>52</td>\n",
       "    </tr>\n",
       "  </tbody>\n",
       "</table>\n",
       "</div>"
      ],
      "text/plain": [
       "         Date Food shopping Pharmacy Travel Miscellaneous  \\\n",
       "0  25.10.2023            47        0      0             0   \n",
       "1  28.10.2023         13.85        0      0             0   \n",
       "2  30.10.2023         32.29        0      0             0   \n",
       "3   2.11.2023            42        0      0             0   \n",
       "4   3.11.2023            31        0      0             0   \n",
       "5   5.11.2023          5.97        0      0             0   \n",
       "6   6.11.2023            40     3.60   1.65             0   \n",
       "7   8.11.2023            45        7      0             0   \n",
       "\n",
       "                                    Description Sum_all  \n",
       "0                                          lidl      47  \n",
       "1                           Tesco food shopping   13.85  \n",
       "2                           Tesco food shopping   32.29  \n",
       "3                           Tesco food shopping      42  \n",
       "4                           Tesco food shopping      31  \n",
       "5                                 food shopping       0  \n",
       "6  Tesco food shopping, potraviny, VUB AS, 1.65   41.65  \n",
       "7                           Tesco food shopping      52  "
      ]
     },
     "execution_count": 10,
     "metadata": {},
     "output_type": "execute_result"
    }
   ],
   "source": [
    "df.dropna()"
   ]
  },
  {
   "cell_type": "code",
   "execution_count": 11,
   "metadata": {},
   "outputs": [
    {
     "data": {
      "text/html": [
       "<div>\n",
       "<style scoped>\n",
       "    .dataframe tbody tr th:only-of-type {\n",
       "        vertical-align: middle;\n",
       "    }\n",
       "\n",
       "    .dataframe tbody tr th {\n",
       "        vertical-align: top;\n",
       "    }\n",
       "\n",
       "    .dataframe thead th {\n",
       "        text-align: right;\n",
       "    }\n",
       "</style>\n",
       "<table border=\"1\" class=\"dataframe\">\n",
       "  <thead>\n",
       "    <tr style=\"text-align: right;\">\n",
       "      <th></th>\n",
       "      <th>Date</th>\n",
       "      <th>Food shopping</th>\n",
       "      <th>Pharmacy</th>\n",
       "      <th>Travel</th>\n",
       "      <th>Miscellaneous</th>\n",
       "      <th>Description</th>\n",
       "      <th>Sum_all</th>\n",
       "    </tr>\n",
       "  </thead>\n",
       "  <tbody>\n",
       "    <tr>\n",
       "      <th>0</th>\n",
       "      <td>25.10.2023</td>\n",
       "      <td>47</td>\n",
       "      <td>0</td>\n",
       "      <td>0</td>\n",
       "      <td>0</td>\n",
       "      <td>lidl</td>\n",
       "      <td>47</td>\n",
       "    </tr>\n",
       "    <tr>\n",
       "      <th>1</th>\n",
       "      <td>28.10.2023</td>\n",
       "      <td>13.85</td>\n",
       "      <td>0</td>\n",
       "      <td>0</td>\n",
       "      <td>0</td>\n",
       "      <td>Tesco food shopping</td>\n",
       "      <td>13.85</td>\n",
       "    </tr>\n",
       "    <tr>\n",
       "      <th>2</th>\n",
       "      <td>30.10.2023</td>\n",
       "      <td>32.29</td>\n",
       "      <td>0</td>\n",
       "      <td>0</td>\n",
       "      <td>0</td>\n",
       "      <td>Tesco food shopping</td>\n",
       "      <td>32.29</td>\n",
       "    </tr>\n",
       "    <tr>\n",
       "      <th>3</th>\n",
       "      <td>2.11.2023</td>\n",
       "      <td>42</td>\n",
       "      <td>0</td>\n",
       "      <td>0</td>\n",
       "      <td>0</td>\n",
       "      <td>Tesco food shopping</td>\n",
       "      <td>42</td>\n",
       "    </tr>\n",
       "    <tr>\n",
       "      <th>4</th>\n",
       "      <td>3.11.2023</td>\n",
       "      <td>31</td>\n",
       "      <td>0</td>\n",
       "      <td>0</td>\n",
       "      <td>0</td>\n",
       "      <td>Tesco food shopping</td>\n",
       "      <td>31</td>\n",
       "    </tr>\n",
       "    <tr>\n",
       "      <th>5</th>\n",
       "      <td>5.11.2023</td>\n",
       "      <td>5.97</td>\n",
       "      <td>0</td>\n",
       "      <td>0</td>\n",
       "      <td>0</td>\n",
       "      <td>food shopping</td>\n",
       "      <td>0</td>\n",
       "    </tr>\n",
       "    <tr>\n",
       "      <th>6</th>\n",
       "      <td>6.11.2023</td>\n",
       "      <td>40</td>\n",
       "      <td>3.60</td>\n",
       "      <td>1.65</td>\n",
       "      <td>0</td>\n",
       "      <td>Tesco food shopping, potraviny, VUB AS, 1.65</td>\n",
       "      <td>41.65</td>\n",
       "    </tr>\n",
       "    <tr>\n",
       "      <th>7</th>\n",
       "      <td>8.11.2023</td>\n",
       "      <td>45</td>\n",
       "      <td>7</td>\n",
       "      <td>0</td>\n",
       "      <td>0</td>\n",
       "      <td>Tesco food shopping</td>\n",
       "      <td>52</td>\n",
       "    </tr>\n",
       "  </tbody>\n",
       "</table>\n",
       "</div>"
      ],
      "text/plain": [
       "         Date Food shopping Pharmacy Travel Miscellaneous  \\\n",
       "0  25.10.2023            47        0      0             0   \n",
       "1  28.10.2023         13.85        0      0             0   \n",
       "2  30.10.2023         32.29        0      0             0   \n",
       "3   2.11.2023            42        0      0             0   \n",
       "4   3.11.2023            31        0      0             0   \n",
       "5   5.11.2023          5.97        0      0             0   \n",
       "6   6.11.2023            40     3.60   1.65             0   \n",
       "7   8.11.2023            45        7      0             0   \n",
       "\n",
       "                                    Description Sum_all  \n",
       "0                                          lidl      47  \n",
       "1                           Tesco food shopping   13.85  \n",
       "2                           Tesco food shopping   32.29  \n",
       "3                           Tesco food shopping      42  \n",
       "4                           Tesco food shopping      31  \n",
       "5                                 food shopping       0  \n",
       "6  Tesco food shopping, potraviny, VUB AS, 1.65   41.65  \n",
       "7                           Tesco food shopping      52  "
      ]
     },
     "execution_count": 11,
     "metadata": {},
     "output_type": "execute_result"
    }
   ],
   "source": [
    "df.fillna(0)"
   ]
  },
  {
   "cell_type": "markdown",
   "metadata": {},
   "source": [
    "Sorting:\n",
    "\n",
    "    df.sort_values('column_name'): Sort DataFrame by values in a specific column.\n",
    "    df.sort_index(): Sort DataFrame by index."
   ]
  },
  {
   "cell_type": "markdown",
   "metadata": {},
   "source": [
    "# Converting data types"
   ]
  },
  {
   "cell_type": "code",
   "execution_count": 12,
   "metadata": {},
   "outputs": [],
   "source": [
    "# Convert 'Food shopping' column to numeric\n",
    "df['Food shopping'] = pd.to_numeric(df['Food shopping'], errors='coerce')"
   ]
  },
  {
   "cell_type": "code",
   "execution_count": 13,
   "metadata": {},
   "outputs": [],
   "source": [
    "# Sort DataFrame by 'Food shopping' column in ascending order\n",
    "df.sort_values('Food shopping', inplace=True)"
   ]
  },
  {
   "cell_type": "code",
   "execution_count": 14,
   "metadata": {},
   "outputs": [
    {
     "data": {
      "text/html": [
       "<div>\n",
       "<style scoped>\n",
       "    .dataframe tbody tr th:only-of-type {\n",
       "        vertical-align: middle;\n",
       "    }\n",
       "\n",
       "    .dataframe tbody tr th {\n",
       "        vertical-align: top;\n",
       "    }\n",
       "\n",
       "    .dataframe thead th {\n",
       "        text-align: right;\n",
       "    }\n",
       "</style>\n",
       "<table border=\"1\" class=\"dataframe\">\n",
       "  <thead>\n",
       "    <tr style=\"text-align: right;\">\n",
       "      <th></th>\n",
       "      <th>Date</th>\n",
       "      <th>Food shopping</th>\n",
       "      <th>Pharmacy</th>\n",
       "      <th>Travel</th>\n",
       "      <th>Miscellaneous</th>\n",
       "      <th>Description</th>\n",
       "      <th>Sum_all</th>\n",
       "    </tr>\n",
       "  </thead>\n",
       "  <tbody>\n",
       "    <tr>\n",
       "      <th>5</th>\n",
       "      <td>5.11.2023</td>\n",
       "      <td>5.97</td>\n",
       "      <td>0</td>\n",
       "      <td>0</td>\n",
       "      <td>0</td>\n",
       "      <td>food shopping</td>\n",
       "      <td>0</td>\n",
       "    </tr>\n",
       "    <tr>\n",
       "      <th>1</th>\n",
       "      <td>28.10.2023</td>\n",
       "      <td>13.85</td>\n",
       "      <td>0</td>\n",
       "      <td>0</td>\n",
       "      <td>0</td>\n",
       "      <td>Tesco food shopping</td>\n",
       "      <td>13.85</td>\n",
       "    </tr>\n",
       "    <tr>\n",
       "      <th>4</th>\n",
       "      <td>3.11.2023</td>\n",
       "      <td>31.00</td>\n",
       "      <td>0</td>\n",
       "      <td>0</td>\n",
       "      <td>0</td>\n",
       "      <td>Tesco food shopping</td>\n",
       "      <td>31</td>\n",
       "    </tr>\n",
       "    <tr>\n",
       "      <th>2</th>\n",
       "      <td>30.10.2023</td>\n",
       "      <td>32.29</td>\n",
       "      <td>0</td>\n",
       "      <td>0</td>\n",
       "      <td>0</td>\n",
       "      <td>Tesco food shopping</td>\n",
       "      <td>32.29</td>\n",
       "    </tr>\n",
       "    <tr>\n",
       "      <th>6</th>\n",
       "      <td>6.11.2023</td>\n",
       "      <td>40.00</td>\n",
       "      <td>3.60</td>\n",
       "      <td>1.65</td>\n",
       "      <td>0</td>\n",
       "      <td>Tesco food shopping, potraviny, VUB AS, 1.65</td>\n",
       "      <td>41.65</td>\n",
       "    </tr>\n",
       "    <tr>\n",
       "      <th>3</th>\n",
       "      <td>2.11.2023</td>\n",
       "      <td>42.00</td>\n",
       "      <td>0</td>\n",
       "      <td>0</td>\n",
       "      <td>0</td>\n",
       "      <td>Tesco food shopping</td>\n",
       "      <td>42</td>\n",
       "    </tr>\n",
       "    <tr>\n",
       "      <th>7</th>\n",
       "      <td>8.11.2023</td>\n",
       "      <td>45.00</td>\n",
       "      <td>7</td>\n",
       "      <td>0</td>\n",
       "      <td>0</td>\n",
       "      <td>Tesco food shopping</td>\n",
       "      <td>52</td>\n",
       "    </tr>\n",
       "    <tr>\n",
       "      <th>0</th>\n",
       "      <td>25.10.2023</td>\n",
       "      <td>47.00</td>\n",
       "      <td>0</td>\n",
       "      <td>0</td>\n",
       "      <td>0</td>\n",
       "      <td>lidl</td>\n",
       "      <td>47</td>\n",
       "    </tr>\n",
       "  </tbody>\n",
       "</table>\n",
       "</div>"
      ],
      "text/plain": [
       "         Date  Food shopping Pharmacy Travel Miscellaneous  \\\n",
       "5   5.11.2023           5.97        0      0             0   \n",
       "1  28.10.2023          13.85        0      0             0   \n",
       "4   3.11.2023          31.00        0      0             0   \n",
       "2  30.10.2023          32.29        0      0             0   \n",
       "6   6.11.2023          40.00     3.60   1.65             0   \n",
       "3   2.11.2023          42.00        0      0             0   \n",
       "7   8.11.2023          45.00        7      0             0   \n",
       "0  25.10.2023          47.00        0      0             0   \n",
       "\n",
       "                                    Description Sum_all  \n",
       "5                                 food shopping       0  \n",
       "1                           Tesco food shopping   13.85  \n",
       "4                           Tesco food shopping      31  \n",
       "2                           Tesco food shopping   32.29  \n",
       "6  Tesco food shopping, potraviny, VUB AS, 1.65   41.65  \n",
       "3                           Tesco food shopping      42  \n",
       "7                           Tesco food shopping      52  \n",
       "0                                          lidl      47  "
      ]
     },
     "execution_count": 14,
     "metadata": {},
     "output_type": "execute_result"
    }
   ],
   "source": [
    "df"
   ]
  },
  {
   "cell_type": "code",
   "execution_count": 15,
   "metadata": {},
   "outputs": [
    {
     "name": "stdout",
     "output_type": "stream",
     "text": [
      "         Date  Food shopping Pharmacy Travel Miscellaneous  \\\n",
      "0  25.10.2023          47.00        0      0             0   \n",
      "1  28.10.2023          13.85        0      0             0   \n",
      "2  30.10.2023          32.29        0      0             0   \n",
      "3   2.11.2023          42.00        0      0             0   \n",
      "4   3.11.2023          31.00        0      0             0   \n",
      "5   5.11.2023           5.97        0      0             0   \n",
      "6   6.11.2023          40.00     3.60   1.65             0   \n",
      "7   8.11.2023          45.00        7      0             0   \n",
      "\n",
      "                                    Description Sum_all  \n",
      "0                                          lidl      47  \n",
      "1                           Tesco food shopping   13.85  \n",
      "2                           Tesco food shopping   32.29  \n",
      "3                           Tesco food shopping      42  \n",
      "4                           Tesco food shopping      31  \n",
      "5                                 food shopping       0  \n",
      "6  Tesco food shopping, potraviny, VUB AS, 1.65   41.65  \n",
      "7                           Tesco food shopping      52  \n"
     ]
    }
   ],
   "source": [
    "# Sort DataFrame by index in ascending order\n",
    "df_sorted_index = df.sort_index()\n",
    "\n",
    "# Print the sorted DataFrame by index\n",
    "print(df_sorted_index)"
   ]
  },
  {
   "cell_type": "markdown",
   "metadata": {},
   "source": [
    "# ACCESSING & MANIPULATION OF DATA "
   ]
  },
  {
   "cell_type": "markdown",
   "metadata": {},
   "source": [
    "\n",
    "    Accessing columns: df['column_name'] or df.column_name.\n",
    "    Filtering rows: df[df['column'] > value].\n",
    "    Selecting specific rows and columns: df.loc[] and df.iloc[].\n",
    "    Adding a new column: df['new_column'] = ....\n",
    "    Applying functions to columns: df['column'].apply(function)."
   ]
  },
  {
   "cell_type": "code",
   "execution_count": 16,
   "metadata": {},
   "outputs": [
    {
     "data": {
      "text/plain": [
       "5     5.11.2023\n",
       "1    28.10.2023\n",
       "4     3.11.2023\n",
       "2    30.10.2023\n",
       "6     6.11.2023\n",
       "3     2.11.2023\n",
       "7     8.11.2023\n",
       "0    25.10.2023\n",
       "Name: Date, dtype: object"
      ]
     },
     "execution_count": 16,
     "metadata": {},
     "output_type": "execute_result"
    }
   ],
   "source": [
    "df['Date']"
   ]
  },
  {
   "cell_type": "code",
   "execution_count": 17,
   "metadata": {},
   "outputs": [
    {
     "name": "stdout",
     "output_type": "stream",
     "text": [
      "         Date  Food shopping Pharmacy Travel Miscellaneous  \\\n",
      "4   3.11.2023          31.00        0      0             0   \n",
      "2  30.10.2023          32.29        0      0             0   \n",
      "6   6.11.2023          40.00     3.60   1.65             0   \n",
      "3   2.11.2023          42.00        0      0             0   \n",
      "7   8.11.2023          45.00        7      0             0   \n",
      "0  25.10.2023          47.00        0      0             0   \n",
      "\n",
      "                                    Description  Sum_all  \n",
      "4                           Tesco food shopping    31.00  \n",
      "2                           Tesco food shopping    32.29  \n",
      "6  Tesco food shopping, potraviny, VUB AS, 1.65    41.65  \n",
      "3                           Tesco food shopping    42.00  \n",
      "7                           Tesco food shopping    52.00  \n",
      "0                                          lidl    47.00  \n"
     ]
    }
   ],
   "source": [
    "# Convert 'Sum_all' column to numeric\n",
    "df['Sum_all'] = pd.to_numeric(df['Sum_all'], errors='coerce')\n",
    "\n",
    "# Filter DataFrame where 'Sum_all' is greater than 30\n",
    "df_filtered = df[df['Sum_all'] > 30]\n",
    "\n",
    "# Print the filtered DataFrame\n",
    "print(df_filtered)"
   ]
  },
  {
   "cell_type": "code",
   "execution_count": 18,
   "metadata": {},
   "outputs": [],
   "source": [
    "#Converting columns into numerical values float64"
   ]
  },
  {
   "cell_type": "code",
   "execution_count": 19,
   "metadata": {},
   "outputs": [],
   "source": [
    "df['Travel'] = pd.to_numeric(df['Travel'], errors='coerce')\n",
    "df['Pharmacy'] = pd.to_numeric(df['Pharmacy'], errors='coerce')\n",
    "df['Miscellaneous'] = pd.to_numeric(df['Miscellaneous'], errors='coerce')"
   ]
  },
  {
   "cell_type": "code",
   "execution_count": 20,
   "metadata": {},
   "outputs": [],
   "source": [
    "#Using datetime to convert date column\n",
    "# Convert 'Date' column to datetime format\n",
    "df['Date'] = pd.to_datetime(df['Date'], format='%d.%m.%Y', errors='coerce')"
   ]
  },
  {
   "cell_type": "code",
   "execution_count": 21,
   "metadata": {},
   "outputs": [
    {
     "name": "stdout",
     "output_type": "stream",
     "text": [
      "<class 'pandas.core.frame.DataFrame'>\n",
      "Int64Index: 8 entries, 5 to 0\n",
      "Data columns (total 7 columns):\n",
      " #   Column         Non-Null Count  Dtype         \n",
      "---  ------         --------------  -----         \n",
      " 0   Date           8 non-null      datetime64[ns]\n",
      " 1   Food shopping  8 non-null      float64       \n",
      " 2   Pharmacy       8 non-null      float64       \n",
      " 3   Travel         8 non-null      float64       \n",
      " 4   Miscellaneous  8 non-null      int64         \n",
      " 5   Description    8 non-null      object        \n",
      " 6   Sum_all        8 non-null      float64       \n",
      "dtypes: datetime64[ns](1), float64(4), int64(1), object(1)\n",
      "memory usage: 512.0+ bytes\n"
     ]
    }
   ],
   "source": [
    "df.info()"
   ]
  },
  {
   "cell_type": "code",
   "execution_count": 22,
   "metadata": {},
   "outputs": [
    {
     "data": {
      "text/html": [
       "<div>\n",
       "<style scoped>\n",
       "    .dataframe tbody tr th:only-of-type {\n",
       "        vertical-align: middle;\n",
       "    }\n",
       "\n",
       "    .dataframe tbody tr th {\n",
       "        vertical-align: top;\n",
       "    }\n",
       "\n",
       "    .dataframe thead th {\n",
       "        text-align: right;\n",
       "    }\n",
       "</style>\n",
       "<table border=\"1\" class=\"dataframe\">\n",
       "  <thead>\n",
       "    <tr style=\"text-align: right;\">\n",
       "      <th></th>\n",
       "      <th>Date</th>\n",
       "      <th>Food shopping</th>\n",
       "      <th>Pharmacy</th>\n",
       "      <th>Travel</th>\n",
       "      <th>Miscellaneous</th>\n",
       "      <th>Description</th>\n",
       "      <th>Sum_all</th>\n",
       "    </tr>\n",
       "  </thead>\n",
       "  <tbody>\n",
       "    <tr>\n",
       "      <th>0</th>\n",
       "      <td>2023-10-25</td>\n",
       "      <td>47.00</td>\n",
       "      <td>0.0</td>\n",
       "      <td>0.00</td>\n",
       "      <td>0</td>\n",
       "      <td>lidl</td>\n",
       "      <td>47.00</td>\n",
       "    </tr>\n",
       "    <tr>\n",
       "      <th>1</th>\n",
       "      <td>2023-10-28</td>\n",
       "      <td>13.85</td>\n",
       "      <td>0.0</td>\n",
       "      <td>0.00</td>\n",
       "      <td>0</td>\n",
       "      <td>Tesco food shopping</td>\n",
       "      <td>13.85</td>\n",
       "    </tr>\n",
       "    <tr>\n",
       "      <th>2</th>\n",
       "      <td>2023-10-30</td>\n",
       "      <td>32.29</td>\n",
       "      <td>0.0</td>\n",
       "      <td>0.00</td>\n",
       "      <td>0</td>\n",
       "      <td>Tesco food shopping</td>\n",
       "      <td>32.29</td>\n",
       "    </tr>\n",
       "    <tr>\n",
       "      <th>3</th>\n",
       "      <td>2023-11-02</td>\n",
       "      <td>42.00</td>\n",
       "      <td>0.0</td>\n",
       "      <td>0.00</td>\n",
       "      <td>0</td>\n",
       "      <td>Tesco food shopping</td>\n",
       "      <td>42.00</td>\n",
       "    </tr>\n",
       "    <tr>\n",
       "      <th>4</th>\n",
       "      <td>2023-11-03</td>\n",
       "      <td>31.00</td>\n",
       "      <td>0.0</td>\n",
       "      <td>0.00</td>\n",
       "      <td>0</td>\n",
       "      <td>Tesco food shopping</td>\n",
       "      <td>31.00</td>\n",
       "    </tr>\n",
       "    <tr>\n",
       "      <th>5</th>\n",
       "      <td>2023-11-05</td>\n",
       "      <td>5.97</td>\n",
       "      <td>0.0</td>\n",
       "      <td>0.00</td>\n",
       "      <td>0</td>\n",
       "      <td>food shopping</td>\n",
       "      <td>0.00</td>\n",
       "    </tr>\n",
       "    <tr>\n",
       "      <th>6</th>\n",
       "      <td>2023-11-06</td>\n",
       "      <td>40.00</td>\n",
       "      <td>3.6</td>\n",
       "      <td>1.65</td>\n",
       "      <td>0</td>\n",
       "      <td>Tesco food shopping, potraviny, VUB AS, 1.65</td>\n",
       "      <td>41.65</td>\n",
       "    </tr>\n",
       "    <tr>\n",
       "      <th>7</th>\n",
       "      <td>2023-11-08</td>\n",
       "      <td>45.00</td>\n",
       "      <td>7.0</td>\n",
       "      <td>0.00</td>\n",
       "      <td>0</td>\n",
       "      <td>Tesco food shopping</td>\n",
       "      <td>52.00</td>\n",
       "    </tr>\n",
       "  </tbody>\n",
       "</table>\n",
       "</div>"
      ],
      "text/plain": [
       "        Date  Food shopping  Pharmacy  Travel  Miscellaneous  \\\n",
       "0 2023-10-25          47.00       0.0    0.00              0   \n",
       "1 2023-10-28          13.85       0.0    0.00              0   \n",
       "2 2023-10-30          32.29       0.0    0.00              0   \n",
       "3 2023-11-02          42.00       0.0    0.00              0   \n",
       "4 2023-11-03          31.00       0.0    0.00              0   \n",
       "5 2023-11-05           5.97       0.0    0.00              0   \n",
       "6 2023-11-06          40.00       3.6    1.65              0   \n",
       "7 2023-11-08          45.00       7.0    0.00              0   \n",
       "\n",
       "                                    Description  Sum_all  \n",
       "0                                          lidl    47.00  \n",
       "1                           Tesco food shopping    13.85  \n",
       "2                           Tesco food shopping    32.29  \n",
       "3                           Tesco food shopping    42.00  \n",
       "4                           Tesco food shopping    31.00  \n",
       "5                                 food shopping     0.00  \n",
       "6  Tesco food shopping, potraviny, VUB AS, 1.65    41.65  \n",
       "7                           Tesco food shopping    52.00  "
      ]
     },
     "execution_count": 22,
     "metadata": {},
     "output_type": "execute_result"
    }
   ],
   "source": [
    "#Sorting by date in ascending order\n",
    "df.sort_values('Date', ascending=True)"
   ]
  },
  {
   "cell_type": "code",
   "execution_count": 23,
   "metadata": {},
   "outputs": [
    {
     "data": {
      "text/plain": [
       "Date             2023-10-28 00:00:00\n",
       "Food shopping                  13.85\n",
       "Pharmacy                         0.0\n",
       "Travel                           0.0\n",
       "Miscellaneous                      0\n",
       "Description      Tesco food shopping\n",
       "Sum_all                        13.85\n",
       "Name: 1, dtype: object"
      ]
     },
     "execution_count": 23,
     "metadata": {},
     "output_type": "execute_result"
    }
   ],
   "source": [
    "#Selecting specific rows and columns: df.loc[] and df.iloc[] -----Showing specific data for specific row\n",
    "df.loc[1]"
   ]
  },
  {
   "cell_type": "code",
   "execution_count": 24,
   "metadata": {},
   "outputs": [],
   "source": [
    "#Adding a new column: df['new_column'] = ....\n",
    "# Add new column 'Test' and data as 1\n",
    "df['Test'] = 1"
   ]
  },
  {
   "cell_type": "code",
   "execution_count": 25,
   "metadata": {},
   "outputs": [
    {
     "data": {
      "text/html": [
       "<div>\n",
       "<style scoped>\n",
       "    .dataframe tbody tr th:only-of-type {\n",
       "        vertical-align: middle;\n",
       "    }\n",
       "\n",
       "    .dataframe tbody tr th {\n",
       "        vertical-align: top;\n",
       "    }\n",
       "\n",
       "    .dataframe thead th {\n",
       "        text-align: right;\n",
       "    }\n",
       "</style>\n",
       "<table border=\"1\" class=\"dataframe\">\n",
       "  <thead>\n",
       "    <tr style=\"text-align: right;\">\n",
       "      <th></th>\n",
       "      <th>Date</th>\n",
       "      <th>Food shopping</th>\n",
       "      <th>Pharmacy</th>\n",
       "      <th>Travel</th>\n",
       "      <th>Miscellaneous</th>\n",
       "      <th>Description</th>\n",
       "      <th>Sum_all</th>\n",
       "      <th>Test</th>\n",
       "    </tr>\n",
       "  </thead>\n",
       "  <tbody>\n",
       "    <tr>\n",
       "      <th>5</th>\n",
       "      <td>2023-11-05</td>\n",
       "      <td>5.97</td>\n",
       "      <td>0.0</td>\n",
       "      <td>0.00</td>\n",
       "      <td>0</td>\n",
       "      <td>food shopping</td>\n",
       "      <td>0.00</td>\n",
       "      <td>1</td>\n",
       "    </tr>\n",
       "    <tr>\n",
       "      <th>1</th>\n",
       "      <td>2023-10-28</td>\n",
       "      <td>13.85</td>\n",
       "      <td>0.0</td>\n",
       "      <td>0.00</td>\n",
       "      <td>0</td>\n",
       "      <td>Tesco food shopping</td>\n",
       "      <td>13.85</td>\n",
       "      <td>1</td>\n",
       "    </tr>\n",
       "    <tr>\n",
       "      <th>4</th>\n",
       "      <td>2023-11-03</td>\n",
       "      <td>31.00</td>\n",
       "      <td>0.0</td>\n",
       "      <td>0.00</td>\n",
       "      <td>0</td>\n",
       "      <td>Tesco food shopping</td>\n",
       "      <td>31.00</td>\n",
       "      <td>1</td>\n",
       "    </tr>\n",
       "    <tr>\n",
       "      <th>2</th>\n",
       "      <td>2023-10-30</td>\n",
       "      <td>32.29</td>\n",
       "      <td>0.0</td>\n",
       "      <td>0.00</td>\n",
       "      <td>0</td>\n",
       "      <td>Tesco food shopping</td>\n",
       "      <td>32.29</td>\n",
       "      <td>1</td>\n",
       "    </tr>\n",
       "    <tr>\n",
       "      <th>6</th>\n",
       "      <td>2023-11-06</td>\n",
       "      <td>40.00</td>\n",
       "      <td>3.6</td>\n",
       "      <td>1.65</td>\n",
       "      <td>0</td>\n",
       "      <td>Tesco food shopping, potraviny, VUB AS, 1.65</td>\n",
       "      <td>41.65</td>\n",
       "      <td>1</td>\n",
       "    </tr>\n",
       "    <tr>\n",
       "      <th>3</th>\n",
       "      <td>2023-11-02</td>\n",
       "      <td>42.00</td>\n",
       "      <td>0.0</td>\n",
       "      <td>0.00</td>\n",
       "      <td>0</td>\n",
       "      <td>Tesco food shopping</td>\n",
       "      <td>42.00</td>\n",
       "      <td>1</td>\n",
       "    </tr>\n",
       "    <tr>\n",
       "      <th>7</th>\n",
       "      <td>2023-11-08</td>\n",
       "      <td>45.00</td>\n",
       "      <td>7.0</td>\n",
       "      <td>0.00</td>\n",
       "      <td>0</td>\n",
       "      <td>Tesco food shopping</td>\n",
       "      <td>52.00</td>\n",
       "      <td>1</td>\n",
       "    </tr>\n",
       "    <tr>\n",
       "      <th>0</th>\n",
       "      <td>2023-10-25</td>\n",
       "      <td>47.00</td>\n",
       "      <td>0.0</td>\n",
       "      <td>0.00</td>\n",
       "      <td>0</td>\n",
       "      <td>lidl</td>\n",
       "      <td>47.00</td>\n",
       "      <td>1</td>\n",
       "    </tr>\n",
       "  </tbody>\n",
       "</table>\n",
       "</div>"
      ],
      "text/plain": [
       "        Date  Food shopping  Pharmacy  Travel  Miscellaneous  \\\n",
       "5 2023-11-05           5.97       0.0    0.00              0   \n",
       "1 2023-10-28          13.85       0.0    0.00              0   \n",
       "4 2023-11-03          31.00       0.0    0.00              0   \n",
       "2 2023-10-30          32.29       0.0    0.00              0   \n",
       "6 2023-11-06          40.00       3.6    1.65              0   \n",
       "3 2023-11-02          42.00       0.0    0.00              0   \n",
       "7 2023-11-08          45.00       7.0    0.00              0   \n",
       "0 2023-10-25          47.00       0.0    0.00              0   \n",
       "\n",
       "                                    Description  Sum_all  Test  \n",
       "5                                 food shopping     0.00     1  \n",
       "1                           Tesco food shopping    13.85     1  \n",
       "4                           Tesco food shopping    31.00     1  \n",
       "2                           Tesco food shopping    32.29     1  \n",
       "6  Tesco food shopping, potraviny, VUB AS, 1.65    41.65     1  \n",
       "3                           Tesco food shopping    42.00     1  \n",
       "7                           Tesco food shopping    52.00     1  \n",
       "0                                          lidl    47.00     1  "
      ]
     },
     "execution_count": 25,
     "metadata": {},
     "output_type": "execute_result"
    }
   ],
   "source": [
    "df"
   ]
  },
  {
   "cell_type": "markdown",
   "metadata": {},
   "source": [
    "\n",
    "# GROUPING AND AGGREGATION "
   ]
  },
  {
   "cell_type": "markdown",
   "metadata": {},
   "source": [
    "\n",
    "    df.groupby('column_name').agg({'other_column': 'sum'}): Group by a column and perform aggregation."
   ]
  },
  {
   "cell_type": "code",
   "execution_count": 26,
   "metadata": {},
   "outputs": [
    {
     "data": {
      "text/html": [
       "<div>\n",
       "<style scoped>\n",
       "    .dataframe tbody tr th:only-of-type {\n",
       "        vertical-align: middle;\n",
       "    }\n",
       "\n",
       "    .dataframe tbody tr th {\n",
       "        vertical-align: top;\n",
       "    }\n",
       "\n",
       "    .dataframe thead th {\n",
       "        text-align: right;\n",
       "    }\n",
       "</style>\n",
       "<table border=\"1\" class=\"dataframe\">\n",
       "  <thead>\n",
       "    <tr style=\"text-align: right;\">\n",
       "      <th></th>\n",
       "      <th>Food shopping</th>\n",
       "    </tr>\n",
       "    <tr>\n",
       "      <th>Date</th>\n",
       "      <th></th>\n",
       "    </tr>\n",
       "  </thead>\n",
       "  <tbody>\n",
       "    <tr>\n",
       "      <th>2023-10-25</th>\n",
       "      <td>47.00</td>\n",
       "    </tr>\n",
       "    <tr>\n",
       "      <th>2023-10-28</th>\n",
       "      <td>13.85</td>\n",
       "    </tr>\n",
       "    <tr>\n",
       "      <th>2023-10-30</th>\n",
       "      <td>32.29</td>\n",
       "    </tr>\n",
       "    <tr>\n",
       "      <th>2023-11-02</th>\n",
       "      <td>42.00</td>\n",
       "    </tr>\n",
       "    <tr>\n",
       "      <th>2023-11-03</th>\n",
       "      <td>31.00</td>\n",
       "    </tr>\n",
       "    <tr>\n",
       "      <th>2023-11-05</th>\n",
       "      <td>5.97</td>\n",
       "    </tr>\n",
       "    <tr>\n",
       "      <th>2023-11-06</th>\n",
       "      <td>40.00</td>\n",
       "    </tr>\n",
       "    <tr>\n",
       "      <th>2023-11-08</th>\n",
       "      <td>45.00</td>\n",
       "    </tr>\n",
       "  </tbody>\n",
       "</table>\n",
       "</div>"
      ],
      "text/plain": [
       "            Food shopping\n",
       "Date                     \n",
       "2023-10-25          47.00\n",
       "2023-10-28          13.85\n",
       "2023-10-30          32.29\n",
       "2023-11-02          42.00\n",
       "2023-11-03          31.00\n",
       "2023-11-05           5.97\n",
       "2023-11-06          40.00\n",
       "2023-11-08          45.00"
      ]
     },
     "execution_count": 26,
     "metadata": {},
     "output_type": "execute_result"
    }
   ],
   "source": [
    "df.groupby('Date').agg({'Food shopping': 'sum'})   #group by date and sum of the food shopping"
   ]
  },
  {
   "cell_type": "markdown",
   "metadata": {},
   "source": [
    "# STATISTICAL OPERATIONS"
   ]
  },
  {
   "cell_type": "markdown",
   "metadata": {},
   "source": [
    "\n",
    "\n",
    "    df.mean(), df.median(), df.std(): Calculate mean, median, and standard deviation."
   ]
  },
  {
   "cell_type": "code",
   "execution_count": 27,
   "metadata": {},
   "outputs": [
    {
     "name": "stderr",
     "output_type": "stream",
     "text": [
      "C:\\Users\\User\\AppData\\Local\\Temp\\ipykernel_13968\\3698961737.py:1: FutureWarning: DataFrame.mean and DataFrame.median with numeric_only=None will include datetime64 and datetime64tz columns in a future version.\n",
      "  df.mean()\n",
      "C:\\Users\\User\\AppData\\Local\\Temp\\ipykernel_13968\\3698961737.py:1: FutureWarning: Dropping of nuisance columns in DataFrame reductions (with 'numeric_only=None') is deprecated; in a future version this will raise TypeError.  Select only valid columns before calling the reduction.\n",
      "  df.mean()\n"
     ]
    },
    {
     "data": {
      "text/plain": [
       "Food shopping    32.13875\n",
       "Pharmacy          1.32500\n",
       "Travel            0.20625\n",
       "Miscellaneous     0.00000\n",
       "Sum_all          32.47375\n",
       "Test              1.00000\n",
       "dtype: float64"
      ]
     },
     "execution_count": 27,
     "metadata": {},
     "output_type": "execute_result"
    }
   ],
   "source": [
    "df.mean()"
   ]
  },
  {
   "cell_type": "code",
   "execution_count": 28,
   "metadata": {},
   "outputs": [
    {
     "name": "stderr",
     "output_type": "stream",
     "text": [
      "C:\\Users\\User\\AppData\\Local\\Temp\\ipykernel_13968\\530051474.py:1: FutureWarning: DataFrame.mean and DataFrame.median with numeric_only=None will include datetime64 and datetime64tz columns in a future version.\n",
      "  df.median()\n",
      "C:\\Users\\User\\AppData\\Local\\Temp\\ipykernel_13968\\530051474.py:1: FutureWarning: Dropping of nuisance columns in DataFrame reductions (with 'numeric_only=None') is deprecated; in a future version this will raise TypeError.  Select only valid columns before calling the reduction.\n",
      "  df.median()\n"
     ]
    },
    {
     "data": {
      "text/plain": [
       "Food shopping    36.145\n",
       "Pharmacy          0.000\n",
       "Travel            0.000\n",
       "Miscellaneous     0.000\n",
       "Sum_all          36.970\n",
       "Test              1.000\n",
       "dtype: float64"
      ]
     },
     "execution_count": 28,
     "metadata": {},
     "output_type": "execute_result"
    }
   ],
   "source": [
    "df.median()"
   ]
  },
  {
   "cell_type": "code",
   "execution_count": 29,
   "metadata": {},
   "outputs": [
    {
     "name": "stderr",
     "output_type": "stream",
     "text": [
      "C:\\Users\\User\\AppData\\Local\\Temp\\ipykernel_13968\\3390915376.py:1: FutureWarning: Dropping of nuisance columns in DataFrame reductions (with 'numeric_only=None') is deprecated; in a future version this will raise TypeError.  Select only valid columns before calling the reduction.\n",
      "  df.std()\n"
     ]
    },
    {
     "data": {
      "text/plain": [
       "Date             4 days 18:33:45.078910443\n",
       "Food shopping                    14.956668\n",
       "Pharmacy                          2.616295\n",
       "Travel                            0.583363\n",
       "Miscellaneous                          0.0\n",
       "Sum_all                          17.610198\n",
       "Test                                   0.0\n",
       "dtype: object"
      ]
     },
     "execution_count": 29,
     "metadata": {},
     "output_type": "execute_result"
    }
   ],
   "source": [
    "df.std()"
   ]
  },
  {
   "cell_type": "markdown",
   "metadata": {},
   "source": [
    "# SAVING DATA INTO DIFFERENT DATA-TYPE FILES"
   ]
  },
  {
   "cell_type": "markdown",
   "metadata": {},
   "source": [
    "\n",
    "\n",
    "    df.to_csv('file.csv', index=False): Save DataFrame to a CSV file.\n",
    "    df.to_excel('file.xlsx', index=False): Save DataFrame to an Excel file.\n",
    "    df.to_sql('table_name', connection_object): Write DataFrame to a SQL database."
   ]
  },
  {
   "cell_type": "code",
   "execution_count": 30,
   "metadata": {},
   "outputs": [],
   "source": [
    "df.to_csv('pandas_expences.csv', index=False)"
   ]
  },
  {
   "cell_type": "code",
   "execution_count": 35,
   "metadata": {},
   "outputs": [],
   "source": [
    "df.to_excel('pandas_expences.xlsx', index=False) #---------------------------------try on local version not on internet jupiter notebook version"
   ]
  },
  {
   "cell_type": "markdown",
   "metadata": {},
   "source": [
    "Saving file into sql file locally"
   ]
  },
  {
   "cell_type": "code",
   "execution_count": 39,
   "metadata": {},
   "outputs": [],
   "source": [
    "from sqlalchemy import create_engine"
   ]
  },
  {
   "cell_type": "code",
   "execution_count": 40,
   "metadata": {},
   "outputs": [],
   "source": [
    "# Specify the SQLite file path\n",
    "sqlite_file_path = 'slovakia_spendings' "
   ]
  },
  {
   "cell_type": "code",
   "execution_count": 44,
   "metadata": {},
   "outputs": [
    {
     "name": "stdout",
     "output_type": "stream",
     "text": [
      "DataFrame saved to C:\\Users\\User\\Desktop\\SK_SPENDINGS.db\n"
     ]
    }
   ],
   "source": [
    "# Specify the SQLite file path without \".sql\" extension\n",
    "sqlite_file_path = r'C:\\Users\\User\\Desktop\\SK_SPENDINGS.db'  # Use \"r\" before the string to interpret it as a raw string\n",
    "#This line defines the variable sqlite_file_path and sets it to the file path where you want to \n",
    "#save your SQLite database file. The r before the string indicates a raw string literal, which is used to \n",
    "#interpret the backslashes in the path as literal backslashes and not as escape characters.\n",
    "\n",
    "# Create an SQLite engine\n",
    "engine = create_engine(f'sqlite:///{sqlite_file_path}')\n",
    "#Here, an SQLite engine is created using the create_engine function from SQLAlchemy. The engine is a connection \n",
    "#to the database. The f-string is used to insert the value of sqlite_file_path into the connection string. \n",
    "#The resulting connection string will look like 'sqlite:///C:\\Users\\User\\Desktop\\SK_SPENDINGS.db'.\n",
    "\n",
    "# Save DataFrame to the SQLite file\n",
    "df.to_sql('pandas_expenses_sql', engine, index=False, if_exists='replace')\n",
    "#The to_sql method is used to save the DataFrame (df) to the SQLite file. The parameters are as follows:\n",
    "\n",
    "    #'pandas_expenses_sql': Name of the table to be created in the SQLite database.\n",
    "   # engine: The SQLAlchemy engine representing the SQLite database.\n",
    "   # index=False: Indicates that the DataFrame index should not be saved as a separate column in the database.\n",
    "   # if_exists='replace': Specifies that if the table already exists, it should be replaced with the new data.\n",
    "print(f'DataFrame saved to {sqlite_file_path}')"
   ]
  },
  {
   "cell_type": "markdown",
   "metadata": {},
   "source": [
    "# Merging and Concatenating:"
   ]
  },
  {
   "cell_type": "markdown",
   "metadata": {},
   "source": [
    "    pd.concat([df1, df2]): Concatenate DataFrames.\n",
    "    pd.merge(df1, df2, on='key'): Merge DataFrames on a specific column."
   ]
  },
  {
   "cell_type": "code",
   "execution_count": 57,
   "metadata": {},
   "outputs": [],
   "source": [
    "# Assuming df is your DataFrame   #devide dataframes into 2 different dataframes otherwise you need to create a new dataframe\n",
    "df1 = df[['Date', 'Food shopping','Travel']]\n",
    "df2 = df[['Date', 'Pharmacy']]\n",
    "\n",
    "# Merge DataFrames based on the 'Date' column\n",
    "merged_df = pd.merge(df1, df2, on='Date', how='inner')\n"
   ]
  },
  {
   "cell_type": "code",
   "execution_count": 58,
   "metadata": {},
   "outputs": [
    {
     "data": {
      "text/html": [
       "<div>\n",
       "<style scoped>\n",
       "    .dataframe tbody tr th:only-of-type {\n",
       "        vertical-align: middle;\n",
       "    }\n",
       "\n",
       "    .dataframe tbody tr th {\n",
       "        vertical-align: top;\n",
       "    }\n",
       "\n",
       "    .dataframe thead th {\n",
       "        text-align: right;\n",
       "    }\n",
       "</style>\n",
       "<table border=\"1\" class=\"dataframe\">\n",
       "  <thead>\n",
       "    <tr style=\"text-align: right;\">\n",
       "      <th></th>\n",
       "      <th>Date</th>\n",
       "      <th>Food shopping</th>\n",
       "      <th>Travel</th>\n",
       "      <th>Pharmacy</th>\n",
       "    </tr>\n",
       "  </thead>\n",
       "  <tbody>\n",
       "    <tr>\n",
       "      <th>0</th>\n",
       "      <td>2023-11-05</td>\n",
       "      <td>5.97</td>\n",
       "      <td>0.00</td>\n",
       "      <td>0.0</td>\n",
       "    </tr>\n",
       "    <tr>\n",
       "      <th>1</th>\n",
       "      <td>2023-10-28</td>\n",
       "      <td>13.85</td>\n",
       "      <td>0.00</td>\n",
       "      <td>0.0</td>\n",
       "    </tr>\n",
       "    <tr>\n",
       "      <th>2</th>\n",
       "      <td>2023-11-03</td>\n",
       "      <td>31.00</td>\n",
       "      <td>0.00</td>\n",
       "      <td>0.0</td>\n",
       "    </tr>\n",
       "    <tr>\n",
       "      <th>3</th>\n",
       "      <td>2023-10-30</td>\n",
       "      <td>32.29</td>\n",
       "      <td>0.00</td>\n",
       "      <td>0.0</td>\n",
       "    </tr>\n",
       "    <tr>\n",
       "      <th>4</th>\n",
       "      <td>2023-11-06</td>\n",
       "      <td>40.00</td>\n",
       "      <td>1.65</td>\n",
       "      <td>3.6</td>\n",
       "    </tr>\n",
       "    <tr>\n",
       "      <th>5</th>\n",
       "      <td>2023-11-02</td>\n",
       "      <td>42.00</td>\n",
       "      <td>0.00</td>\n",
       "      <td>0.0</td>\n",
       "    </tr>\n",
       "    <tr>\n",
       "      <th>6</th>\n",
       "      <td>2023-11-08</td>\n",
       "      <td>45.00</td>\n",
       "      <td>0.00</td>\n",
       "      <td>7.0</td>\n",
       "    </tr>\n",
       "    <tr>\n",
       "      <th>7</th>\n",
       "      <td>2023-10-25</td>\n",
       "      <td>47.00</td>\n",
       "      <td>0.00</td>\n",
       "      <td>0.0</td>\n",
       "    </tr>\n",
       "  </tbody>\n",
       "</table>\n",
       "</div>"
      ],
      "text/plain": [
       "        Date  Food shopping  Travel  Pharmacy\n",
       "0 2023-11-05           5.97    0.00       0.0\n",
       "1 2023-10-28          13.85    0.00       0.0\n",
       "2 2023-11-03          31.00    0.00       0.0\n",
       "3 2023-10-30          32.29    0.00       0.0\n",
       "4 2023-11-06          40.00    1.65       3.6\n",
       "5 2023-11-02          42.00    0.00       0.0\n",
       "6 2023-11-08          45.00    0.00       7.0\n",
       "7 2023-10-25          47.00    0.00       0.0"
      ]
     },
     "execution_count": 58,
     "metadata": {},
     "output_type": "execute_result"
    }
   ],
   "source": [
    "merged_df"
   ]
  },
  {
   "cell_type": "markdown",
   "metadata": {},
   "source": [
    "# Plotting/ Data Visualization"
   ]
  },
  {
   "cell_type": "code",
   "execution_count": 60,
   "metadata": {},
   "outputs": [
    {
     "name": "stdout",
     "output_type": "stream",
     "text": [
      "Requirement already satisfied: matplotlib in d:\\anaconda\\lib\\site-packages (3.5.2)Note: you may need to restart the kernel to use updated packages.\n",
      "\n",
      "Requirement already satisfied: pillow>=6.2.0 in d:\\anaconda\\lib\\site-packages (from matplotlib) (9.2.0)\n",
      "Requirement already satisfied: numpy>=1.17 in d:\\anaconda\\lib\\site-packages (from matplotlib) (1.21.5)\n",
      "Requirement already satisfied: packaging>=20.0 in d:\\anaconda\\lib\\site-packages (from matplotlib) (21.3)\n",
      "Requirement already satisfied: python-dateutil>=2.7 in d:\\anaconda\\lib\\site-packages (from matplotlib) (2.8.2)\n",
      "Requirement already satisfied: kiwisolver>=1.0.1 in d:\\anaconda\\lib\\site-packages (from matplotlib) (1.4.2)\n",
      "Requirement already satisfied: pyparsing>=2.2.1 in d:\\anaconda\\lib\\site-packages (from matplotlib) (3.0.9)\n",
      "Requirement already satisfied: fonttools>=4.22.0 in d:\\anaconda\\lib\\site-packages (from matplotlib) (4.25.0)\n",
      "Requirement already satisfied: cycler>=0.10 in d:\\anaconda\\lib\\site-packages (from matplotlib) (0.11.0)\n",
      "Requirement already satisfied: six>=1.5 in d:\\anaconda\\lib\\site-packages (from python-dateutil>=2.7->matplotlib) (1.16.0)\n"
     ]
    }
   ],
   "source": [
    "pip install matplotlib"
   ]
  },
  {
   "cell_type": "code",
   "execution_count": 61,
   "metadata": {
    "scrolled": true
   },
   "outputs": [
    {
     "data": {
      "image/png": "[encoded data removed]",
      "text/plain": [
       "<Figure size 1000x600 with 1 Axes>"
      ]
     },
     "metadata": {},
     "output_type": "display_data"
    }
   ],
   "source": [
    "import pandas as pd\n",
    "import matplotlib.pyplot as plt\n",
    "\n",
    "# Assuming df is your DataFrame\n",
    "df['Date'] = pd.to_datetime(df['Date'], format='%d.%m.%Y')  # Convert 'Date' to datetime format if not already\n",
    "\n",
    "# Plotting\n",
    "plt.figure(figsize=(10, 6))\n",
    "\n",
    "# Plot each spending category separately\n",
    "for category in ['Food shopping', 'Pharmacy', 'Travel', 'Miscellaneous']:\n",
    "    plt.plot(df['Date'], df[category], label=category)\n",
    "\n",
    "# Customize the plot\n",
    "plt.title('Spending Over Time')\n",
    "plt.xlabel('Date')\n",
    "plt.ylabel('Amount')\n",
    "plt.legend()\n",
    "plt.grid(True)\n",
    "plt.show()\n"
   ]
  },
  {
   "cell_type": "code",
   "execution_count": 62,
   "metadata": {},
   "outputs": [
    {
     "data": {
      "image/png": "[encoded data removed]",
      "text/plain": [
       "<Figure size 1200x800 with 1 Axes>"
      ]
     },
     "metadata": {},
     "output_type": "display_data"
    }
   ],
   "source": [
    "import pandas as pd\n",
    "import matplotlib.pyplot as plt\n",
    "\n",
    "#dataframe\n",
    "df['Date'] = pd.to_datetime(df['Date'], format='%d.%m.%Y')  # Convert 'Date' to datetime format if not already\n",
    "\n",
    "# Group by Date and sum the spending for each category\n",
    "grouped_df = df.groupby('Date').agg({\n",
    "    'Food shopping': 'sum',\n",
    "    'Pharmacy': 'sum',\n",
    "    'Travel': 'sum',\n",
    "    'Miscellaneous': 'sum'\n",
    "}).reset_index()\n",
    "\n",
    "# Plotting\n",
    "plt.figure(figsize=(12, 8))\n",
    "\n",
    "# Plot each category with a different color\n",
    "bars = plt.bar(grouped_df['Date'], grouped_df['Food shopping'], color='blue', label='Food shopping')\n",
    "plt.bar(grouped_df['Date'], grouped_df['Pharmacy'], bottom=grouped_df['Food shopping'], color='orange', label='Pharmacy')\n",
    "plt.bar(grouped_df['Date'], grouped_df['Travel'], bottom=grouped_df['Food shopping'] + grouped_df['Pharmacy'], color='green', label='Travel')\n",
    "plt.bar(grouped_df['Date'], grouped_df['Miscellaneous'], bottom=grouped_df['Food shopping'] + grouped_df['Pharmacy'] + grouped_df['Travel'], color='red', label='Miscellaneous')\n",
    "\n",
    "# Display total spending on top of each bar\n",
    "for bar in bars:\n",
    "    yval = bar.get_height()\n",
    "    plt.text(bar.get_x() + bar.get_width()/2, yval + 1, round(yval, 2), ha='center', va='bottom')\n",
    "\n",
    "# Customize the plot\n",
    "plt.title('Spending Over Time (Bar Chart)')\n",
    "plt.xlabel('Date')\n",
    "plt.ylabel('Amount')\n",
    "plt.legend()\n",
    "plt.grid(axis='y', linestyle='--', alpha=0.7)\n",
    "plt.show()\n"
   ]
  },
  {
   "cell_type": "code",
   "execution_count": 64,
   "metadata": {},
   "outputs": [
    {
     "data": {
      "image/png": "[encoded data removed]",
      "text/plain": [
       "<Figure size 1000x600 with 1 Axes>"
      ]
     },
     "metadata": {},
     "output_type": "display_data"
    }
   ],
   "source": [
    "# Convert numeric columns to float (if not already) for correct summation\n",
    "numeric_columns = ['Food shopping', 'Pharmacy', 'Travel', 'Miscellaneous']\n",
    "df[numeric_columns] = df[numeric_columns].apply(pd.to_numeric, errors='coerce')\n",
    "\n",
    "# Calculate the sum of spending for each category\n",
    "sum_by_category = df[numeric_columns].sum()\n",
    "\n",
    "# Plotting\n",
    "plt.figure(figsize=(10, 6))\n",
    "\n",
    "# Create a bar chart\n",
    "sum_by_category.plot(kind='bar', color=['blue', 'orange', 'green', 'red'])\n",
    "\n",
    "# Display the values on top of the bars\n",
    "for i, value in enumerate(sum_by_category):\n",
    "    plt.text(i, value + 1, round(value, 2), ha='center', va='bottom')\n",
    "\n",
    "# Customize the plot\n",
    "plt.title('Total Spending by Category')\n",
    "plt.xlabel('Category')\n",
    "plt.ylabel('Total Amount')\n",
    "plt.xticks(rotation=45, ha='right')\n",
    "plt.grid(axis='y', linestyle='--', alpha=0.7)\n",
    "plt.show()\n"
   ]
  },
  {
   "cell_type": "markdown",
   "metadata": {},
   "source": [
    "# LOADING DATA (different files)"
   ]
  },
  {
   "cell_type": "markdown",
   "metadata": {},
   "source": [
    "    pd.read_csv(): Read data from a CSV file.\n",
    "    pd.read_excel(): Read data from an Excel file.\n",
    "    pd.read_sql(): Read data from a SQL database."
   ]
  },
  {
   "cell_type": "code",
   "execution_count": 68,
   "metadata": {
    "scrolled": true
   },
   "outputs": [
    {
     "data": {
      "text/html": [
       "<div>\n",
       "<style scoped>\n",
       "    .dataframe tbody tr th:only-of-type {\n",
       "        vertical-align: middle;\n",
       "    }\n",
       "\n",
       "    .dataframe tbody tr th {\n",
       "        vertical-align: top;\n",
       "    }\n",
       "\n",
       "    .dataframe thead th {\n",
       "        text-align: right;\n",
       "    }\n",
       "</style>\n",
       "<table border=\"1\" class=\"dataframe\">\n",
       "  <thead>\n",
       "    <tr style=\"text-align: right;\">\n",
       "      <th></th>\n",
       "      <th>Date</th>\n",
       "      <th>Food shopping</th>\n",
       "      <th>Pharmacy</th>\n",
       "      <th>Travel</th>\n",
       "      <th>Miscellaneous</th>\n",
       "      <th>Description</th>\n",
       "      <th>Sum_all</th>\n",
       "      <th>Test</th>\n",
       "    </tr>\n",
       "  </thead>\n",
       "  <tbody>\n",
       "    <tr>\n",
       "      <th>0</th>\n",
       "      <td>2023-11-05</td>\n",
       "      <td>5.97</td>\n",
       "      <td>0.0</td>\n",
       "      <td>0.00</td>\n",
       "      <td>0</td>\n",
       "      <td>food shopping</td>\n",
       "      <td>0.00</td>\n",
       "      <td>1</td>\n",
       "    </tr>\n",
       "    <tr>\n",
       "      <th>1</th>\n",
       "      <td>2023-10-28</td>\n",
       "      <td>13.85</td>\n",
       "      <td>0.0</td>\n",
       "      <td>0.00</td>\n",
       "      <td>0</td>\n",
       "      <td>Tesco food shopping</td>\n",
       "      <td>13.85</td>\n",
       "      <td>1</td>\n",
       "    </tr>\n",
       "    <tr>\n",
       "      <th>2</th>\n",
       "      <td>2023-11-03</td>\n",
       "      <td>31.00</td>\n",
       "      <td>0.0</td>\n",
       "      <td>0.00</td>\n",
       "      <td>0</td>\n",
       "      <td>Tesco food shopping</td>\n",
       "      <td>31.00</td>\n",
       "      <td>1</td>\n",
       "    </tr>\n",
       "    <tr>\n",
       "      <th>3</th>\n",
       "      <td>2023-10-30</td>\n",
       "      <td>32.29</td>\n",
       "      <td>0.0</td>\n",
       "      <td>0.00</td>\n",
       "      <td>0</td>\n",
       "      <td>Tesco food shopping</td>\n",
       "      <td>32.29</td>\n",
       "      <td>1</td>\n",
       "    </tr>\n",
       "    <tr>\n",
       "      <th>4</th>\n",
       "      <td>2023-11-06</td>\n",
       "      <td>40.00</td>\n",
       "      <td>3.6</td>\n",
       "      <td>1.65</td>\n",
       "      <td>0</td>\n",
       "      <td>Tesco food shopping, potraviny, VUB AS, 1.65</td>\n",
       "      <td>41.65</td>\n",
       "      <td>1</td>\n",
       "    </tr>\n",
       "    <tr>\n",
       "      <th>5</th>\n",
       "      <td>2023-11-02</td>\n",
       "      <td>42.00</td>\n",
       "      <td>0.0</td>\n",
       "      <td>0.00</td>\n",
       "      <td>0</td>\n",
       "      <td>Tesco food shopping</td>\n",
       "      <td>42.00</td>\n",
       "      <td>1</td>\n",
       "    </tr>\n",
       "    <tr>\n",
       "      <th>6</th>\n",
       "      <td>2023-11-08</td>\n",
       "      <td>45.00</td>\n",
       "      <td>7.0</td>\n",
       "      <td>0.00</td>\n",
       "      <td>0</td>\n",
       "      <td>Tesco food shopping</td>\n",
       "      <td>52.00</td>\n",
       "      <td>1</td>\n",
       "    </tr>\n",
       "    <tr>\n",
       "      <th>7</th>\n",
       "      <td>2023-10-25</td>\n",
       "      <td>47.00</td>\n",
       "      <td>0.0</td>\n",
       "      <td>0.00</td>\n",
       "      <td>0</td>\n",
       "      <td>lidl</td>\n",
       "      <td>47.00</td>\n",
       "      <td>1</td>\n",
       "    </tr>\n",
       "  </tbody>\n",
       "</table>\n",
       "</div>"
      ],
      "text/plain": [
       "         Date  Food shopping  Pharmacy  Travel  Miscellaneous  \\\n",
       "0  2023-11-05           5.97       0.0    0.00              0   \n",
       "1  2023-10-28          13.85       0.0    0.00              0   \n",
       "2  2023-11-03          31.00       0.0    0.00              0   \n",
       "3  2023-10-30          32.29       0.0    0.00              0   \n",
       "4  2023-11-06          40.00       3.6    1.65              0   \n",
       "5  2023-11-02          42.00       0.0    0.00              0   \n",
       "6  2023-11-08          45.00       7.0    0.00              0   \n",
       "7  2023-10-25          47.00       0.0    0.00              0   \n",
       "\n",
       "                                    Description  Sum_all  Test  \n",
       "0                                 food shopping     0.00     1  \n",
       "1                           Tesco food shopping    13.85     1  \n",
       "2                           Tesco food shopping    31.00     1  \n",
       "3                           Tesco food shopping    32.29     1  \n",
       "4  Tesco food shopping, potraviny, VUB AS, 1.65    41.65     1  \n",
       "5                           Tesco food shopping    42.00     1  \n",
       "6                           Tesco food shopping    52.00     1  \n",
       "7                                          lidl    47.00     1  "
      ]
     },
     "execution_count": 68,
     "metadata": {},
     "output_type": "execute_result"
    }
   ],
   "source": [
    "pd.read_csv('pandas_expences.csv')"
   ]
  },
  {
   "cell_type": "code",
   "execution_count": 69,
   "metadata": {},
   "outputs": [
    {
     "data": {
      "text/html": [
       "<div>\n",
       "<style scoped>\n",
       "    .dataframe tbody tr th:only-of-type {\n",
       "        vertical-align: middle;\n",
       "    }\n",
       "\n",
       "    .dataframe tbody tr th {\n",
       "        vertical-align: top;\n",
       "    }\n",
       "\n",
       "    .dataframe thead th {\n",
       "        text-align: right;\n",
       "    }\n",
       "</style>\n",
       "<table border=\"1\" class=\"dataframe\">\n",
       "  <thead>\n",
       "    <tr style=\"text-align: right;\">\n",
       "      <th></th>\n",
       "      <th>Date</th>\n",
       "      <th>Food shopping</th>\n",
       "      <th>Pharmacy</th>\n",
       "      <th>Travel</th>\n",
       "      <th>Miscellaneous</th>\n",
       "      <th>Description</th>\n",
       "      <th>Sum_all</th>\n",
       "      <th>Test</th>\n",
       "    </tr>\n",
       "  </thead>\n",
       "  <tbody>\n",
       "    <tr>\n",
       "      <th>0</th>\n",
       "      <td>2023-11-05</td>\n",
       "      <td>5.97</td>\n",
       "      <td>0.0</td>\n",
       "      <td>0.00</td>\n",
       "      <td>0</td>\n",
       "      <td>food shopping</td>\n",
       "      <td>0.00</td>\n",
       "      <td>1</td>\n",
       "    </tr>\n",
       "    <tr>\n",
       "      <th>1</th>\n",
       "      <td>2023-10-28</td>\n",
       "      <td>13.85</td>\n",
       "      <td>0.0</td>\n",
       "      <td>0.00</td>\n",
       "      <td>0</td>\n",
       "      <td>Tesco food shopping</td>\n",
       "      <td>13.85</td>\n",
       "      <td>1</td>\n",
       "    </tr>\n",
       "    <tr>\n",
       "      <th>2</th>\n",
       "      <td>2023-11-03</td>\n",
       "      <td>31.00</td>\n",
       "      <td>0.0</td>\n",
       "      <td>0.00</td>\n",
       "      <td>0</td>\n",
       "      <td>Tesco food shopping</td>\n",
       "      <td>31.00</td>\n",
       "      <td>1</td>\n",
       "    </tr>\n",
       "    <tr>\n",
       "      <th>3</th>\n",
       "      <td>2023-10-30</td>\n",
       "      <td>32.29</td>\n",
       "      <td>0.0</td>\n",
       "      <td>0.00</td>\n",
       "      <td>0</td>\n",
       "      <td>Tesco food shopping</td>\n",
       "      <td>32.29</td>\n",
       "      <td>1</td>\n",
       "    </tr>\n",
       "    <tr>\n",
       "      <th>4</th>\n",
       "      <td>2023-11-06</td>\n",
       "      <td>40.00</td>\n",
       "      <td>3.6</td>\n",
       "      <td>1.65</td>\n",
       "      <td>0</td>\n",
       "      <td>Tesco food shopping, potraviny, VUB AS, 1.65</td>\n",
       "      <td>41.65</td>\n",
       "      <td>1</td>\n",
       "    </tr>\n",
       "    <tr>\n",
       "      <th>5</th>\n",
       "      <td>2023-11-02</td>\n",
       "      <td>42.00</td>\n",
       "      <td>0.0</td>\n",
       "      <td>0.00</td>\n",
       "      <td>0</td>\n",
       "      <td>Tesco food shopping</td>\n",
       "      <td>42.00</td>\n",
       "      <td>1</td>\n",
       "    </tr>\n",
       "    <tr>\n",
       "      <th>6</th>\n",
       "      <td>2023-11-08</td>\n",
       "      <td>45.00</td>\n",
       "      <td>7.0</td>\n",
       "      <td>0.00</td>\n",
       "      <td>0</td>\n",
       "      <td>Tesco food shopping</td>\n",
       "      <td>52.00</td>\n",
       "      <td>1</td>\n",
       "    </tr>\n",
       "    <tr>\n",
       "      <th>7</th>\n",
       "      <td>2023-10-25</td>\n",
       "      <td>47.00</td>\n",
       "      <td>0.0</td>\n",
       "      <td>0.00</td>\n",
       "      <td>0</td>\n",
       "      <td>lidl</td>\n",
       "      <td>47.00</td>\n",
       "      <td>1</td>\n",
       "    </tr>\n",
       "  </tbody>\n",
       "</table>\n",
       "</div>"
      ],
      "text/plain": [
       "        Date  Food shopping  Pharmacy  Travel  Miscellaneous  \\\n",
       "0 2023-11-05           5.97       0.0    0.00              0   \n",
       "1 2023-10-28          13.85       0.0    0.00              0   \n",
       "2 2023-11-03          31.00       0.0    0.00              0   \n",
       "3 2023-10-30          32.29       0.0    0.00              0   \n",
       "4 2023-11-06          40.00       3.6    1.65              0   \n",
       "5 2023-11-02          42.00       0.0    0.00              0   \n",
       "6 2023-11-08          45.00       7.0    0.00              0   \n",
       "7 2023-10-25          47.00       0.0    0.00              0   \n",
       "\n",
       "                                    Description  Sum_all  Test  \n",
       "0                                 food shopping     0.00     1  \n",
       "1                           Tesco food shopping    13.85     1  \n",
       "2                           Tesco food shopping    31.00     1  \n",
       "3                           Tesco food shopping    32.29     1  \n",
       "4  Tesco food shopping, potraviny, VUB AS, 1.65    41.65     1  \n",
       "5                           Tesco food shopping    42.00     1  \n",
       "6                           Tesco food shopping    52.00     1  \n",
       "7                                          lidl    47.00     1  "
      ]
     },
     "execution_count": 69,
     "metadata": {},
     "output_type": "execute_result"
    }
   ],
   "source": [
    "pd.read_excel('pandas_expences.xlsx')"
   ]
  },
  {
   "cell_type": "markdown",
   "metadata": {},
   "source": [
    "LOADING SQL FILE "
   ]
  },
  {
   "cell_type": "code",
   "execution_count": 72,
   "metadata": {},
   "outputs": [
    {
     "data": {
      "text/html": [
       "<div>\n",
       "<style scoped>\n",
       "    .dataframe tbody tr th:only-of-type {\n",
       "        vertical-align: middle;\n",
       "    }\n",
       "\n",
       "    .dataframe tbody tr th {\n",
       "        vertical-align: top;\n",
       "    }\n",
       "\n",
       "    .dataframe thead th {\n",
       "        text-align: right;\n",
       "    }\n",
       "</style>\n",
       "<table border=\"1\" class=\"dataframe\">\n",
       "  <thead>\n",
       "    <tr style=\"text-align: right;\">\n",
       "      <th></th>\n",
       "      <th>Date</th>\n",
       "      <th>Food shopping</th>\n",
       "      <th>Pharmacy</th>\n",
       "      <th>Travel</th>\n",
       "      <th>Miscellaneous</th>\n",
       "      <th>Description</th>\n",
       "      <th>Sum_all</th>\n",
       "      <th>Test</th>\n",
       "    </tr>\n",
       "  </thead>\n",
       "  <tbody>\n",
       "    <tr>\n",
       "      <th>0</th>\n",
       "      <td>2023-11-05 00:00:00.000000</td>\n",
       "      <td>5.97</td>\n",
       "      <td>0.0</td>\n",
       "      <td>0.00</td>\n",
       "      <td>0</td>\n",
       "      <td>food shopping</td>\n",
       "      <td>0.00</td>\n",
       "      <td>1</td>\n",
       "    </tr>\n",
       "    <tr>\n",
       "      <th>1</th>\n",
       "      <td>2023-10-28 00:00:00.000000</td>\n",
       "      <td>13.85</td>\n",
       "      <td>0.0</td>\n",
       "      <td>0.00</td>\n",
       "      <td>0</td>\n",
       "      <td>Tesco food shopping</td>\n",
       "      <td>13.85</td>\n",
       "      <td>1</td>\n",
       "    </tr>\n",
       "    <tr>\n",
       "      <th>2</th>\n",
       "      <td>2023-11-03 00:00:00.000000</td>\n",
       "      <td>31.00</td>\n",
       "      <td>0.0</td>\n",
       "      <td>0.00</td>\n",
       "      <td>0</td>\n",
       "      <td>Tesco food shopping</td>\n",
       "      <td>31.00</td>\n",
       "      <td>1</td>\n",
       "    </tr>\n",
       "    <tr>\n",
       "      <th>3</th>\n",
       "      <td>2023-10-30 00:00:00.000000</td>\n",
       "      <td>32.29</td>\n",
       "      <td>0.0</td>\n",
       "      <td>0.00</td>\n",
       "      <td>0</td>\n",
       "      <td>Tesco food shopping</td>\n",
       "      <td>32.29</td>\n",
       "      <td>1</td>\n",
       "    </tr>\n",
       "    <tr>\n",
       "      <th>4</th>\n",
       "      <td>2023-11-06 00:00:00.000000</td>\n",
       "      <td>40.00</td>\n",
       "      <td>3.6</td>\n",
       "      <td>1.65</td>\n",
       "      <td>0</td>\n",
       "      <td>Tesco food shopping, potraviny, VUB AS, 1.65</td>\n",
       "      <td>41.65</td>\n",
       "      <td>1</td>\n",
       "    </tr>\n",
       "  </tbody>\n",
       "</table>\n",
       "</div>"
      ],
      "text/plain": [
       "                         Date  Food shopping  Pharmacy  Travel  Miscellaneous  \\\n",
       "0  2023-11-05 00:00:00.000000           5.97       0.0    0.00              0   \n",
       "1  2023-10-28 00:00:00.000000          13.85       0.0    0.00              0   \n",
       "2  2023-11-03 00:00:00.000000          31.00       0.0    0.00              0   \n",
       "3  2023-10-30 00:00:00.000000          32.29       0.0    0.00              0   \n",
       "4  2023-11-06 00:00:00.000000          40.00       3.6    1.65              0   \n",
       "\n",
       "                                    Description  Sum_all  Test  \n",
       "0                                 food shopping     0.00     1  \n",
       "1                           Tesco food shopping    13.85     1  \n",
       "2                           Tesco food shopping    31.00     1  \n",
       "3                           Tesco food shopping    32.29     1  \n",
       "4  Tesco food shopping, potraviny, VUB AS, 1.65    41.65     1  "
      ]
     },
     "execution_count": 72,
     "metadata": {},
     "output_type": "execute_result"
    }
   ],
   "source": [
    "import pandas as pd\n",
    "from sqlalchemy import create_engine\n",
    "\n",
    "# Specify the SQLite file path without \".sql\" extension\n",
    "sqlite_file_path = r'C:\\Users\\User\\Desktop\\SK_SPENDINGS.db'\n",
    "\n",
    "# Create an SQLite engine\n",
    "engine = create_engine(f'sqlite:///{sqlite_file_path}')\n",
    "\n",
    "# Load data from the SQLite database into a DataFrame\n",
    "query = 'SELECT * FROM pandas_expenses_sql'  # Change the query based on your table name or conditions\n",
    "df_loaded = pd.read_sql(query, engine)\n",
    "\n",
    "# Display the loaded DataFrame\n",
    "df_loaded.head()"
   ]
  },
  {
   "cell_type": "markdown",
   "metadata": {},
   "source": [
    "#  More advanced plotting options and customization using libraries like Matplotlib and Seaborn."
   ]
  },
  {
   "cell_type": "code",
   "execution_count": 73,
   "metadata": {},
   "outputs": [
    {
     "data": {
      "image/png": "[encoded data removed]",
      "text/plain": [
       "<Figure size 1200x800 with 1 Axes>"
      ]
     },
     "metadata": {},
     "output_type": "display_data"
    }
   ],
   "source": [
    "import pandas as pd\n",
    "import matplotlib.pyplot as plt\n",
    "import seaborn as sns\n",
    "\n",
    "# Assuming df is your DataFrame\n",
    "# Convert 'Date' column to datetime format\n",
    "df['Date'] = pd.to_datetime(df['Date'], format='%d.%m.%Y')\n",
    "\n",
    "# Set the style for Seaborn (optional)  #basically setting backgroud style, color,..\n",
    "sns.set(style=\"whitegrid\")  #sns is seaborn library for graphical use\n",
    "\n",
    "# Plotting using Matplotlib and Seaborn\n",
    "plt.figure(figsize=(12, 8))\n",
    "\n",
    "# Line plot for each spending category over time\n",
    "sns.lineplot(x='Date', y='Food shopping', data=df, label='Food shopping')\n",
    "sns.lineplot(x='Date', y='Pharmacy', data=df, label='Pharmacy')\n",
    "sns.lineplot(x='Date', y='Travel', data=df, label='Travel')\n",
    "sns.lineplot(x='Date', y='Miscellaneous', data=df, label='Miscellaneous')\n",
    "\n",
    "# Scatter plot for Sum_all over time             , hue=Description(color the point based on categ.variable)\n",
    "sns.scatterplot(x='Date', y='Sum_all', data=df, hue='Description', palette='viridis', size='Sum_all', sizes=(20, 200))\n",
    "                        #palette=...sets the palet of colors to be used for hue, sizes=(20,200)-sizes of points of parameters\n",
    "# Customize the plot\n",
    "plt.title('Spending Over Time')\n",
    "plt.xlabel('Date')\n",
    "plt.ylabel('Amount')\n",
    "plt.legend()\n",
    "plt.show()\n"
   ]
  },
  {
   "cell_type": "code",
   "execution_count": 74,
   "metadata": {},
   "outputs": [
    {
     "name": "stdout",
     "output_type": "stream",
     "text": [
      "Requirement already satisfied: matplotlib in d:\\anaconda\\lib\\site-packages (3.5.2)Note: you may need to restart the kernel to use updated packages.\n",
      "\n",
      "Requirement already satisfied: seaborn in d:\\anaconda\\lib\\site-packages (0.12.2)\n",
      "Requirement already satisfied: fonttools>=4.22.0 in d:\\anaconda\\lib\\site-packages (from matplotlib) (4.25.0)\n",
      "Requirement already satisfied: pillow>=6.2.0 in d:\\anaconda\\lib\\site-packages (from matplotlib) (9.2.0)\n",
      "Requirement already satisfied: packaging>=20.0 in d:\\anaconda\\lib\\site-packages (from matplotlib) (21.3)\n",
      "Requirement already satisfied: kiwisolver>=1.0.1 in d:\\anaconda\\lib\\site-packages (from matplotlib) (1.4.2)\n",
      "Requirement already satisfied: numpy>=1.17 in d:\\anaconda\\lib\\site-packages (from matplotlib) (1.21.5)\n",
      "Requirement already satisfied: pyparsing>=2.2.1 in d:\\anaconda\\lib\\site-packages (from matplotlib) (3.0.9)\n",
      "Requirement already satisfied: python-dateutil>=2.7 in d:\\anaconda\\lib\\site-packages (from matplotlib) (2.8.2)\n",
      "Requirement already satisfied: cycler>=0.10 in d:\\anaconda\\lib\\site-packages (from matplotlib) (0.11.0)\n",
      "Requirement already satisfied: pandas>=0.25 in d:\\anaconda\\lib\\site-packages (from seaborn) (1.4.4)\n",
      "Requirement already satisfied: pytz>=2020.1 in d:\\anaconda\\lib\\site-packages (from pandas>=0.25->seaborn) (2022.1)\n",
      "Requirement already satisfied: six>=1.5 in d:\\anaconda\\lib\\site-packages (from python-dateutil>=2.7->matplotlib) (1.16.0)\n"
     ]
    }
   ],
   "source": [
    "pip install matplotlib seaborn"
   ]
  },
  {
   "cell_type": "markdown",
   "metadata": {},
   "source": [
    "# Statistical Methods:\n",
    "\n",
    "    Hypothesis testing, correlation, and other statistical methods"
   ]
  },
  {
   "cell_type": "code",
   "execution_count": 83,
   "metadata": {},
   "outputs": [
    {
     "name": "stdout",
     "output_type": "stream",
     "text": [
      "Requirement already satisfied: scipy in d:\\anaconda\\lib\\site-packages (1.9.1)\n",
      "Requirement already satisfied: seaborn in d:\\anaconda\\lib\\site-packages (0.12.2)\n",
      "Requirement already satisfied: numpy<1.25.0,>=1.18.5 in d:\\anaconda\\lib\\site-packages (from scipy) (1.21.5)\n",
      "Requirement already satisfied: matplotlib!=3.6.1,>=3.1 in d:\\anaconda\\lib\\site-packages (from seaborn) (3.5.2)\n",
      "Requirement already satisfied: pandas>=0.25 in d:\\anaconda\\lib\\site-packages (from seaborn) (1.4.4)\n",
      "Requirement already satisfied: fonttools>=4.22.0 in d:\\anaconda\\lib\\site-packages (from matplotlib!=3.6.1,>=3.1->seaborn) (4.25.0)\n",
      "Requirement already satisfied: packaging>=20.0 in d:\\anaconda\\lib\\site-packages (from matplotlib!=3.6.1,>=3.1->seaborn) (21.3)\n",
      "Requirement already satisfied: pyparsing>=2.2.1 in d:\\anaconda\\lib\\site-packages (from matplotlib!=3.6.1,>=3.1->seaborn) (3.0.9)\n",
      "Requirement already satisfied: pillow>=6.2.0 in d:\\anaconda\\lib\\site-packages (from matplotlib!=3.6.1,>=3.1->seaborn) (9.2.0)\n",
      "Requirement already satisfied: cycler>=0.10 in d:\\anaconda\\lib\\site-packages (from matplotlib!=3.6.1,>=3.1->seaborn) (0.11.0)\n",
      "Requirement already satisfied: python-dateutil>=2.7 in d:\\anaconda\\lib\\site-packages (from matplotlib!=3.6.1,>=3.1->seaborn) (2.8.2)\n",
      "Requirement already satisfied: kiwisolver>=1.0.1 in d:\\anaconda\\lib\\site-packages (from matplotlib!=3.6.1,>=3.1->seaborn) (1.4.2)\n",
      "Requirement already satisfied: pytz>=2020.1 in d:\\anaconda\\lib\\site-packages (from pandas>=0.25->seaborn) (2022.1)\n",
      "Requirement already satisfied: six>=1.5 in d:\\anaconda\\lib\\site-packages (from python-dateutil>=2.7->matplotlib!=3.6.1,>=3.1->seaborn) (1.16.0)\n",
      "Note: you may need to restart the kernel to use updated packages.\n"
     ]
    }
   ],
   "source": [
    "pip install scipy seaborn"
   ]
  },
  {
   "cell_type": "code",
   "execution_count": 75,
   "metadata": {},
   "outputs": [],
   "source": [
    "import pandas as pd\n",
    "from scipy.stats import ttest_ind\n",
    "import seaborn as sns\n",
    "import matplotlib.pyplot as plt"
   ]
  },
  {
   "cell_type": "code",
   "execution_count": 79,
   "metadata": {},
   "outputs": [],
   "source": [
    "# Hypothesis Testing (t-test example)\n",
    "# Compare 'Food shopping' spending between two groups\n",
    "group1 = df[df['Description'] == 'lidl']['Food shopping']\n",
    "group2 = df[df['Description'] == 'Tesco food shopping']['Food shopping']"
   ]
  },
  {
   "cell_type": "markdown",
   "metadata": {},
   "source": [
    "T-Test Comparison:\n",
    "\n",
    "    The next step would typically involve conducting a t-test to compare the means of the 'Food shopping' spending between these two groups. The t-test assesses whether there is a statistically significant difference in the mean spending at 'lidl' compared to 'Tesco food shopping'."
   ]
  },
  {
   "cell_type": "code",
   "execution_count": 94,
   "metadata": {
    "scrolled": false
   },
   "outputs": [
    {
     "name": "stdout",
     "output_type": "stream",
     "text": [
      "T-Statistic: nan\n",
      "P-Value: nan\n"
     ]
    },
    {
     "name": "stderr",
     "output_type": "stream",
     "text": [
      "C:\\Users\\User\\AppData\\Local\\Temp\\ipykernel_13968\\2957102119.py:1: RuntimeWarning: Precision loss occurred in moment calculation due to catastrophic cancellation. This occurs when the data are nearly identical. Results may be unreliable.\n",
      "  t_stat, p_value = ttest_ind(group1, group2)\n"
     ]
    }
   ],
   "source": [
    "t_stat, p_value = ttest_ind(group1, group2)\n",
    "\n",
    "print(f'T-Statistic: {t_stat}')\n",
    "print(f'P-Value: {p_value}')"
   ]
  },
  {
   "cell_type": "code",
   "execution_count": 93,
   "metadata": {},
   "outputs": [
    {
     "data": {
      "image/png": "[encoded data removed]",
      "text/plain": [
       "<Figure size 1000x800 with 2 Axes>"
      ]
     },
     "metadata": {},
     "output_type": "display_data"
    }
   ],
   "source": [
    "# Correlation Analysis\n",
    "# Calculate correlation matrix and visualize it using a heatmap\n",
    "correlation_matrix = df.corr()\n",
    "\n",
    "plt.figure(figsize=(10, 8))\n",
    "sns.heatmap(correlation_matrix, annot=True, cmap='coolwarm', linewidths=.5)\n",
    "plt.title('Correlation Matrix')\n",
    "plt.show()"
   ]
  },
  {
   "cell_type": "markdown",
   "metadata": {},
   "source": [
    "    Hypothesis Testing (t-test):\n",
    "        This example compares the 'Food shopping' spending between two groups, 'lidl' and 'Tesco food shopping', using a t-test. The ttest_ind function from scipy.stats is used for this purpose.\n",
    "\n",
    "    Correlation Analysis:\n",
    "        The code calculates the correlation matrix of numerical columns in your DataFrame. The corr method from pandas is used for this. The resulting matrix is visualized using a heatmap created with seaborn."
   ]
  },
  {
   "cell_type": "markdown",
   "metadata": {},
   "source": [
    "# TIME SERIES ANALYSIS"
   ]
  },
  {
   "cell_type": "code",
   "execution_count": 110,
   "metadata": {},
   "outputs": [
    {
     "data": {
      "text/html": [
       "<div>\n",
       "<style scoped>\n",
       "    .dataframe tbody tr th:only-of-type {\n",
       "        vertical-align: middle;\n",
       "    }\n",
       "\n",
       "    .dataframe tbody tr th {\n",
       "        vertical-align: top;\n",
       "    }\n",
       "\n",
       "    .dataframe thead th {\n",
       "        text-align: right;\n",
       "    }\n",
       "</style>\n",
       "<table border=\"1\" class=\"dataframe\">\n",
       "  <thead>\n",
       "    <tr style=\"text-align: right;\">\n",
       "      <th></th>\n",
       "      <th>Food shopping</th>\n",
       "      <th>Pharmacy</th>\n",
       "      <th>Travel</th>\n",
       "      <th>Miscellaneous</th>\n",
       "      <th>Description</th>\n",
       "      <th>Sum_all</th>\n",
       "      <th>Test</th>\n",
       "    </tr>\n",
       "    <tr>\n",
       "      <th>Date</th>\n",
       "      <th></th>\n",
       "      <th></th>\n",
       "      <th></th>\n",
       "      <th></th>\n",
       "      <th></th>\n",
       "      <th></th>\n",
       "      <th></th>\n",
       "    </tr>\n",
       "  </thead>\n",
       "  <tbody>\n",
       "    <tr>\n",
       "      <th>2023-11-05</th>\n",
       "      <td>5.97</td>\n",
       "      <td>0.0</td>\n",
       "      <td>0.00</td>\n",
       "      <td>0</td>\n",
       "      <td>food shopping</td>\n",
       "      <td>0.00</td>\n",
       "      <td>1</td>\n",
       "    </tr>\n",
       "    <tr>\n",
       "      <th>2023-10-28</th>\n",
       "      <td>13.85</td>\n",
       "      <td>0.0</td>\n",
       "      <td>0.00</td>\n",
       "      <td>0</td>\n",
       "      <td>Tesco food shopping</td>\n",
       "      <td>13.85</td>\n",
       "      <td>1</td>\n",
       "    </tr>\n",
       "    <tr>\n",
       "      <th>2023-11-03</th>\n",
       "      <td>31.00</td>\n",
       "      <td>0.0</td>\n",
       "      <td>0.00</td>\n",
       "      <td>0</td>\n",
       "      <td>Tesco food shopping</td>\n",
       "      <td>31.00</td>\n",
       "      <td>1</td>\n",
       "    </tr>\n",
       "    <tr>\n",
       "      <th>2023-10-30</th>\n",
       "      <td>32.29</td>\n",
       "      <td>0.0</td>\n",
       "      <td>0.00</td>\n",
       "      <td>0</td>\n",
       "      <td>Tesco food shopping</td>\n",
       "      <td>32.29</td>\n",
       "      <td>1</td>\n",
       "    </tr>\n",
       "    <tr>\n",
       "      <th>2023-11-06</th>\n",
       "      <td>40.00</td>\n",
       "      <td>3.6</td>\n",
       "      <td>1.65</td>\n",
       "      <td>0</td>\n",
       "      <td>Tesco food shopping, potraviny, VUB AS, 1.65</td>\n",
       "      <td>41.65</td>\n",
       "      <td>1</td>\n",
       "    </tr>\n",
       "    <tr>\n",
       "      <th>2023-11-02</th>\n",
       "      <td>42.00</td>\n",
       "      <td>0.0</td>\n",
       "      <td>0.00</td>\n",
       "      <td>0</td>\n",
       "      <td>Tesco food shopping</td>\n",
       "      <td>42.00</td>\n",
       "      <td>1</td>\n",
       "    </tr>\n",
       "    <tr>\n",
       "      <th>2023-11-08</th>\n",
       "      <td>45.00</td>\n",
       "      <td>7.0</td>\n",
       "      <td>0.00</td>\n",
       "      <td>0</td>\n",
       "      <td>Tesco food shopping</td>\n",
       "      <td>52.00</td>\n",
       "      <td>1</td>\n",
       "    </tr>\n",
       "    <tr>\n",
       "      <th>2023-10-25</th>\n",
       "      <td>47.00</td>\n",
       "      <td>0.0</td>\n",
       "      <td>0.00</td>\n",
       "      <td>0</td>\n",
       "      <td>lidl</td>\n",
       "      <td>47.00</td>\n",
       "      <td>1</td>\n",
       "    </tr>\n",
       "  </tbody>\n",
       "</table>\n",
       "</div>"
      ],
      "text/plain": [
       "            Food shopping  Pharmacy  Travel  Miscellaneous  \\\n",
       "Date                                                         \n",
       "2023-11-05           5.97       0.0    0.00              0   \n",
       "2023-10-28          13.85       0.0    0.00              0   \n",
       "2023-11-03          31.00       0.0    0.00              0   \n",
       "2023-10-30          32.29       0.0    0.00              0   \n",
       "2023-11-06          40.00       3.6    1.65              0   \n",
       "2023-11-02          42.00       0.0    0.00              0   \n",
       "2023-11-08          45.00       7.0    0.00              0   \n",
       "2023-10-25          47.00       0.0    0.00              0   \n",
       "\n",
       "                                             Description  Sum_all  Test  \n",
       "Date                                                                     \n",
       "2023-11-05                                 food shopping     0.00     1  \n",
       "2023-10-28                           Tesco food shopping    13.85     1  \n",
       "2023-11-03                           Tesco food shopping    31.00     1  \n",
       "2023-10-30                           Tesco food shopping    32.29     1  \n",
       "2023-11-06  Tesco food shopping, potraviny, VUB AS, 1.65    41.65     1  \n",
       "2023-11-02                           Tesco food shopping    42.00     1  \n",
       "2023-11-08                           Tesco food shopping    52.00     1  \n",
       "2023-10-25                                          lidl    47.00     1  "
      ]
     },
     "execution_count": 110,
     "metadata": {},
     "output_type": "execute_result"
    }
   ],
   "source": [
    "df"
   ]
  },
  {
   "cell_type": "code",
   "execution_count": 112,
   "metadata": {},
   "outputs": [],
   "source": [
    "df.reset_index(inplace=True)"
   ]
  },
  {
   "cell_type": "code",
   "execution_count": 113,
   "metadata": {
    "scrolled": true
   },
   "outputs": [],
   "source": [
    "df.set_index('Date', inplace=True)"
   ]
  },
  {
   "cell_type": "code",
   "execution_count": 115,
   "metadata": {},
   "outputs": [],
   "source": [
    "df_resampled = df.resample('M').sum()\n",
    "#organize by month"
   ]
  },
  {
   "cell_type": "code",
   "execution_count": 116,
   "metadata": {},
   "outputs": [
    {
     "data": {
      "text/html": [
       "<div>\n",
       "<style scoped>\n",
       "    .dataframe tbody tr th:only-of-type {\n",
       "        vertical-align: middle;\n",
       "    }\n",
       "\n",
       "    .dataframe tbody tr th {\n",
       "        vertical-align: top;\n",
       "    }\n",
       "\n",
       "    .dataframe thead th {\n",
       "        text-align: right;\n",
       "    }\n",
       "</style>\n",
       "<table border=\"1\" class=\"dataframe\">\n",
       "  <thead>\n",
       "    <tr style=\"text-align: right;\">\n",
       "      <th></th>\n",
       "      <th>Food shopping</th>\n",
       "      <th>Pharmacy</th>\n",
       "      <th>Travel</th>\n",
       "      <th>Miscellaneous</th>\n",
       "      <th>Sum_all</th>\n",
       "      <th>Test</th>\n",
       "    </tr>\n",
       "    <tr>\n",
       "      <th>Date</th>\n",
       "      <th></th>\n",
       "      <th></th>\n",
       "      <th></th>\n",
       "      <th></th>\n",
       "      <th></th>\n",
       "      <th></th>\n",
       "    </tr>\n",
       "  </thead>\n",
       "  <tbody>\n",
       "    <tr>\n",
       "      <th>2023-10-31</th>\n",
       "      <td>93.14</td>\n",
       "      <td>0.0</td>\n",
       "      <td>0.00</td>\n",
       "      <td>0</td>\n",
       "      <td>93.14</td>\n",
       "      <td>3</td>\n",
       "    </tr>\n",
       "    <tr>\n",
       "      <th>2023-11-30</th>\n",
       "      <td>163.97</td>\n",
       "      <td>10.6</td>\n",
       "      <td>1.65</td>\n",
       "      <td>0</td>\n",
       "      <td>166.65</td>\n",
       "      <td>5</td>\n",
       "    </tr>\n",
       "  </tbody>\n",
       "</table>\n",
       "</div>"
      ],
      "text/plain": [
       "            Food shopping  Pharmacy  Travel  Miscellaneous  Sum_all  Test\n",
       "Date                                                                     \n",
       "2023-10-31          93.14       0.0    0.00              0    93.14     3\n",
       "2023-11-30         163.97      10.6    1.65              0   166.65     5"
      ]
     },
     "execution_count": 116,
     "metadata": {},
     "output_type": "execute_result"
    }
   ],
   "source": [
    "df_resampled"
   ]
  },
  {
   "cell_type": "code",
   "execution_count": 117,
   "metadata": {},
   "outputs": [
    {
     "data": {
      "image/png": "[encoded data removed]",
      "text/plain": [
       "<Figure size 1000x600 with 1 Axes>"
      ]
     },
     "metadata": {},
     "output_type": "display_data"
    }
   ],
   "source": [
    "import matplotlib.pyplot as plt\n",
    "\n",
    "df['Food shopping'].plot(figsize=(10, 6), title='Food Shopping Over Time')\n",
    "plt.xlabel('Date')\n",
    "plt.ylabel('Amount')\n",
    "plt.show()\n"
   ]
  },
  {
   "cell_type": "markdown",
   "metadata": {},
   "source": [
    "Calculate Rolling Mean or Moving Average:\n",
    "\n",
    "    Smooth out fluctuations using a rolling mean."
   ]
  },
  {
   "cell_type": "code",
   "execution_count": 118,
   "metadata": {},
   "outputs": [
    {
     "data": {
      "text/plain": [
       "Date\n",
       "2023-11-05          NaN\n",
       "2023-10-28          NaN\n",
       "2023-11-03          NaN\n",
       "2023-10-30          NaN\n",
       "2023-11-06          NaN\n",
       "2023-11-02          NaN\n",
       "2023-11-08    30.015714\n",
       "2023-10-25    35.877143\n",
       "Name: Food shopping, dtype: float64"
      ]
     },
     "execution_count": 118,
     "metadata": {},
     "output_type": "execute_result"
    }
   ],
   "source": [
    "df['Food shopping'].rolling(window=7).mean()"
   ]
  },
  {
   "cell_type": "markdown",
   "metadata": {},
   "source": [
    "Shift Time Series Data:\n",
    "\n",
    "    Shift the time series data forward or backward."
   ]
  },
  {
   "cell_type": "code",
   "execution_count": 119,
   "metadata": {},
   "outputs": [
    {
     "data": {
      "text/plain": [
       "Date\n",
       "2023-11-05      NaN\n",
       "2023-10-28     5.97\n",
       "2023-11-03    13.85\n",
       "2023-10-30    31.00\n",
       "2023-11-06    32.29\n",
       "2023-11-02    40.00\n",
       "2023-11-08    42.00\n",
       "2023-10-25    45.00\n",
       "Name: Food shopping, dtype: float64"
      ]
     },
     "execution_count": 119,
     "metadata": {},
     "output_type": "execute_result"
    }
   ],
   "source": [
    "df['Food shopping'].shift(1)  # Shift one day forward"
   ]
  },
  {
   "cell_type": "markdown",
   "metadata": {},
   "source": [
    "Calculate Time Differences:\n",
    "\n",
    "    Calculate differences between consecutive dates"
   ]
  },
  {
   "cell_type": "code",
   "execution_count": 120,
   "metadata": {},
   "outputs": [],
   "source": [
    "df['Time_diff'] = df.index.to_series().diff().dt.days"
   ]
  },
  {
   "cell_type": "markdown",
   "metadata": {},
   "source": [
    "Extract Components of DateTime:\n",
    "\n",
    "    Extract various components of the DateTime, like day, month, year, etc."
   ]
  },
  {
   "cell_type": "code",
   "execution_count": 121,
   "metadata": {},
   "outputs": [],
   "source": [
    "df['Day'] = df.index.day\n",
    "df['Month'] = df.index.month\n",
    "df['Year'] = df.index.year"
   ]
  },
  {
   "cell_type": "markdown",
   "metadata": {},
   "source": [
    "Filter Data Based on Time:\n",
    "\n",
    "    Select data for a specific time period."
   ]
  },
  {
   "cell_type": "code",
   "execution_count": 122,
   "metadata": {},
   "outputs": [
    {
     "data": {
      "text/html": [
       "<div>\n",
       "<style scoped>\n",
       "    .dataframe tbody tr th:only-of-type {\n",
       "        vertical-align: middle;\n",
       "    }\n",
       "\n",
       "    .dataframe tbody tr th {\n",
       "        vertical-align: top;\n",
       "    }\n",
       "\n",
       "    .dataframe thead th {\n",
       "        text-align: right;\n",
       "    }\n",
       "</style>\n",
       "<table border=\"1\" class=\"dataframe\">\n",
       "  <thead>\n",
       "    <tr style=\"text-align: right;\">\n",
       "      <th></th>\n",
       "      <th>Food shopping</th>\n",
       "      <th>Pharmacy</th>\n",
       "      <th>Travel</th>\n",
       "      <th>Miscellaneous</th>\n",
       "      <th>Description</th>\n",
       "      <th>Sum_all</th>\n",
       "      <th>Test</th>\n",
       "      <th>Time_diff</th>\n",
       "      <th>Day</th>\n",
       "      <th>Month</th>\n",
       "      <th>Year</th>\n",
       "    </tr>\n",
       "    <tr>\n",
       "      <th>Date</th>\n",
       "      <th></th>\n",
       "      <th></th>\n",
       "      <th></th>\n",
       "      <th></th>\n",
       "      <th></th>\n",
       "      <th></th>\n",
       "      <th></th>\n",
       "      <th></th>\n",
       "      <th></th>\n",
       "      <th></th>\n",
       "      <th></th>\n",
       "    </tr>\n",
       "  </thead>\n",
       "  <tbody>\n",
       "    <tr>\n",
       "      <th>2023-11-05</th>\n",
       "      <td>5.97</td>\n",
       "      <td>0.0</td>\n",
       "      <td>0.00</td>\n",
       "      <td>0</td>\n",
       "      <td>food shopping</td>\n",
       "      <td>0.00</td>\n",
       "      <td>1</td>\n",
       "      <td>NaN</td>\n",
       "      <td>5</td>\n",
       "      <td>11</td>\n",
       "      <td>2023</td>\n",
       "    </tr>\n",
       "    <tr>\n",
       "      <th>2023-10-28</th>\n",
       "      <td>13.85</td>\n",
       "      <td>0.0</td>\n",
       "      <td>0.00</td>\n",
       "      <td>0</td>\n",
       "      <td>Tesco food shopping</td>\n",
       "      <td>13.85</td>\n",
       "      <td>1</td>\n",
       "      <td>-8.0</td>\n",
       "      <td>28</td>\n",
       "      <td>10</td>\n",
       "      <td>2023</td>\n",
       "    </tr>\n",
       "    <tr>\n",
       "      <th>2023-11-03</th>\n",
       "      <td>31.00</td>\n",
       "      <td>0.0</td>\n",
       "      <td>0.00</td>\n",
       "      <td>0</td>\n",
       "      <td>Tesco food shopping</td>\n",
       "      <td>31.00</td>\n",
       "      <td>1</td>\n",
       "      <td>6.0</td>\n",
       "      <td>3</td>\n",
       "      <td>11</td>\n",
       "      <td>2023</td>\n",
       "    </tr>\n",
       "    <tr>\n",
       "      <th>2023-10-30</th>\n",
       "      <td>32.29</td>\n",
       "      <td>0.0</td>\n",
       "      <td>0.00</td>\n",
       "      <td>0</td>\n",
       "      <td>Tesco food shopping</td>\n",
       "      <td>32.29</td>\n",
       "      <td>1</td>\n",
       "      <td>-4.0</td>\n",
       "      <td>30</td>\n",
       "      <td>10</td>\n",
       "      <td>2023</td>\n",
       "    </tr>\n",
       "    <tr>\n",
       "      <th>2023-11-06</th>\n",
       "      <td>40.00</td>\n",
       "      <td>3.6</td>\n",
       "      <td>1.65</td>\n",
       "      <td>0</td>\n",
       "      <td>Tesco food shopping, potraviny, VUB AS, 1.65</td>\n",
       "      <td>41.65</td>\n",
       "      <td>1</td>\n",
       "      <td>7.0</td>\n",
       "      <td>6</td>\n",
       "      <td>11</td>\n",
       "      <td>2023</td>\n",
       "    </tr>\n",
       "    <tr>\n",
       "      <th>2023-11-02</th>\n",
       "      <td>42.00</td>\n",
       "      <td>0.0</td>\n",
       "      <td>0.00</td>\n",
       "      <td>0</td>\n",
       "      <td>Tesco food shopping</td>\n",
       "      <td>42.00</td>\n",
       "      <td>1</td>\n",
       "      <td>-4.0</td>\n",
       "      <td>2</td>\n",
       "      <td>11</td>\n",
       "      <td>2023</td>\n",
       "    </tr>\n",
       "    <tr>\n",
       "      <th>2023-11-08</th>\n",
       "      <td>45.00</td>\n",
       "      <td>7.0</td>\n",
       "      <td>0.00</td>\n",
       "      <td>0</td>\n",
       "      <td>Tesco food shopping</td>\n",
       "      <td>52.00</td>\n",
       "      <td>1</td>\n",
       "      <td>6.0</td>\n",
       "      <td>8</td>\n",
       "      <td>11</td>\n",
       "      <td>2023</td>\n",
       "    </tr>\n",
       "    <tr>\n",
       "      <th>2023-10-25</th>\n",
       "      <td>47.00</td>\n",
       "      <td>0.0</td>\n",
       "      <td>0.00</td>\n",
       "      <td>0</td>\n",
       "      <td>lidl</td>\n",
       "      <td>47.00</td>\n",
       "      <td>1</td>\n",
       "      <td>-14.0</td>\n",
       "      <td>25</td>\n",
       "      <td>10</td>\n",
       "      <td>2023</td>\n",
       "    </tr>\n",
       "  </tbody>\n",
       "</table>\n",
       "</div>"
      ],
      "text/plain": [
       "            Food shopping  Pharmacy  Travel  Miscellaneous  \\\n",
       "Date                                                         \n",
       "2023-11-05           5.97       0.0    0.00              0   \n",
       "2023-10-28          13.85       0.0    0.00              0   \n",
       "2023-11-03          31.00       0.0    0.00              0   \n",
       "2023-10-30          32.29       0.0    0.00              0   \n",
       "2023-11-06          40.00       3.6    1.65              0   \n",
       "2023-11-02          42.00       0.0    0.00              0   \n",
       "2023-11-08          45.00       7.0    0.00              0   \n",
       "2023-10-25          47.00       0.0    0.00              0   \n",
       "\n",
       "                                             Description  Sum_all  Test  \\\n",
       "Date                                                                      \n",
       "2023-11-05                                 food shopping     0.00     1   \n",
       "2023-10-28                           Tesco food shopping    13.85     1   \n",
       "2023-11-03                           Tesco food shopping    31.00     1   \n",
       "2023-10-30                           Tesco food shopping    32.29     1   \n",
       "2023-11-06  Tesco food shopping, potraviny, VUB AS, 1.65    41.65     1   \n",
       "2023-11-02                           Tesco food shopping    42.00     1   \n",
       "2023-11-08                           Tesco food shopping    52.00     1   \n",
       "2023-10-25                                          lidl    47.00     1   \n",
       "\n",
       "            Time_diff  Day  Month  Year  \n",
       "Date                                     \n",
       "2023-11-05        NaN    5     11  2023  \n",
       "2023-10-28       -8.0   28     10  2023  \n",
       "2023-11-03        6.0    3     11  2023  \n",
       "2023-10-30       -4.0   30     10  2023  \n",
       "2023-11-06        7.0    6     11  2023  \n",
       "2023-11-02       -4.0    2     11  2023  \n",
       "2023-11-08        6.0    8     11  2023  \n",
       "2023-10-25      -14.0   25     10  2023  "
      ]
     },
     "execution_count": 122,
     "metadata": {},
     "output_type": "execute_result"
    }
   ],
   "source": [
    "df['2023-10-25':'2023-11-08']"
   ]
  },
  {
   "cell_type": "markdown",
   "metadata": {},
   "source": [
    "# MACHINE LEARNING PART "
   ]
  },
  {
   "cell_type": "code",
   "execution_count": 127,
   "metadata": {},
   "outputs": [],
   "source": [
    "#prepare data for m.learning \n",
    "from sklearn.model_selection import train_test_split\n",
    "# Example: Handling missing values\n",
    "df.fillna(0, inplace=True)"
   ]
  },
  {
   "cell_type": "code",
   "execution_count": 124,
   "metadata": {},
   "outputs": [],
   "source": [
    "#feature engineering \n",
    "# Example: Extracting features from DateTime\n",
    "df['Day'] = df.index.day\n",
    "df['Month'] = df.index.month\n",
    "df['Year'] = df.index.year"
   ]
  },
  {
   "cell_type": "code",
   "execution_count": 128,
   "metadata": {},
   "outputs": [],
   "source": [
    "# Assuming 'Food shopping' is the target variable\n",
    "y = df['Food shopping']"
   ]
  },
  {
   "cell_type": "code",
   "execution_count": 131,
   "metadata": {},
   "outputs": [],
   "source": [
    "# Assuming other columns are features\n",
    "X = df.drop(['Food shopping', 'Description'], axis=1) "
   ]
  },
  {
   "cell_type": "code",
   "execution_count": 132,
   "metadata": {},
   "outputs": [],
   "source": [
    "# Assuming 'Test' is a column you want to exclude from features\n",
    "X = df.drop(['Food shopping', 'Description', 'Test'], axis=1)"
   ]
  },
  {
   "cell_type": "code",
   "execution_count": 133,
   "metadata": {},
   "outputs": [],
   "source": [
    "# Split the data into training and testing sets\n",
    "X_train, X_test, y_train, y_test = train_test_split(X, y, test_size=0.2, random_state=42)"
   ]
  },
  {
   "cell_type": "code",
   "execution_count": 134,
   "metadata": {},
   "outputs": [
    {
     "name": "stdout",
     "output_type": "stream",
     "text": [
      "X_train shape: (6, 8)\n",
      "X_test shape: (2, 8)\n",
      "y_train shape: (6,)\n",
      "y_test shape: (2,)\n"
     ]
    }
   ],
   "source": [
    "# Optionally, you can print the shapes of the resulting sets\n",
    "print(\"X_train shape:\", X_train.shape)\n",
    "print(\"X_test shape:\", X_test.shape)\n",
    "print(\"y_train shape:\", y_train.shape)\n",
    "print(\"y_test shape:\", y_test.shape)"
   ]
  },
  {
   "cell_type": "code",
   "execution_count": 136,
   "metadata": {},
   "outputs": [
    {
     "data": {
      "text/plain": [
       "RandomForestRegressor()"
      ]
     },
     "execution_count": 136,
     "metadata": {},
     "output_type": "execute_result"
    }
   ],
   "source": [
    "#Build a model randomforrest\n",
    "from sklearn.ensemble import RandomForestRegressor\n",
    "\n",
    "model = RandomForestRegressor()\n",
    "model.fit(X_train, y_train)"
   ]
  },
  {
   "cell_type": "code",
   "execution_count": 137,
   "metadata": {},
   "outputs": [
    {
     "name": "stdout",
     "output_type": "stream",
     "text": [
      "Mean Squared Error: 30.205577665000114\n"
     ]
    }
   ],
   "source": [
    "#Evaluate the model\n",
    "from sklearn.metrics import mean_squared_error\n",
    "\n",
    "y_pred = model.predict(X_test)\n",
    "mse = mean_squared_error(y_test, y_pred)\n",
    "print(f'Mean Squared Error: {mse}')\n"
   ]
  },
  {
   "cell_type": "code",
   "execution_count": 138,
   "metadata": {},
   "outputs": [
    {
     "name": "stderr",
     "output_type": "stream",
     "text": [
      "D:\\Anaconda\\lib\\site-packages\\sklearn\\metrics\\_regression.py:796: UndefinedMetricWarning: R^2 score is not well-defined with less than two samples.\n",
      "  warnings.warn(msg, UndefinedMetricWarning)\n",
      "D:\\Anaconda\\lib\\site-packages\\sklearn\\metrics\\_regression.py:796: UndefinedMetricWarning: R^2 score is not well-defined with less than two samples.\n",
      "  warnings.warn(msg, UndefinedMetricWarning)\n",
      "D:\\Anaconda\\lib\\site-packages\\sklearn\\metrics\\_regression.py:796: UndefinedMetricWarning: R^2 score is not well-defined with less than two samples.\n",
      "  warnings.warn(msg, UndefinedMetricWarning)\n",
      "D:\\Anaconda\\lib\\site-packages\\sklearn\\metrics\\_regression.py:796: UndefinedMetricWarning: R^2 score is not well-defined with less than two samples.\n",
      "  warnings.warn(msg, UndefinedMetricWarning)\n",
      "D:\\Anaconda\\lib\\site-packages\\sklearn\\metrics\\_regression.py:796: UndefinedMetricWarning: R^2 score is not well-defined with less than two samples.\n",
      "  warnings.warn(msg, UndefinedMetricWarning)\n",
      "D:\\Anaconda\\lib\\site-packages\\sklearn\\metrics\\_regression.py:796: UndefinedMetricWarning: R^2 score is not well-defined with less than two samples.\n",
      "  warnings.warn(msg, UndefinedMetricWarning)\n",
      "D:\\Anaconda\\lib\\site-packages\\sklearn\\metrics\\_regression.py:796: UndefinedMetricWarning: R^2 score is not well-defined with less than two samples.\n",
      "  warnings.warn(msg, UndefinedMetricWarning)\n",
      "D:\\Anaconda\\lib\\site-packages\\sklearn\\metrics\\_regression.py:796: UndefinedMetricWarning: R^2 score is not well-defined with less than two samples.\n",
      "  warnings.warn(msg, UndefinedMetricWarning)\n",
      "D:\\Anaconda\\lib\\site-packages\\sklearn\\metrics\\_regression.py:796: UndefinedMetricWarning: R^2 score is not well-defined with less than two samples.\n",
      "  warnings.warn(msg, UndefinedMetricWarning)\n",
      "D:\\Anaconda\\lib\\site-packages\\sklearn\\metrics\\_regression.py:796: UndefinedMetricWarning: R^2 score is not well-defined with less than two samples.\n",
      "  warnings.warn(msg, UndefinedMetricWarning)\n",
      "D:\\Anaconda\\lib\\site-packages\\sklearn\\metrics\\_regression.py:796: UndefinedMetricWarning: R^2 score is not well-defined with less than two samples.\n",
      "  warnings.warn(msg, UndefinedMetricWarning)\n",
      "D:\\Anaconda\\lib\\site-packages\\sklearn\\metrics\\_regression.py:796: UndefinedMetricWarning: R^2 score is not well-defined with less than two samples.\n",
      "  warnings.warn(msg, UndefinedMetricWarning)\n",
      "D:\\Anaconda\\lib\\site-packages\\sklearn\\metrics\\_regression.py:796: UndefinedMetricWarning: R^2 score is not well-defined with less than two samples.\n",
      "  warnings.warn(msg, UndefinedMetricWarning)\n",
      "D:\\Anaconda\\lib\\site-packages\\sklearn\\metrics\\_regression.py:796: UndefinedMetricWarning: R^2 score is not well-defined with less than two samples.\n",
      "  warnings.warn(msg, UndefinedMetricWarning)\n",
      "D:\\Anaconda\\lib\\site-packages\\sklearn\\metrics\\_regression.py:796: UndefinedMetricWarning: R^2 score is not well-defined with less than two samples.\n",
      "  warnings.warn(msg, UndefinedMetricWarning)\n",
      "D:\\Anaconda\\lib\\site-packages\\sklearn\\metrics\\_regression.py:796: UndefinedMetricWarning: R^2 score is not well-defined with less than two samples.\n",
      "  warnings.warn(msg, UndefinedMetricWarning)\n",
      "D:\\Anaconda\\lib\\site-packages\\sklearn\\metrics\\_regression.py:796: UndefinedMetricWarning: R^2 score is not well-defined with less than two samples.\n",
      "  warnings.warn(msg, UndefinedMetricWarning)\n",
      "D:\\Anaconda\\lib\\site-packages\\sklearn\\metrics\\_regression.py:796: UndefinedMetricWarning: R^2 score is not well-defined with less than two samples.\n",
      "  warnings.warn(msg, UndefinedMetricWarning)\n",
      "D:\\Anaconda\\lib\\site-packages\\sklearn\\metrics\\_regression.py:796: UndefinedMetricWarning: R^2 score is not well-defined with less than two samples.\n",
      "  warnings.warn(msg, UndefinedMetricWarning)\n",
      "D:\\Anaconda\\lib\\site-packages\\sklearn\\metrics\\_regression.py:796: UndefinedMetricWarning: R^2 score is not well-defined with less than two samples.\n",
      "  warnings.warn(msg, UndefinedMetricWarning)\n",
      "D:\\Anaconda\\lib\\site-packages\\sklearn\\metrics\\_regression.py:796: UndefinedMetricWarning: R^2 score is not well-defined with less than two samples.\n",
      "  warnings.warn(msg, UndefinedMetricWarning)\n",
      "D:\\Anaconda\\lib\\site-packages\\sklearn\\metrics\\_regression.py:796: UndefinedMetricWarning: R^2 score is not well-defined with less than two samples.\n",
      "  warnings.warn(msg, UndefinedMetricWarning)\n",
      "D:\\Anaconda\\lib\\site-packages\\sklearn\\metrics\\_regression.py:796: UndefinedMetricWarning: R^2 score is not well-defined with less than two samples.\n",
      "  warnings.warn(msg, UndefinedMetricWarning)\n",
      "D:\\Anaconda\\lib\\site-packages\\sklearn\\metrics\\_regression.py:796: UndefinedMetricWarning: R^2 score is not well-defined with less than two samples.\n",
      "  warnings.warn(msg, UndefinedMetricWarning)\n",
      "D:\\Anaconda\\lib\\site-packages\\sklearn\\metrics\\_regression.py:796: UndefinedMetricWarning: R^2 score is not well-defined with less than two samples.\n",
      "  warnings.warn(msg, UndefinedMetricWarning)\n",
      "D:\\Anaconda\\lib\\site-packages\\sklearn\\metrics\\_regression.py:796: UndefinedMetricWarning: R^2 score is not well-defined with less than two samples.\n",
      "  warnings.warn(msg, UndefinedMetricWarning)\n",
      "D:\\Anaconda\\lib\\site-packages\\sklearn\\metrics\\_regression.py:796: UndefinedMetricWarning: R^2 score is not well-defined with less than two samples.\n",
      "  warnings.warn(msg, UndefinedMetricWarning)\n",
      "D:\\Anaconda\\lib\\site-packages\\sklearn\\metrics\\_regression.py:796: UndefinedMetricWarning: R^2 score is not well-defined with less than two samples.\n",
      "  warnings.warn(msg, UndefinedMetricWarning)\n",
      "D:\\Anaconda\\lib\\site-packages\\sklearn\\metrics\\_regression.py:796: UndefinedMetricWarning: R^2 score is not well-defined with less than two samples.\n",
      "  warnings.warn(msg, UndefinedMetricWarning)\n",
      "D:\\Anaconda\\lib\\site-packages\\sklearn\\metrics\\_regression.py:796: UndefinedMetricWarning: R^2 score is not well-defined with less than two samples.\n",
      "  warnings.warn(msg, UndefinedMetricWarning)\n",
      "D:\\Anaconda\\lib\\site-packages\\sklearn\\metrics\\_regression.py:796: UndefinedMetricWarning: R^2 score is not well-defined with less than two samples.\n",
      "  warnings.warn(msg, UndefinedMetricWarning)\n",
      "D:\\Anaconda\\lib\\site-packages\\sklearn\\metrics\\_regression.py:796: UndefinedMetricWarning: R^2 score is not well-defined with less than two samples.\n",
      "  warnings.warn(msg, UndefinedMetricWarning)\n",
      "D:\\Anaconda\\lib\\site-packages\\sklearn\\metrics\\_regression.py:796: UndefinedMetricWarning: R^2 score is not well-defined with less than two samples.\n",
      "  warnings.warn(msg, UndefinedMetricWarning)\n",
      "D:\\Anaconda\\lib\\site-packages\\sklearn\\metrics\\_regression.py:796: UndefinedMetricWarning: R^2 score is not well-defined with less than two samples.\n",
      "  warnings.warn(msg, UndefinedMetricWarning)\n",
      "D:\\Anaconda\\lib\\site-packages\\sklearn\\metrics\\_regression.py:796: UndefinedMetricWarning: R^2 score is not well-defined with less than two samples.\n",
      "  warnings.warn(msg, UndefinedMetricWarning)\n",
      "D:\\Anaconda\\lib\\site-packages\\sklearn\\metrics\\_regression.py:796: UndefinedMetricWarning: R^2 score is not well-defined with less than two samples.\n",
      "  warnings.warn(msg, UndefinedMetricWarning)\n",
      "D:\\Anaconda\\lib\\site-packages\\sklearn\\model_selection\\_search.py:969: UserWarning: One or more of the test scores are non-finite: [nan nan nan nan nan nan nan nan nan]\n",
      "  warnings.warn(\n"
     ]
    },
    {
     "data": {
      "text/plain": [
       "GridSearchCV(cv=5, estimator=RandomForestRegressor(),\n",
       "             param_grid={'max_depth': [None, 10, 20],\n",
       "                         'n_estimators': [10, 50, 100]})"
      ]
     },
     "execution_count": 138,
     "metadata": {},
     "output_type": "execute_result"
    }
   ],
   "source": [
    "#Hyperparameter tuning\n",
    "from sklearn.model_selection import GridSearchCV\n",
    "\n",
    "param_grid = {'n_estimators': [10, 50, 100], 'max_depth': [None, 10, 20]}\n",
    "grid_search = GridSearchCV(RandomForestRegressor(), param_grid, cv=5)\n",
    "grid_search.fit(X_train, y_train)"
   ]
  },
  {
   "cell_type": "code",
   "execution_count": 140,
   "metadata": {},
   "outputs": [],
   "source": [
    "#Feature importance: (analyze the importance of different features in the model)\n",
    "feature_importances = pd.Series(model.feature_importances_, index=X_train.columns)\n",
    "feature_importances.sort_values(ascending=False, inplace=True)"
   ]
  },
  {
   "cell_type": "code",
   "execution_count": 141,
   "metadata": {},
   "outputs": [
    {
     "data": {
      "text/plain": [
       "Pipeline(steps=[('imputer', SimpleImputer()), ('scaler', StandardScaler()),\n",
       "                ('model', RandomForestRegressor())])"
      ]
     },
     "execution_count": 141,
     "metadata": {},
     "output_type": "execute_result"
    }
   ],
   "source": [
    "#Integration and Pipelines\n",
    "from sklearn.pipeline import Pipeline\n",
    "from sklearn.impute import SimpleImputer\n",
    "from sklearn.preprocessing import StandardScaler\n",
    "\n",
    "pipeline = Pipeline([\n",
    "    ('imputer', SimpleImputer(strategy='mean')),\n",
    "    ('scaler', StandardScaler()),\n",
    "    ('model', RandomForestRegressor())\n",
    "])\n",
    "\n",
    "pipeline.fit(X_train, y_train)"
   ]
  },
  {
   "cell_type": "code",
   "execution_count": null,
   "metadata": {},
   "outputs": [],
   "source": []
  }
 ],
 "metadata": {
  "kernelspec": {
   "display_name": "Python 3 (ipykernel)",
   "language": "python",
   "name": "python3"
  },
  "language_info": {
   "codemirror_mode": {
    "name": "ipython",
    "version": 3
   },
   "file_extension": ".py",
   "mimetype": "text/x-python",
   "name": "python",
   "nbconvert_exporter": "python",
   "pygments_lexer": "ipython3",
   "version": "3.9.13"
  }
 },
 "nbformat": 4,
 "nbformat_minor": 4
}
